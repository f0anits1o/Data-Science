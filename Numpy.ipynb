{
 "cells": [
  {
   "cell_type": "markdown",
   "id": "b86a318b",
   "metadata": {},
   "source": [
    "# NUMPY  QUICKSTART"
   ]
  },
  {
   "cell_type": "markdown",
   "id": "7564aaef",
   "metadata": {},
   "source": [
    "## BASICS"
   ]
  },
  {
   "cell_type": "markdown",
   "id": "f801a457",
   "metadata": {},
   "source": [
    "### Examples:"
   ]
  },
  {
   "cell_type": "code",
   "execution_count": 2,
   "id": "158746d3",
   "metadata": {},
   "outputs": [],
   "source": [
    "import numpy as np"
   ]
  },
  {
   "cell_type": "code",
   "execution_count": 2,
   "id": "7ec94744",
   "metadata": {},
   "outputs": [
    {
     "data": {
      "text/plain": [
       "array([[ 0,  1,  2,  3,  4],\n",
       "       [ 5,  6,  7,  8,  9],\n",
       "       [10, 11, 12, 13, 14]])"
      ]
     },
     "execution_count": 2,
     "metadata": {},
     "output_type": "execute_result"
    }
   ],
   "source": [
    "a = np.arange(15).reshape(3, 5)\n",
    "a"
   ]
  },
  {
   "cell_type": "code",
   "execution_count": 4,
   "id": "e0f8aa61",
   "metadata": {},
   "outputs": [
    {
     "data": {
      "text/plain": [
       "(3, 5)"
      ]
     },
     "execution_count": 4,
     "metadata": {},
     "output_type": "execute_result"
    }
   ],
   "source": [
    "a.shape"
   ]
  },
  {
   "cell_type": "code",
   "execution_count": 5,
   "id": "50e9477d",
   "metadata": {},
   "outputs": [
    {
     "data": {
      "text/plain": [
       "'int32'"
      ]
     },
     "execution_count": 5,
     "metadata": {},
     "output_type": "execute_result"
    }
   ],
   "source": [
    "a.dtype.name"
   ]
  },
  {
   "cell_type": "code",
   "execution_count": 8,
   "id": "8f23cdc7",
   "metadata": {},
   "outputs": [
    {
     "data": {
      "text/plain": [
       "4"
      ]
     },
     "execution_count": 8,
     "metadata": {},
     "output_type": "execute_result"
    }
   ],
   "source": [
    "a.itemsize"
   ]
  },
  {
   "cell_type": "code",
   "execution_count": 7,
   "id": "d9ed136e",
   "metadata": {},
   "outputs": [
    {
     "data": {
      "text/plain": [
       "15"
      ]
     },
     "execution_count": 7,
     "metadata": {},
     "output_type": "execute_result"
    }
   ],
   "source": [
    "a.size"
   ]
  },
  {
   "cell_type": "code",
   "execution_count": 9,
   "id": "e4ff7acd",
   "metadata": {},
   "outputs": [
    {
     "data": {
      "text/plain": [
       "numpy.ndarray"
      ]
     },
     "execution_count": 9,
     "metadata": {},
     "output_type": "execute_result"
    }
   ],
   "source": [
    "type(a)"
   ]
  },
  {
   "cell_type": "code",
   "execution_count": 12,
   "id": "5bbbef56",
   "metadata": {},
   "outputs": [
    {
     "data": {
      "text/plain": [
       "array([6, 7, 8])"
      ]
     },
     "execution_count": 12,
     "metadata": {},
     "output_type": "execute_result"
    }
   ],
   "source": [
    "b = np.array([6, 7, 8])\n",
    "b"
   ]
  },
  {
   "cell_type": "code",
   "execution_count": 13,
   "id": "5f1ae11d",
   "metadata": {},
   "outputs": [
    {
     "data": {
      "text/plain": [
       "numpy.ndarray"
      ]
     },
     "execution_count": 13,
     "metadata": {},
     "output_type": "execute_result"
    }
   ],
   "source": [
    "type(b)"
   ]
  },
  {
   "cell_type": "markdown",
   "id": "24848f16",
   "metadata": {},
   "source": [
    "### Array Creation"
   ]
  },
  {
   "cell_type": "code",
   "execution_count": 16,
   "id": "40a8b025",
   "metadata": {},
   "outputs": [
    {
     "data": {
      "text/plain": [
       "array([[1.5, 2. , 3. ],\n",
       "       [4. , 5. , 6. ]])"
      ]
     },
     "execution_count": 16,
     "metadata": {},
     "output_type": "execute_result"
    }
   ],
   "source": [
    "c = np.array([(1.5, 2, 3),(4, 5, 6)])\n",
    "c"
   ]
  },
  {
   "cell_type": "code",
   "execution_count": 18,
   "id": "aa8ca6d2",
   "metadata": {},
   "outputs": [
    {
     "data": {
      "text/plain": [
       "array([[1.+0.j, 2.+0.j],\n",
       "       [3.+0.j, 4.+0.j]])"
      ]
     },
     "execution_count": 18,
     "metadata": {},
     "output_type": "execute_result"
    }
   ],
   "source": [
    "b = np.array([[1, 2], [3, 4]], dtype=complex)\n",
    "b"
   ]
  },
  {
   "cell_type": "code",
   "execution_count": 19,
   "id": "49e53c81",
   "metadata": {},
   "outputs": [
    {
     "data": {
      "text/plain": [
       "array([[0., 0., 0., 0.],\n",
       "       [0., 0., 0., 0.],\n",
       "       [0., 0., 0., 0.]])"
      ]
     },
     "execution_count": 19,
     "metadata": {},
     "output_type": "execute_result"
    }
   ],
   "source": [
    "np.zeros((3, 4))"
   ]
  },
  {
   "cell_type": "code",
   "execution_count": 20,
   "id": "bcdedfaf",
   "metadata": {},
   "outputs": [
    {
     "data": {
      "text/plain": [
       "array([0.  , 0.25, 0.5 , 0.75, 1.  , 1.25, 1.5 , 1.75, 2.  ])"
      ]
     },
     "execution_count": 20,
     "metadata": {},
     "output_type": "execute_result"
    }
   ],
   "source": [
    "\n",
    "from numpy import pi\n",
    "np.linspace(0, 2, 9)"
   ]
  },
  {
   "cell_type": "code",
   "execution_count": 21,
   "id": "87c07e05",
   "metadata": {},
   "outputs": [],
   "source": [
    "x = np.linspace(0, 2*pi, 100)\n",
    "f = np.sin(x)"
   ]
  },
  {
   "cell_type": "code",
   "execution_count": 22,
   "id": "7f246001",
   "metadata": {},
   "outputs": [],
   "source": [
    "import matplotlib.pyplot as plt\n",
    "\n",
    "%matplotlib inline"
   ]
  },
  {
   "cell_type": "code",
   "execution_count": 24,
   "id": "3dd10043",
   "metadata": {},
   "outputs": [
    {
     "data": {
      "image/png": "[encoded data removed]",
      "text/plain": [
       "<Figure size 640x480 with 1 Axes>"
      ]
     },
     "metadata": {},
     "output_type": "display_data"
    }
   ],
   "source": [
    "plt.plot(x, f)\n",
    "plt.show()"
   ]
  },
  {
   "cell_type": "markdown",
   "id": "3f1986fd",
   "metadata": {},
   "source": [
    "### Printing Arrays"
   ]
  },
  {
   "cell_type": "code",
   "execution_count": 27,
   "id": "4101118b",
   "metadata": {},
   "outputs": [
    {
     "name": "stdout",
     "output_type": "stream",
     "text": [
      "[0 1 2 3 4 5]\n"
     ]
    }
   ],
   "source": [
    "a = np.arange(6)\n",
    "print(a)"
   ]
  },
  {
   "cell_type": "code",
   "execution_count": 29,
   "id": "aee84f24",
   "metadata": {},
   "outputs": [
    {
     "name": "stdout",
     "output_type": "stream",
     "text": [
      "[[ 0  1  2]\n",
      " [ 3  4  5]\n",
      " [ 6  7  8]\n",
      " [ 9 10 11]]\n"
     ]
    }
   ],
   "source": [
    "b = np.arange(12).reshape(4, 3) # 2d array\n",
    "print(b)"
   ]
  },
  {
   "cell_type": "code",
   "execution_count": 30,
   "id": "a7f558d1",
   "metadata": {},
   "outputs": [
    {
     "name": "stdout",
     "output_type": "stream",
     "text": [
      "[[[ 0  1  2  3]\n",
      "  [ 4  5  6  7]\n",
      "  [ 8  9 10 11]]\n",
      "\n",
      " [[12 13 14 15]\n",
      "  [16 17 18 19]\n",
      "  [20 21 22 23]]]\n"
     ]
    }
   ],
   "source": [
    "c = np.arange(24).reshape(2, 3, 4) # 3d array\n",
    "print(c)"
   ]
  },
  {
   "cell_type": "code",
   "execution_count": 31,
   "id": "6b0358f0",
   "metadata": {},
   "outputs": [
    {
     "name": "stdout",
     "output_type": "stream",
     "text": [
      "[   0    1    2 ... 9997 9998 9999]\n"
     ]
    }
   ],
   "source": [
    "print(np.arange(10000))"
   ]
  },
  {
   "cell_type": "code",
   "execution_count": 32,
   "id": "779ade5e",
   "metadata": {},
   "outputs": [
    {
     "name": "stdout",
     "output_type": "stream",
     "text": [
      "[[   0    1    2 ...   97   98   99]\n",
      " [ 100  101  102 ...  197  198  199]\n",
      " [ 200  201  202 ...  297  298  299]\n",
      " ...\n",
      " [9700 9701 9702 ... 9797 9798 9799]\n",
      " [9800 9801 9802 ... 9897 9898 9899]\n",
      " [9900 9901 9902 ... 9997 9998 9999]]\n"
     ]
    }
   ],
   "source": [
    "print(np.arange(10000).reshape(100, 100))"
   ]
  },
  {
   "cell_type": "markdown",
   "id": "9948b1cd",
   "metadata": {},
   "source": [
    "### Basic Operatiions"
   ]
  },
  {
   "cell_type": "code",
   "execution_count": 34,
   "id": "9a0b299a",
   "metadata": {},
   "outputs": [
    {
     "data": {
      "text/plain": [
       "array([0, 1, 2, 3])"
      ]
     },
     "execution_count": 34,
     "metadata": {},
     "output_type": "execute_result"
    }
   ],
   "source": [
    "a = np.array([20, 30, 40, 50])\n",
    "b = np.arange(4)\n",
    "b"
   ]
  },
  {
   "cell_type": "code",
   "execution_count": 36,
   "id": "270e190d",
   "metadata": {},
   "outputs": [
    {
     "data": {
      "text/plain": [
       "array([20, 29, 38, 47])"
      ]
     },
     "execution_count": 36,
     "metadata": {},
     "output_type": "execute_result"
    }
   ],
   "source": [
    "c = a - b\n",
    "c"
   ]
  },
  {
   "cell_type": "code",
   "execution_count": 37,
   "id": "b99b3faf",
   "metadata": {},
   "outputs": [
    {
     "data": {
      "text/plain": [
       "array([0, 1, 4, 9])"
      ]
     },
     "execution_count": 37,
     "metadata": {},
     "output_type": "execute_result"
    }
   ],
   "source": [
    "b**2"
   ]
  },
  {
   "cell_type": "code",
   "execution_count": 38,
   "id": "28aa034a",
   "metadata": {},
   "outputs": [
    {
     "data": {
      "text/plain": [
       "array([ True,  True, False, False])"
      ]
     },
     "execution_count": 38,
     "metadata": {},
     "output_type": "execute_result"
    }
   ],
   "source": [
    "a < 35"
   ]
  },
  {
   "cell_type": "code",
   "execution_count": 39,
   "id": "244608cb",
   "metadata": {},
   "outputs": [
    {
     "data": {
      "text/plain": [
       "array([[1, 1],\n",
       "       [2, 0]])"
      ]
     },
     "execution_count": 39,
     "metadata": {},
     "output_type": "execute_result"
    }
   ],
   "source": [
    "A = np.array([[1, 1],[2,0]])\n",
    "A"
   ]
  },
  {
   "cell_type": "code",
   "execution_count": 44,
   "id": "eeca75bb",
   "metadata": {},
   "outputs": [
    {
     "name": "stdout",
     "output_type": "stream",
     "text": [
      "[[2 0]\n",
      " [3 4]]\n"
     ]
    },
    {
     "data": {
      "text/plain": [
       "array([[2, 0],\n",
       "       [6, 0]])"
      ]
     },
     "execution_count": 44,
     "metadata": {},
     "output_type": "execute_result"
    }
   ],
   "source": [
    "B = np.array([[2, 0],[3, 4]])\n",
    "print(B)\n",
    "A * B # produit element par element"
   ]
  },
  {
   "cell_type": "code",
   "execution_count": 41,
   "id": "9ec44054",
   "metadata": {},
   "outputs": [
    {
     "data": {
      "text/plain": [
       "array([[5, 4],\n",
       "       [4, 0]])"
      ]
     },
     "execution_count": 41,
     "metadata": {},
     "output_type": "execute_result"
    }
   ],
   "source": [
    "A @ B # produit matrice."
   ]
  },
  {
   "cell_type": "code",
   "execution_count": 46,
   "id": "0b06d1b2",
   "metadata": {},
   "outputs": [
    {
     "data": {
      "text/plain": [
       "array([[5, 4],\n",
       "       [4, 0]])"
      ]
     },
     "execution_count": 46,
     "metadata": {},
     "output_type": "execute_result"
    }
   ],
   "source": [
    "A.dot(B) # produit matrice"
   ]
  },
  {
   "cell_type": "code",
   "execution_count": 50,
   "id": "9b1249f1",
   "metadata": {},
   "outputs": [],
   "source": [
    "rg = np.random.default_rng(1)"
   ]
  },
  {
   "cell_type": "code",
   "execution_count": 52,
   "id": "e03024c7",
   "metadata": {},
   "outputs": [
    {
     "data": {
      "text/plain": [
       "array([[3, 3, 3],\n",
       "       [3, 3, 3]])"
      ]
     },
     "execution_count": 52,
     "metadata": {},
     "output_type": "execute_result"
    }
   ],
   "source": [
    "a = np.ones((2, 3), dtype=int)\n",
    "b = rg.random((2, 3))\n",
    "a *= 3\n",
    "a"
   ]
  },
  {
   "cell_type": "code",
   "execution_count": 53,
   "id": "c099de95",
   "metadata": {},
   "outputs": [
    {
     "data": {
      "text/plain": [
       "array([[3.82770259, 3.40919914, 3.54959369],\n",
       "       [3.02755911, 3.75351311, 3.53814331]])"
      ]
     },
     "execution_count": 53,
     "metadata": {},
     "output_type": "execute_result"
    }
   ],
   "source": [
    "b += a\n",
    "b"
   ]
  },
  {
   "cell_type": "code",
   "execution_count": 55,
   "id": "08d8e8f5",
   "metadata": {},
   "outputs": [
    {
     "data": {
      "text/plain": [
       "array([[6.82770259, 6.40919914, 6.54959369],\n",
       "       [6.02755911, 6.75351311, 6.53814331]])"
      ]
     },
     "execution_count": 55,
     "metadata": {},
     "output_type": "execute_result"
    }
   ],
   "source": [
    "b += a\n",
    "b"
   ]
  },
  {
   "cell_type": "code",
   "execution_count": 56,
   "id": "9328f763",
   "metadata": {},
   "outputs": [],
   "source": [
    "a = np.ones(3, dtype=np.int32)"
   ]
  },
  {
   "cell_type": "code",
   "execution_count": 57,
   "id": "9d2a787c",
   "metadata": {},
   "outputs": [
    {
     "data": {
      "text/plain": [
       "array([3, 3, 3])"
      ]
     },
     "execution_count": 57,
     "metadata": {},
     "output_type": "execute_result"
    }
   ],
   "source": [
    "b = rg.random((2, 3))\n",
    "a *= 3\n",
    "a"
   ]
  },
  {
   "cell_type": "code",
   "execution_count": 58,
   "id": "4d7e0374",
   "metadata": {},
   "outputs": [
    {
     "data": {
      "text/plain": [
       "'float64'"
      ]
     },
     "execution_count": 58,
     "metadata": {},
     "output_type": "execute_result"
    }
   ],
   "source": [
    "a = np.ones(3, dtype=np.int32)\n",
    "b = np.linspace(0, pi, 3)\n",
    "b.dtype.name"
   ]
  },
  {
   "cell_type": "code",
   "execution_count": 61,
   "id": "72bc9ddc",
   "metadata": {},
   "outputs": [
    {
     "data": {
      "text/plain": [
       "array([1.        , 2.57079633, 4.14159265])"
      ]
     },
     "execution_count": 61,
     "metadata": {},
     "output_type": "execute_result"
    }
   ],
   "source": [
    "c =  a + b\n",
    "c"
   ]
  },
  {
   "cell_type": "code",
   "execution_count": 63,
   "id": "28348076",
   "metadata": {},
   "outputs": [
    {
     "data": {
      "text/plain": [
       "array([ 0.54030231+0.84147098j, -0.84147098+0.54030231j,\n",
       "       -0.54030231-0.84147098j])"
      ]
     },
     "execution_count": 63,
     "metadata": {},
     "output_type": "execute_result"
    }
   ],
   "source": [
    "d = np.exp(c*1j)\n",
    "d"
   ]
  },
  {
   "cell_type": "code",
   "execution_count": 64,
   "id": "e5f75b59",
   "metadata": {},
   "outputs": [
    {
     "data": {
      "text/plain": [
       "'complex128'"
      ]
     },
     "execution_count": 64,
     "metadata": {},
     "output_type": "execute_result"
    }
   ],
   "source": [
    "d.dtype.name"
   ]
  },
  {
   "cell_type": "code",
   "execution_count": 66,
   "id": "4339358e",
   "metadata": {},
   "outputs": [
    {
     "data": {
      "text/plain": [
       "array([[0.96165719, 0.72478994, 0.54122686],\n",
       "       [0.2768912 , 0.16065201, 0.96992541]])"
      ]
     },
     "execution_count": 66,
     "metadata": {},
     "output_type": "execute_result"
    }
   ],
   "source": [
    "a = rg.random((2, 3))\n",
    "a"
   ]
  },
  {
   "cell_type": "code",
   "execution_count": 67,
   "id": "4021b84f",
   "metadata": {},
   "outputs": [
    {
     "data": {
      "text/plain": [
       "3.635142616021385"
      ]
     },
     "execution_count": 67,
     "metadata": {},
     "output_type": "execute_result"
    }
   ],
   "source": [
    "a.sum()"
   ]
  },
  {
   "cell_type": "code",
   "execution_count": 68,
   "id": "36afcf76",
   "metadata": {},
   "outputs": [
    {
     "data": {
      "text/plain": [
       "3.635142616021385"
      ]
     },
     "execution_count": 68,
     "metadata": {},
     "output_type": "execute_result"
    }
   ],
   "source": [
    "a.sum()"
   ]
  },
  {
   "cell_type": "code",
   "execution_count": 69,
   "id": "98d590ed",
   "metadata": {},
   "outputs": [
    {
     "data": {
      "text/plain": [
       "0.9699254132161326"
      ]
     },
     "execution_count": 69,
     "metadata": {},
     "output_type": "execute_result"
    }
   ],
   "source": [
    "a.max()"
   ]
  },
  {
   "cell_type": "code",
   "execution_count": 71,
   "id": "72c9ed30",
   "metadata": {},
   "outputs": [
    {
     "data": {
      "text/plain": [
       "array([[ 0,  1,  2,  3],\n",
       "       [ 4,  5,  6,  7],\n",
       "       [ 8,  9, 10, 11]])"
      ]
     },
     "execution_count": 71,
     "metadata": {},
     "output_type": "execute_result"
    }
   ],
   "source": [
    "b = np.arange(12).reshape(3, 4)\n",
    "b"
   ]
  },
  {
   "cell_type": "code",
   "execution_count": 72,
   "id": "73071622",
   "metadata": {},
   "outputs": [
    {
     "data": {
      "text/plain": [
       "array([12, 15, 18, 21])"
      ]
     },
     "execution_count": 72,
     "metadata": {},
     "output_type": "execute_result"
    }
   ],
   "source": [
    "b.sum(axis=0)"
   ]
  },
  {
   "cell_type": "code",
   "execution_count": 73,
   "id": "07e24ed8",
   "metadata": {},
   "outputs": [
    {
     "data": {
      "text/plain": [
       "array([ 6, 22, 38])"
      ]
     },
     "execution_count": 73,
     "metadata": {},
     "output_type": "execute_result"
    }
   ],
   "source": [
    "b.sum(axis=1)"
   ]
  },
  {
   "cell_type": "code",
   "execution_count": 74,
   "id": "ee1fc6c3",
   "metadata": {},
   "outputs": [
    {
     "data": {
      "text/plain": [
       "array([0, 4, 8])"
      ]
     },
     "execution_count": 74,
     "metadata": {},
     "output_type": "execute_result"
    }
   ],
   "source": [
    "b.min(axis=1)"
   ]
  },
  {
   "cell_type": "code",
   "execution_count": 75,
   "id": "e6d89bdf",
   "metadata": {},
   "outputs": [
    {
     "data": {
      "text/plain": [
       "array([[ 0,  1,  3,  6],\n",
       "       [ 4,  9, 15, 22],\n",
       "       [ 8, 17, 27, 38]])"
      ]
     },
     "execution_count": 75,
     "metadata": {},
     "output_type": "execute_result"
    }
   ],
   "source": [
    "b.cumsum(axis=1)"
   ]
  },
  {
   "cell_type": "markdown",
   "id": "ff3f2fbe",
   "metadata": {},
   "source": [
    "### Universal Functions"
   ]
  },
  {
   "cell_type": "code",
   "execution_count": 77,
   "id": "b381be1d",
   "metadata": {},
   "outputs": [
    {
     "data": {
      "text/plain": [
       "array([0, 1, 2])"
      ]
     },
     "execution_count": 77,
     "metadata": {},
     "output_type": "execute_result"
    }
   ],
   "source": [
    "B = np.arange(3)\n",
    "B"
   ]
  },
  {
   "cell_type": "code",
   "execution_count": 78,
   "id": "66f84fb6",
   "metadata": {},
   "outputs": [
    {
     "data": {
      "text/plain": [
       "array([1.        , 2.71828183, 7.3890561 ])"
      ]
     },
     "execution_count": 78,
     "metadata": {},
     "output_type": "execute_result"
    }
   ],
   "source": [
    "np.exp(B)"
   ]
  },
  {
   "cell_type": "code",
   "execution_count": 79,
   "id": "77d08861",
   "metadata": {},
   "outputs": [
    {
     "data": {
      "text/plain": [
       "array([0.        , 1.        , 1.41421356])"
      ]
     },
     "execution_count": 79,
     "metadata": {},
     "output_type": "execute_result"
    }
   ],
   "source": [
    "np.sqrt(B)"
   ]
  },
  {
   "cell_type": "code",
   "execution_count": 80,
   "id": "e696f18c",
   "metadata": {},
   "outputs": [
    {
     "data": {
      "text/plain": [
       "array([2., 0., 6.])"
      ]
     },
     "execution_count": 80,
     "metadata": {},
     "output_type": "execute_result"
    }
   ],
   "source": [
    "C = np.array([2., -1, 4.])\n",
    "np.add(B, C)"
   ]
  },
  {
   "cell_type": "code",
   "execution_count": 82,
   "id": "26a734ec",
   "metadata": {},
   "outputs": [
    {
     "data": {
      "text/plain": [
       "array([  0,   1,   8,  27,  64, 125, 216, 343, 512, 729], dtype=int32)"
      ]
     },
     "execution_count": 82,
     "metadata": {},
     "output_type": "execute_result"
    }
   ],
   "source": [
    "a = np.arange(10)**3\n",
    "a"
   ]
  },
  {
   "cell_type": "code",
   "execution_count": 83,
   "id": "48aa0a13",
   "metadata": {},
   "outputs": [
    {
     "data": {
      "text/plain": [
       "8"
      ]
     },
     "execution_count": 83,
     "metadata": {},
     "output_type": "execute_result"
    }
   ],
   "source": [
    "a[2]"
   ]
  },
  {
   "cell_type": "code",
   "execution_count": 84,
   "id": "8ce56639",
   "metadata": {},
   "outputs": [
    {
     "data": {
      "text/plain": [
       "array([ 8, 27, 64], dtype=int32)"
      ]
     },
     "execution_count": 84,
     "metadata": {},
     "output_type": "execute_result"
    }
   ],
   "source": [
    "a[2:5]"
   ]
  },
  {
   "cell_type": "code",
   "execution_count": 85,
   "id": "9c4e17fa",
   "metadata": {},
   "outputs": [
    {
     "name": "stdout",
     "output_type": "stream",
     "text": [
      "0.0\n",
      "1.0\n",
      "2.0\n",
      "3.0\n",
      "3.9999999999999996\n",
      "5.0\n",
      "5.999999999999999\n",
      "6.999999999999999\n",
      "7.999999999999999\n",
      "8.999999999999998\n"
     ]
    }
   ],
   "source": [
    "for i in a:\n",
    "    print(i**(1/3.))"
   ]
  },
  {
   "cell_type": "markdown",
   "id": "1f7aa346",
   "metadata": {},
   "source": [
    "## Shape Manipulation"
   ]
  },
  {
   "cell_type": "markdown",
   "id": "026f5664",
   "metadata": {},
   "source": [
    "### changing the shape of an array"
   ]
  },
  {
   "cell_type": "code",
   "execution_count": 86,
   "id": "8af9b315",
   "metadata": {},
   "outputs": [
    {
     "data": {
      "text/plain": [
       "array([[5., 1., 6., 7.],\n",
       "       [6., 9., 0., 5.],\n",
       "       [4., 0., 6., 8.]])"
      ]
     },
     "execution_count": 86,
     "metadata": {},
     "output_type": "execute_result"
    }
   ],
   "source": [
    "a = np.floor(10*rg.random((3, 4)))\n",
    "a"
   ]
  },
  {
   "cell_type": "code",
   "execution_count": 87,
   "id": "4b7ed59b",
   "metadata": {},
   "outputs": [
    {
     "data": {
      "text/plain": [
       "(3, 4)"
      ]
     },
     "execution_count": 87,
     "metadata": {},
     "output_type": "execute_result"
    }
   ],
   "source": [
    "a.shape"
   ]
  },
  {
   "cell_type": "code",
   "execution_count": 88,
   "id": "8bb75d06",
   "metadata": {},
   "outputs": [
    {
     "data": {
      "text/plain": [
       "array([5., 1., 6., 7., 6., 9., 0., 5., 4., 0., 6., 8.])"
      ]
     },
     "execution_count": 88,
     "metadata": {},
     "output_type": "execute_result"
    }
   ],
   "source": [
    "a.ravel()"
   ]
  },
  {
   "cell_type": "code",
   "execution_count": 89,
   "id": "0a5155dd",
   "metadata": {},
   "outputs": [
    {
     "data": {
      "text/plain": [
       "array([[5., 6., 4.],\n",
       "       [1., 9., 0.],\n",
       "       [6., 0., 6.],\n",
       "       [7., 5., 8.]])"
      ]
     },
     "execution_count": 89,
     "metadata": {},
     "output_type": "execute_result"
    }
   ],
   "source": [
    "a.T"
   ]
  },
  {
   "cell_type": "code",
   "execution_count": 90,
   "id": "c8a10429",
   "metadata": {},
   "outputs": [
    {
     "data": {
      "text/plain": [
       "(4, 3)"
      ]
     },
     "execution_count": 90,
     "metadata": {},
     "output_type": "execute_result"
    }
   ],
   "source": [
    "a.T.shape"
   ]
  },
  {
   "cell_type": "code",
   "execution_count": 92,
   "id": "05493b63",
   "metadata": {},
   "outputs": [
    {
     "data": {
      "text/plain": [
       "array([[5., 1., 6., 7., 6., 9.],\n",
       "       [0., 5., 4., 0., 6., 8.]])"
      ]
     },
     "execution_count": 92,
     "metadata": {},
     "output_type": "execute_result"
    }
   ],
   "source": [
    "a.resize(2, 6)\n",
    "a"
   ]
  },
  {
   "cell_type": "code",
   "execution_count": 93,
   "id": "81ccd612",
   "metadata": {},
   "outputs": [
    {
     "data": {
      "text/plain": [
       "array([[5., 1., 6., 7.],\n",
       "       [6., 9., 0., 5.],\n",
       "       [4., 0., 6., 8.]])"
      ]
     },
     "execution_count": 93,
     "metadata": {},
     "output_type": "execute_result"
    }
   ],
   "source": [
    "a.reshape(3,-1)"
   ]
  },
  {
   "cell_type": "markdown",
   "id": "e05050ba",
   "metadata": {},
   "source": [
    "###  Stacking together different arrays"
   ]
  },
  {
   "cell_type": "code",
   "execution_count": 96,
   "id": "d11ba54b",
   "metadata": {},
   "outputs": [
    {
     "data": {
      "text/plain": [
       "array([[5., 2., 5., 7.],\n",
       "       [8., 5., 1., 8.]])"
      ]
     },
     "execution_count": 96,
     "metadata": {},
     "output_type": "execute_result"
    }
   ],
   "source": [
    "a = np.floor(10 * rg.random((2, 2)))\n",
    "b = np.floor(10 * rg.random((2, 2)))\n",
    "from numpy import newaxis\n",
    "np.column_stack((a, b))"
   ]
  },
  {
   "cell_type": "code",
   "execution_count": 97,
   "id": "834022c1",
   "metadata": {},
   "outputs": [
    {
     "data": {
      "text/plain": [
       "array([[5., 2.],\n",
       "       [8., 5.],\n",
       "       [5., 7.],\n",
       "       [1., 8.]])"
      ]
     },
     "execution_count": 97,
     "metadata": {},
     "output_type": "execute_result"
    }
   ],
   "source": [
    "np.vstack((a, b))"
   ]
  },
  {
   "cell_type": "code",
   "execution_count": 98,
   "id": "375aca34",
   "metadata": {},
   "outputs": [
    {
     "data": {
      "text/plain": [
       "array([[5., 2., 5., 7.],\n",
       "       [8., 5., 1., 8.]])"
      ]
     },
     "execution_count": 98,
     "metadata": {},
     "output_type": "execute_result"
    }
   ],
   "source": [
    "np.hstack((a, b))\n",
    "\n",
    "\n",
    "\n",
    "\n",
    ".....................0"
   ]
  },
  {
   "cell_type": "markdown",
   "id": "83222815",
   "metadata": {},
   "source": [
    "## Copies and Views"
   ]
  },
  {
   "cell_type": "code",
   "execution_count": 101,
   "id": "639b77fe",
   "metadata": {},
   "outputs": [],
   "source": [
    "a = np.array([[ 0, 1, 2, 3],\n",
    "              [ 4, 5, 6, 7],\n",
    "              [ 8, 9, 10, 11]])\n"
   ]
  },
  {
   "cell_type": "code",
   "execution_count": 106,
   "id": "15bd7a94",
   "metadata": {},
   "outputs": [],
   "source": [
    "b = a\n",
    "#b is a\n",
    "#b"
   ]
  },
  {
   "cell_type": "code",
   "execution_count": 107,
   "id": "81f1a8e3",
   "metadata": {},
   "outputs": [
    {
     "data": {
      "text/plain": [
       "array([[ 0,  1,  2,  3],\n",
       "       [ 4,  5,  6,  7],\n",
       "       [ 8,  9, 10, 11]])"
      ]
     },
     "execution_count": 107,
     "metadata": {},
     "output_type": "execute_result"
    }
   ],
   "source": [
    "b"
   ]
  },
  {
   "cell_type": "markdown",
   "id": "68030247",
   "metadata": {},
   "source": [
    " ### View or Shallow Copy"
   ]
  },
  {
   "cell_type": "code",
   "execution_count": 118,
   "id": "41b31d6b",
   "metadata": {},
   "outputs": [
    {
     "data": {
      "text/plain": [
       "array([[   0,    1,    2,    3],\n",
       "       [1234,    5,    6,    7],\n",
       "       [   8,    9,   10,   11]])"
      ]
     },
     "execution_count": 118,
     "metadata": {},
     "output_type": "execute_result"
    }
   ],
   "source": [
    "z = a.view()\n",
    "z"
   ]
  },
  {
   "cell_type": "code",
   "execution_count": 119,
   "id": "62e7c453",
   "metadata": {},
   "outputs": [
    {
     "data": {
      "text/plain": [
       "False"
      ]
     },
     "execution_count": 119,
     "metadata": {},
     "output_type": "execute_result"
    }
   ],
   "source": [
    "z is a"
   ]
  },
  {
   "cell_type": "code",
   "execution_count": 120,
   "id": "c7c798ce",
   "metadata": {},
   "outputs": [
    {
     "data": {
      "text/plain": [
       "True"
      ]
     },
     "execution_count": 120,
     "metadata": {},
     "output_type": "execute_result"
    }
   ],
   "source": [
    "z.base is a "
   ]
  },
  {
   "cell_type": "code",
   "execution_count": 121,
   "id": "c7179412",
   "metadata": {},
   "outputs": [
    {
     "data": {
      "text/plain": [
       "array([[   0,    1,    2,    3],\n",
       "       [1234,    5,    6,    7],\n",
       "       [   8,    9,   10,   11]])"
      ]
     },
     "execution_count": 121,
     "metadata": {},
     "output_type": "execute_result"
    }
   ],
   "source": [
    "z = z.reshape((2, 6))\n",
    "a.shape\n",
    "z[0, 4] = 1234\n",
    "a"
   ]
  },
  {
   "cell_type": "code",
   "execution_count": 129,
   "id": "a1124651",
   "metadata": {},
   "outputs": [
    {
     "data": {
      "text/plain": [
       "array([ 1,  1,  9, 64, 25])"
      ]
     },
     "execution_count": 129,
     "metadata": {},
     "output_type": "execute_result"
    }
   ],
   "source": [
    "\n",
    "a = np.arange(12)**2\n",
    "i = np.array([1, 1, 3, 8, 5])\n",
    "a[i]"
   ]
  },
  {
   "cell_type": "markdown",
   "id": "87a754e0",
   "metadata": {},
   "source": [
    "## Advanced indexing and index tricks"
   ]
  },
  {
   "cell_type": "markdown",
   "id": "a6cdfff1",
   "metadata": {},
   "source": [
    "### Indexing with Arrays of Indices"
   ]
  },
  {
   "cell_type": "code",
   "execution_count": 133,
   "id": "a35e2af1",
   "metadata": {},
   "outputs": [
    {
     "data": {
      "text/plain": [
       "array([ 1,  1,  9, 64, 25])"
      ]
     },
     "execution_count": 133,
     "metadata": {},
     "output_type": "execute_result"
    }
   ],
   "source": [
    "a = np.arange(12)**2 \n",
    "i = np.array([1, 1, 3, 8, 5])\n",
    "a[i] "
   ]
  },
  {
   "cell_type": "code",
   "execution_count": 134,
   "id": "8000d3ae",
   "metadata": {},
   "outputs": [
    {
     "data": {
      "text/plain": [
       "array([  0,   1,   4,   9,  16,  25,  36,  49,  64,  81, 100, 121])"
      ]
     },
     "execution_count": 134,
     "metadata": {},
     "output_type": "execute_result"
    }
   ],
   "source": [
    "a"
   ]
  },
  {
   "cell_type": "code",
   "execution_count": 135,
   "id": "fa54b887",
   "metadata": {},
   "outputs": [],
   "source": [
    "palette = np.array([[0, 0, 0],\n",
    "                    [255, 0, 0],\n",
    "                    [0, 255, 0],\n",
    "                    [0, 0, 255],\n",
    "                    [255, 255, 255]])"
   ]
  },
  {
   "cell_type": "code",
   "execution_count": 137,
   "id": "a51e321f",
   "metadata": {},
   "outputs": [],
   "source": [
    "image = np.array([[0, 1, 2, 0],[0, 3, 4, 0]]) "
   ]
  },
  {
   "cell_type": "code",
   "execution_count": 138,
   "id": "f6dd5650",
   "metadata": {},
   "outputs": [
    {
     "data": {
      "text/plain": [
       "array([[[  0,   0,   0],\n",
       "        [255,   0,   0],\n",
       "        [  0, 255,   0],\n",
       "        [  0,   0,   0]],\n",
       "\n",
       "       [[  0,   0,   0],\n",
       "        [  0,   0, 255],\n",
       "        [255, 255, 255],\n",
       "        [  0,   0,   0]]])"
      ]
     },
     "execution_count": 138,
     "metadata": {},
     "output_type": "execute_result"
    }
   ],
   "source": [
    "palette[image] "
   ]
  },
  {
   "cell_type": "code",
   "execution_count": 141,
   "id": "d67ed79e",
   "metadata": {},
   "outputs": [
    {
     "data": {
      "text/plain": [
       "<matplotlib.image.AxesImage at 0x1ce784bc100>"
      ]
     },
     "execution_count": 141,
     "metadata": {},
     "output_type": "execute_result"
    },
    {
     "data": {
      "image/png": "[encoded data removed]",
      "text/plain": [
       "<Figure size 640x480 with 1 Axes>"
      ]
     },
     "metadata": {},
     "output_type": "display_data"
    }
   ],
   "source": [
    "import numpy as np\n",
    "import matplotlib.pyplot as plt\n",
    "def mandelbrot(h, w, maxit=20, r=2):\n",
    "    \"\"\"Returns an image of the Mandelbrot fractal of size (h,w).\"\"\"\n",
    "    x = np.linspace(-2.5, 1.5, 4*h+1)\n",
    "    y = np.linspace(-1.5, 1.5, 3*w+1)\n",
    "    A, B = np.meshgrid(x, y)\n",
    "    C = A + B*1j\n",
    "    z = np.zeros_like(C)\n",
    "    divtime = maxit + np.zeros(z.shape, dtype=int)\n",
    "    \n",
    "    for i in range(maxit):\n",
    "        z = z**2 + C\n",
    "        diverge = abs(z) > r\n",
    "        div_now = diverge & (divtime == maxit)\n",
    "        divtime[div_now] = i\n",
    "        z[diverge] = r\n",
    "    \n",
    "    return divtime\n",
    "\n",
    "plt.clf()\n",
    "plt.imshow(mandelbrot(400, 400))\n",
    "\n"
   ]
  },
  {
   "cell_type": "markdown",
   "id": "8e4b1156",
   "metadata": {},
   "source": [
    "# THE ABSOLUTE BASICS FOR BEGINNERS"
   ]
  },
  {
   "cell_type": "markdown",
   "id": "e8dd0d1a-2b44-4855-a0e4-8eaf5169abff",
   "metadata": {},
   "source": [
    "## Create a basic array"
   ]
  },
  {
   "cell_type": "code",
   "execution_count": 3,
   "id": "476e8199-9302-4760-aa1b-4eacd4f606c9",
   "metadata": {},
   "outputs": [],
   "source": [
    "import numpy as np"
   ]
  },
  {
   "cell_type": "code",
   "execution_count": 5,
   "id": "f5d2063c-4a01-4b09-8af4-f4211f9e0ed8",
   "metadata": {},
   "outputs": [
    {
     "data": {
      "text/plain": [
       "array([-6.35000179e-158, -1.27396501e-096])"
      ]
     },
     "execution_count": 5,
     "metadata": {},
     "output_type": "execute_result"
    }
   ],
   "source": [
    "np.empty(2)"
   ]
  },
  {
   "cell_type": "code",
   "execution_count": 6,
   "id": "fa13de89-fd60-496f-bac0-4b0e6cf38a23",
   "metadata": {},
   "outputs": [
    {
     "data": {
      "text/plain": [
       "array([2, 4, 6, 8])"
      ]
     },
     "execution_count": 6,
     "metadata": {},
     "output_type": "execute_result"
    }
   ],
   "source": [
    "np.arange(2, 9, 2)"
   ]
  },
  {
   "cell_type": "code",
   "execution_count": 7,
   "id": "c762f8be-b999-474b-b789-ac033a24b641",
   "metadata": {},
   "outputs": [
    {
     "data": {
      "text/plain": [
       "array([ 0. ,  2.5,  5. ,  7.5, 10. ])"
      ]
     },
     "execution_count": 7,
     "metadata": {},
     "output_type": "execute_result"
    }
   ],
   "source": [
    "np.linspace(0, 10, num=5)"
   ]
  },
  {
   "cell_type": "code",
   "execution_count": 8,
   "id": "a4bbdd99-3698-4060-bf56-e7133a57a6d7",
   "metadata": {},
   "outputs": [
    {
     "data": {
      "text/plain": [
       "array([ 0.        ,  0.71428571,  1.42857143,  2.14285714,  2.85714286,\n",
       "        3.57142857,  4.28571429,  5.        ,  5.71428571,  6.42857143,\n",
       "        7.14285714,  7.85714286,  8.57142857,  9.28571429, 10.        ])"
      ]
     },
     "execution_count": 8,
     "metadata": {},
     "output_type": "execute_result"
    }
   ],
   "source": [
    "np.linspace(0, 10, 1np.linspace(0, 10, num=55)"
   ]
  },
  {
   "cell_type": "code",
   "execution_count": 9,
   "id": "c282a027-e792-4c84-90f6-5e264853dae3",
   "metadata": {},
   "outputs": [
    {
     "data": {
      "text/plain": [
       "array([ 0. ,  2.5,  5. ,  7.5, 10. ])"
      ]
     },
     "execution_count": 9,
     "metadata": {},
     "output_type": "execute_result"
    }
   ],
   "source": [
    "np.linspace(0, 10, 5)"
   ]
  },
  {
   "cell_type": "markdown",
   "id": "3df7aaba-2621-48f7-bfa8-37b9cf708be2",
   "metadata": {},
   "source": [
    "## Adding, removing, and sorting elements"
   ]
  },
  {
   "cell_type": "code",
   "execution_count": 12,
   "id": "9d17bf2b-b879-4d77-ae34-b7818f21846b",
   "metadata": {},
   "outputs": [],
   "source": [
    "arr = np.array([2, 1, 5, 3, 7, 4, 6, 8])"
   ]
  },
  {
   "cell_type": "code",
   "execution_count": 14,
   "id": "75f7282b-b9d6-42f6-a35d-c926300f6d9b",
   "metadata": {},
   "outputs": [
    {
     "data": {
      "text/plain": [
       "array([1, 2, 3, 4, 5, 6, 7, 8])"
      ]
     },
     "execution_count": 14,
     "metadata": {},
     "output_type": "execute_result"
    }
   ],
   "source": [
    "np.sort(arr)"
   ]
  },
  {
   "cell_type": "code",
   "execution_count": 15,
   "id": "26e4aa78-de15-42f3-a294-af912feaf1b1",
   "metadata": {},
   "outputs": [
    {
     "data": {
      "text/plain": [
       "array([1, 2, 3, 4, 5, 6, 7, 8])"
      ]
     },
     "execution_count": 15,
     "metadata": {},
     "output_type": "execute_result"
    }
   ],
   "source": [
    "a = np.array([1, 2, 3, 4])\n",
    "b = np.array([5, 6, 7, 8])\n",
    "np.concatenate((a, b))"
   ]
  },
  {
   "cell_type": "code",
   "execution_count": 16,
   "id": "798192f9-0b27-411b-9520-f29b2c19b0fc",
   "metadata": {},
   "outputs": [
    {
     "data": {
      "text/plain": [
       "array([[1, 2],\n",
       "       [3, 4],\n",
       "       [5, 6]])"
      ]
     },
     "execution_count": 16,
     "metadata": {},
     "output_type": "execute_result"
    }
   ],
   "source": [
    "x = np.array([[1, 2], [3, 4]])\n",
    "y = np.array([[5, 6]])\n",
    "np.concatenate((x, y), axis=0)"
   ]
  },
  {
   "cell_type": "markdown",
   "id": "863ddb13-1079-4f00-a53d-4bd33def4301",
   "metadata": {},
   "source": [
    "## How do you know the shape and size of an array?"
   ]
  },
  {
   "cell_type": "code",
   "execution_count": 18,
   "id": "99684d24-fbc9-4662-ba04-bb8e6450fba8",
   "metadata": {},
   "outputs": [],
   "source": [
    "array_example = np.array([[[0, 1, 2, 3],\n",
    "                           [4, 5, 6, 7]],\n",
    "                          \n",
    "                          [[0, 1, 2, 3],\n",
    "                           [4, 5, 6, 7]],\n",
    "                          \n",
    "                          [[0 ,1 ,2, 3],\n",
    "                           [4, 5, 6, 7]]])\n"
   ]
  },
  {
   "cell_type": "code",
   "execution_count": 21,
   "id": "4b861a8d-d975-4ffa-a495-ae130b333867",
   "metadata": {},
   "outputs": [
    {
     "data": {
      "text/plain": [
       "3"
      ]
     },
     "execution_count": 21,
     "metadata": {},
     "output_type": "execute_result"
    }
   ],
   "source": [
    "array_example.ndim"
   ]
  },
  {
   "cell_type": "code",
   "execution_count": 22,
   "id": "93fea511-0e52-4b80-b53c-d74dd711f196",
   "metadata": {},
   "outputs": [
    {
     "data": {
      "text/plain": [
       "24"
      ]
     },
     "execution_count": 22,
     "metadata": {},
     "output_type": "execute_result"
    }
   ],
   "source": [
    "array_example.size"
   ]
  },
  {
   "cell_type": "code",
   "execution_count": 23,
   "id": "6959fb4a-479d-4242-8358-349ff1953086",
   "metadata": {},
   "outputs": [
    {
     "data": {
      "text/plain": [
       "(3, 2, 4)"
      ]
     },
     "execution_count": 23,
     "metadata": {},
     "output_type": "execute_result"
    }
   ],
   "source": [
    "array_example.shape\n"
   ]
  },
  {
   "cell_type": "markdown",
   "id": "113eaf3d-fbe0-4dd8-9cc4-6d9dc056ad73",
   "metadata": {},
   "source": [
    "### Reshape an array"
   ]
  },
  {
   "cell_type": "code",
   "execution_count": 24,
   "id": "726959b1-0ad2-45ac-9ee9-98b891704140",
   "metadata": {},
   "outputs": [
    {
     "name": "stdout",
     "output_type": "stream",
     "text": [
      "[[0 1]\n",
      " [2 3]\n",
      " [4 5]]\n"
     ]
    }
   ],
   "source": [
    "a = np.arange(6)\n",
    "b = a.reshape(3, 2)\n",
    "print(b)"
   ]
  },
  {
   "cell_type": "markdown",
   "id": "46aecf2a-d108-4e38-9f84-74f9015b53b1",
   "metadata": {},
   "source": [
    "### Convert a 1D array into a 2D array"
   ]
  },
  {
   "cell_type": "code",
   "execution_count": 4,
   "id": "faa906e0-00ef-423c-99b7-3b9214403cb8",
   "metadata": {},
   "outputs": [
    {
     "data": {
      "text/plain": [
       "(6,)"
      ]
     },
     "execution_count": 4,
     "metadata": {},
     "output_type": "execute_result"
    }
   ],
   "source": [
    "a = np.array([1, 2, 3, 4, 5, 6])\n",
    "a.shape"
   ]
  },
  {
   "cell_type": "code",
   "execution_count": 5,
   "id": "52063b9a-b0a2-4944-809b-2d188372ef7e",
   "metadata": {},
   "outputs": [
    {
     "data": {
      "text/plain": [
       "(1, 6)"
      ]
     },
     "execution_count": 5,
     "metadata": {},
     "output_type": "execute_result"
    }
   ],
   "source": [
    "a2 = a[np.newaxis, :]\n",
    "a2.shape"
   ]
  },
  {
   "cell_type": "code",
   "execution_count": 6,
   "id": "e80bbfc9-ef43-4340-b419-a1a36f2c5e00",
   "metadata": {},
   "outputs": [
    {
     "data": {
      "text/plain": [
       "(1, 6)"
      ]
     },
     "execution_count": 6,
     "metadata": {},
     "output_type": "execute_result"
    }
   ],
   "source": [
    "row_vector = a[np.newaxis, :]\n",
    "row_vector.shape"
   ]
  },
  {
   "cell_type": "code",
   "execution_count": 7,
   "id": "b82e291a",
   "metadata": {},
   "outputs": [
    {
     "data": {
      "text/plain": [
       "(6, 1)"
      ]
     },
     "execution_count": 7,
     "metadata": {},
     "output_type": "execute_result"
    }
   ],
   "source": [
    "col_vector = a[:, np.newaxis]\n",
    "col_vector.shape"
   ]
  },
  {
   "cell_type": "code",
   "execution_count": 8,
   "id": "7479b095",
   "metadata": {},
   "outputs": [
    {
     "data": {
      "text/plain": [
       "(6,)"
      ]
     },
     "execution_count": 8,
     "metadata": {},
     "output_type": "execute_result"
    }
   ],
   "source": [
    "a = np.array([1, 2, 3, 4, 5, 6])\n",
    "a.shape"
   ]
  },
  {
   "cell_type": "markdown",
   "id": "a91e45f9",
   "metadata": {},
   "source": [
    "**Other Method**"
   ]
  },
  {
   "cell_type": "code",
   "execution_count": 9,
   "id": "fc6ae551",
   "metadata": {},
   "outputs": [
    {
     "data": {
      "text/plain": [
       "(6, 1)"
      ]
     },
     "execution_count": 9,
     "metadata": {},
     "output_type": "execute_result"
    }
   ],
   "source": [
    "# You can use np.expand_dims to add an axis at index position 1 with:\n",
    "b = np.expand_dims(a, axis=1)\n",
    "b.shape"
   ]
  },
  {
   "cell_type": "code",
   "execution_count": 10,
   "id": "7c303c7c",
   "metadata": {},
   "outputs": [
    {
     "data": {
      "text/plain": [
       "(1, 6)"
      ]
     },
     "execution_count": 10,
     "metadata": {},
     "output_type": "execute_result"
    }
   ],
   "source": [
    "#You can add an axis at index position 0 with:\n",
    "c = np.expand_dims(a, axis=0)\n",
    "c.shape"
   ]
  },
  {
   "cell_type": "code",
   "execution_count": 13,
   "id": "602fe7ca",
   "metadata": {},
   "outputs": [],
   "source": [
    "data = np.array([1, 2, 3])"
   ]
  },
  {
   "cell_type": "code",
   "execution_count": 14,
   "id": "71578792",
   "metadata": {},
   "outputs": [
    {
     "data": {
      "text/plain": [
       "2"
      ]
     },
     "execution_count": 14,
     "metadata": {},
     "output_type": "execute_result"
    }
   ],
   "source": [
    "data[1]"
   ]
  },
  {
   "cell_type": "code",
   "execution_count": 15,
   "id": "4e305886",
   "metadata": {},
   "outputs": [
    {
     "data": {
      "text/plain": [
       "array([1, 2])"
      ]
     },
     "execution_count": 15,
     "metadata": {},
     "output_type": "execute_result"
    }
   ],
   "source": [
    "data[0:2]"
   ]
  },
  {
   "cell_type": "code",
   "execution_count": 16,
   "id": "6e9dbf99",
   "metadata": {},
   "outputs": [
    {
     "data": {
      "text/plain": [
       "array([2, 3])"
      ]
     },
     "execution_count": 16,
     "metadata": {},
     "output_type": "execute_result"
    }
   ],
   "source": [
    "data[1:]"
   ]
  },
  {
   "cell_type": "code",
   "execution_count": 17,
   "id": "0909bf4c",
   "metadata": {},
   "outputs": [
    {
     "data": {
      "text/plain": [
       "array([2, 3])"
      ]
     },
     "execution_count": 17,
     "metadata": {},
     "output_type": "execute_result"
    }
   ],
   "source": [
    "data[-2:]"
   ]
  },
  {
   "cell_type": "code",
   "execution_count": 18,
   "id": "d919118b",
   "metadata": {},
   "outputs": [
    {
     "name": "stdout",
     "output_type": "stream",
     "text": [
      "[1 2 3 4]\n"
     ]
    }
   ],
   "source": [
    "a = np.array([[1 , 2, 3, 4], [5, 6, 7, 8], [9, 10, 11, 12]])\n",
    "print(a[a < 5])"
   ]
  },
  {
   "cell_type": "code",
   "execution_count": 19,
   "id": "fe3cf368",
   "metadata": {},
   "outputs": [
    {
     "name": "stdout",
     "output_type": "stream",
     "text": [
      "[ 5  6  7  8  9 10 11 12]\n"
     ]
    }
   ],
   "source": [
    "five_up = (a >= 5)\n",
    "print(a[five_up])"
   ]
  },
  {
   "cell_type": "code",
   "execution_count": 20,
   "id": "57c19226",
   "metadata": {},
   "outputs": [
    {
     "name": "stdout",
     "output_type": "stream",
     "text": [
      "[ 2  4  6  8 10 12]\n"
     ]
    }
   ],
   "source": [
    "divisible_by_2 = a[a%2==0]\n",
    "print(divisible_by_2)"
   ]
  },
  {
   "cell_type": "code",
   "execution_count": 21,
   "id": "d9424769",
   "metadata": {},
   "outputs": [
    {
     "name": "stdout",
     "output_type": "stream",
     "text": [
      "[ 3  4  5  6  7  8  9 10]\n"
     ]
    }
   ],
   "source": [
    "c = a[(a > 2) & (a < 11)]\n",
    "print(c)"
   ]
  },
  {
   "cell_type": "code",
   "execution_count": 22,
   "id": "01da87f2",
   "metadata": {},
   "outputs": [
    {
     "name": "stdout",
     "output_type": "stream",
     "text": [
      "[[False False False False]\n",
      " [ True  True  True  True]\n",
      " [ True  True  True  True]]\n"
     ]
    }
   ],
   "source": [
    "five_up = (a > 5) | (a == 5)\n",
    "print(five_up)"
   ]
  },
  {
   "cell_type": "code",
   "execution_count": 23,
   "id": "2909376d",
   "metadata": {},
   "outputs": [],
   "source": [
    "a = np.array([[1, 2, 3, 4], [5, 6, 7, 8], [9, 10, 11, 12]])"
   ]
  },
  {
   "cell_type": "code",
   "execution_count": 24,
   "id": "9caf1ced",
   "metadata": {},
   "outputs": [
    {
     "name": "stdout",
     "output_type": "stream",
     "text": [
      "(array([0, 0, 0, 0], dtype=int64), array([0, 1, 2, 3], dtype=int64))\n"
     ]
    }
   ],
   "source": [
    "b = np.nonzero(a < 5)\n",
    "print(b)"
   ]
  },
  {
   "cell_type": "code",
   "execution_count": 25,
   "id": "3a7ee167",
   "metadata": {},
   "outputs": [
    {
     "name": "stdout",
     "output_type": "stream",
     "text": [
      "(0, 0)\n",
      "(0, 1)\n",
      "(0, 2)\n",
      "(0, 3)\n"
     ]
    }
   ],
   "source": [
    "list_of_coordinates= list(zip(b[0], b[1]))\n",
    "for coord in list_of_coordinates:\n",
    "    print(coord)"
   ]
  },
  {
   "cell_type": "code",
   "execution_count": 26,
   "id": "41ee1b93",
   "metadata": {},
   "outputs": [
    {
     "name": "stdout",
     "output_type": "stream",
     "text": [
      "[1 2 3 4]\n"
     ]
    }
   ],
   "source": [
    "print(a[b])"
   ]
  },
  {
   "cell_type": "code",
   "execution_count": 27,
   "id": "f0d5cdef",
   "metadata": {},
   "outputs": [
    {
     "name": "stdout",
     "output_type": "stream",
     "text": [
      "(array([], dtype=int64), array([], dtype=int64))\n"
     ]
    }
   ],
   "source": [
    "not_there = np.nonzero(a == 42)\n",
    "print(not_there)"
   ]
  },
  {
   "cell_type": "markdown",
   "id": "22029353",
   "metadata": {},
   "source": [
    "## How to create an array from existing data"
   ]
  },
  {
   "cell_type": "code",
   "execution_count": 29,
   "id": "bc42380f",
   "metadata": {},
   "outputs": [],
   "source": [
    "a = np.array([1, 2, 3, 4, 5, 6, 7, 8, 9, 10])"
   ]
  },
  {
   "cell_type": "code",
   "execution_count": 30,
   "id": "69d5763b",
   "metadata": {},
   "outputs": [
    {
     "data": {
      "text/plain": [
       "array([4, 5, 6, 7, 8])"
      ]
     },
     "execution_count": 30,
     "metadata": {},
     "output_type": "execute_result"
    }
   ],
   "source": [
    "arr1 = a[3:8]\n",
    "arr1"
   ]
  },
  {
   "cell_type": "code",
   "execution_count": 31,
   "id": "2b2a6169",
   "metadata": {},
   "outputs": [],
   "source": [
    "a1 = np.array([[1, 1],[2, 2]])"
   ]
  },
  {
   "cell_type": "code",
   "execution_count": 32,
   "id": "eb997ffe",
   "metadata": {},
   "outputs": [],
   "source": [
    "a2 = np.array([[3, 3],[4, 4]])"
   ]
  },
  {
   "cell_type": "code",
   "execution_count": 33,
   "id": "76b444e1",
   "metadata": {},
   "outputs": [
    {
     "data": {
      "text/plain": [
       "array([[1, 1],\n",
       "       [2, 2],\n",
       "       [3, 3],\n",
       "       [4, 4]])"
      ]
     },
     "execution_count": 33,
     "metadata": {},
     "output_type": "execute_result"
    }
   ],
   "source": [
    "np.vstack((a1, a2))"
   ]
  },
  {
   "cell_type": "code",
   "execution_count": 34,
   "id": "ff07861f",
   "metadata": {},
   "outputs": [
    {
     "data": {
      "text/plain": [
       "array([[1, 1, 3, 3],\n",
       "       [2, 2, 4, 4]])"
      ]
     },
     "execution_count": 34,
     "metadata": {},
     "output_type": "execute_result"
    }
   ],
   "source": [
    "np.hstack((a1, a2))"
   ]
  },
  {
   "cell_type": "code",
   "execution_count": 35,
   "id": "510020a8",
   "metadata": {},
   "outputs": [
    {
     "data": {
      "text/plain": [
       "array([[ 1,  2,  3,  4,  5,  6,  7,  8,  9, 10, 11, 12],\n",
       "       [13, 14, 15, 16, 17, 18, 19, 20, 21, 22, 23, 24]])"
      ]
     },
     "execution_count": 35,
     "metadata": {},
     "output_type": "execute_result"
    }
   ],
   "source": [
    "x = np.arange(1, 25).reshape(2, 12)\n",
    "x"
   ]
  },
  {
   "cell_type": "code",
   "execution_count": 36,
   "id": "a0ecdfa4",
   "metadata": {},
   "outputs": [
    {
     "data": {
      "text/plain": [
       "[array([[ 1,  2,  3,  4],\n",
       "        [13, 14, 15, 16]]),\n",
       " array([[ 5,  6,  7,  8],\n",
       "        [17, 18, 19, 20]]),\n",
       " array([[ 9, 10, 11, 12],\n",
       "        [21, 22, 23, 24]])]"
      ]
     },
     "execution_count": 36,
     "metadata": {},
     "output_type": "execute_result"
    }
   ],
   "source": [
    "np.hsplit(x, 3)"
   ]
  },
  {
   "cell_type": "code",
   "execution_count": 38,
   "id": "16a89987",
   "metadata": {},
   "outputs": [
    {
     "data": {
      "text/plain": [
       "[array([[ 1,  2,  3],\n",
       "        [13, 14, 15]]),\n",
       " array([[ 4],\n",
       "        [16]]),\n",
       " array([[ 5,  6,  7,  8,  9, 10, 11, 12],\n",
       "        [17, 18, 19, 20, 21, 22, 23, 24]])]"
      ]
     },
     "execution_count": 38,
     "metadata": {},
     "output_type": "execute_result"
    }
   ],
   "source": [
    "np.hsplit(x, (3, 4))"
   ]
  },
  {
   "cell_type": "code",
   "execution_count": 39,
   "id": "959b6cf4",
   "metadata": {},
   "outputs": [],
   "source": [
    "a = np.array([[1, 2, 3, 4], [5, 6, 7, 8], [9, 10, 11, 12]])"
   ]
  },
  {
   "cell_type": "code",
   "execution_count": 40,
   "id": "673aabbd",
   "metadata": {},
   "outputs": [
    {
     "data": {
      "text/plain": [
       "array([[ 1,  2,  3,  4],\n",
       "       [ 5,  6,  7,  8],\n",
       "       [ 9, 10, 11, 12]])"
      ]
     },
     "execution_count": 40,
     "metadata": {},
     "output_type": "execute_result"
    }
   ],
   "source": [
    "a"
   ]
  },
  {
   "cell_type": "code",
   "execution_count": 41,
   "id": "e925b09a",
   "metadata": {},
   "outputs": [
    {
     "data": {
      "text/plain": [
       "array([1, 2, 3, 4])"
      ]
     },
     "execution_count": 41,
     "metadata": {},
     "output_type": "execute_result"
    }
   ],
   "source": [
    "b1 = a[0, :]\n",
    "b1"
   ]
  },
  {
   "cell_type": "code",
   "execution_count": 42,
   "id": "6154174a",
   "metadata": {},
   "outputs": [
    {
     "data": {
      "text/plain": [
       "array([99,  2,  3,  4])"
      ]
     },
     "execution_count": 42,
     "metadata": {},
     "output_type": "execute_result"
    }
   ],
   "source": [
    "b1[0] = 99\n",
    "b1"
   ]
  },
  {
   "cell_type": "code",
   "execution_count": 43,
   "id": "84d9d765",
   "metadata": {},
   "outputs": [
    {
     "data": {
      "text/plain": [
       "array([[99,  2,  3,  4],\n",
       "       [ 5,  6,  7,  8],\n",
       "       [ 9, 10, 11, 12]])"
      ]
     },
     "execution_count": 43,
     "metadata": {},
     "output_type": "execute_result"
    }
   ],
   "source": [
    "a"
   ]
  },
  {
   "cell_type": "markdown",
   "id": "6a5a5288",
   "metadata": {},
   "source": [
    "**Copies and Views**"
   ]
  },
  {
   "cell_type": "code",
   "execution_count": 44,
   "id": "55baca9d",
   "metadata": {},
   "outputs": [
    {
     "data": {
      "text/plain": [
       "True"
      ]
     },
     "execution_count": 44,
     "metadata": {},
     "output_type": "execute_result"
    }
   ],
   "source": [
    "a = np.array([[ 0, 1, 2, 3],\n",
    "              [ 4, 5, 6, 7],\n",
    "              [ 8, 9, 10, 11]])\n",
    "b = a # no new object is created\n",
    "b is a # a and b are two names for the same ndarray object"
   ]
  },
  {
   "cell_type": "code",
   "execution_count": 45,
   "id": "af5c40dc",
   "metadata": {},
   "outputs": [
    {
     "name": "stdout",
     "output_type": "stream",
     "text": [
      "1417211878256\n"
     ]
    }
   ],
   "source": [
    "def f(x):\n",
    "    print(id(x))\n",
    "    \n",
    "id(a) # id is a unique identifier of an object"
   ]
  },
  {
   "cell_type": "code",
   "execution_count": 46,
   "id": "797a460b",
   "metadata": {},
   "outputs": [
    {
     "name": "stdout",
     "output_type": "stream",
     "text": [
      "1417211878256\n"
     ]
    }
   ],
   "source": [
    "f(a)"
   ]
  },
  {
   "cell_type": "code",
   "execution_count": 47,
   "id": "cf6a57d2",
   "metadata": {},
   "outputs": [],
   "source": [
    "c = a.view()"
   ]
  },
  {
   "cell_type": "code",
   "execution_count": 48,
   "id": "599f32f9",
   "metadata": {},
   "outputs": [
    {
     "data": {
      "text/plain": [
       "False"
      ]
     },
     "execution_count": 48,
     "metadata": {},
     "output_type": "execute_result"
    }
   ],
   "source": [
    "c is a"
   ]
  },
  {
   "cell_type": "code",
   "execution_count": 49,
   "id": "ebecb475",
   "metadata": {},
   "outputs": [
    {
     "data": {
      "text/plain": [
       "True"
      ]
     },
     "execution_count": 49,
     "metadata": {},
     "output_type": "execute_result"
    }
   ],
   "source": [
    "c.base is a # c is a view of the data owned by a"
   ]
  },
  {
   "cell_type": "code",
   "execution_count": 50,
   "id": "fb28aa83",
   "metadata": {},
   "outputs": [
    {
     "data": {
      "text/plain": [
       "False"
      ]
     },
     "execution_count": 50,
     "metadata": {},
     "output_type": "execute_result"
    }
   ],
   "source": [
    "c.flags.owndata #flags not understand"
   ]
  },
  {
   "cell_type": "code",
   "execution_count": 51,
   "id": "6acb85fe",
   "metadata": {},
   "outputs": [],
   "source": [
    "c = c.reshape((2, 6))"
   ]
  },
  {
   "cell_type": "code",
   "execution_count": 52,
   "id": "70610ec1",
   "metadata": {},
   "outputs": [
    {
     "data": {
      "text/plain": [
       "(3, 4)"
      ]
     },
     "execution_count": 52,
     "metadata": {},
     "output_type": "execute_result"
    }
   ],
   "source": [
    "a.shape # a's shape doesn't change"
   ]
  },
  {
   "cell_type": "code",
   "execution_count": 53,
   "id": "f79d508d",
   "metadata": {},
   "outputs": [],
   "source": [
    "c[0, 4] = 1234 # a's data changes"
   ]
  },
  {
   "cell_type": "code",
   "execution_count": 55,
   "id": "988c5f5d",
   "metadata": {},
   "outputs": [
    {
     "data": {
      "text/plain": [
       "array([[   0,    1,    2,    3, 1234,    5],\n",
       "       [   6,    7,    8,    9,   10,   11]])"
      ]
     },
     "execution_count": 55,
     "metadata": {},
     "output_type": "execute_result"
    }
   ],
   "source": [
    "c"
   ]
  },
  {
   "cell_type": "code",
   "execution_count": 56,
   "id": "6320c205",
   "metadata": {},
   "outputs": [
    {
     "data": {
      "text/plain": [
       "array([[   0,    1,    2,    3],\n",
       "       [1234,    5,    6,    7],\n",
       "       [   8,    9,   10,   11]])"
      ]
     },
     "execution_count": 56,
     "metadata": {},
     "output_type": "execute_result"
    }
   ],
   "source": [
    "a"
   ]
  },
  {
   "cell_type": "code",
   "execution_count": 59,
   "id": "8071dc64",
   "metadata": {},
   "outputs": [
    {
     "data": {
      "text/plain": [
       "array([[10, 10],\n",
       "       [10, 10],\n",
       "       [10, 10]])"
      ]
     },
     "execution_count": 59,
     "metadata": {},
     "output_type": "execute_result"
    }
   ],
   "source": [
    "s = a[:, 1:3]\n",
    "s"
   ]
  },
  {
   "cell_type": "code",
   "execution_count": 60,
   "id": "278450ca",
   "metadata": {},
   "outputs": [],
   "source": [
    "s[:] = 10 # s[:] is a view of s. Note the difference between s = 10 and s[:] = 10"
   ]
  },
  {
   "cell_type": "code",
   "execution_count": 72,
   "id": "dc5dcda3",
   "metadata": {},
   "outputs": [
    {
     "data": {
      "text/plain": [
       "array([[   0,   10,   10,    3],\n",
       "       [1234,   10,   10,    7],\n",
       "       [   8,   10,   10,   11]])"
      ]
     },
     "execution_count": 72,
     "metadata": {},
     "output_type": "execute_result"
    }
   ],
   "source": [
    "a"
   ]
  },
  {
   "cell_type": "markdown",
   "id": "cd4abb25",
   "metadata": {},
   "source": [
    "**Deep Copy**"
   ]
  },
  {
   "cell_type": "code",
   "execution_count": 73,
   "id": "3da467c0",
   "metadata": {},
   "outputs": [
    {
     "data": {
      "text/plain": [
       "False"
      ]
     },
     "execution_count": 73,
     "metadata": {},
     "output_type": "execute_result"
    }
   ],
   "source": [
    "d = a.copy() # a new array object with new data is created\n",
    "d is a"
   ]
  },
  {
   "cell_type": "code",
   "execution_count": 74,
   "id": "9e6d3161",
   "metadata": {},
   "outputs": [
    {
     "data": {
      "text/plain": [
       "False"
      ]
     },
     "execution_count": 74,
     "metadata": {},
     "output_type": "execute_result"
    }
   ],
   "source": [
    "d.base is a # d doesn't share anything with a"
   ]
  },
  {
   "cell_type": "code",
   "execution_count": 75,
   "id": "53de554a",
   "metadata": {},
   "outputs": [],
   "source": [
    "d[0, 0] = 9999"
   ]
  },
  {
   "cell_type": "code",
   "execution_count": 76,
   "id": "b1170213",
   "metadata": {},
   "outputs": [
    {
     "data": {
      "text/plain": [
       "array([[   0,   10,   10,    3],\n",
       "       [1234,   10,   10,    7],\n",
       "       [   8,   10,   10,   11]])"
      ]
     },
     "execution_count": 76,
     "metadata": {},
     "output_type": "execute_result"
    }
   ],
   "source": [
    "a"
   ]
  },
  {
   "cell_type": "code",
   "execution_count": 82,
   "id": "5e6f7028",
   "metadata": {},
   "outputs": [],
   "source": [
    "a = np.arange(int(1e8))"
   ]
  },
  {
   "cell_type": "code",
   "execution_count": 78,
   "id": "7f3caa80",
   "metadata": {},
   "outputs": [],
   "source": [
    "b = a[:100].copy()"
   ]
  },
  {
   "cell_type": "code",
   "execution_count": 83,
   "id": "e4585eca",
   "metadata": {},
   "outputs": [
    {
     "data": {
      "text/plain": [
       "array([       0,        1,        2, ..., 99999997, 99999998, 99999999])"
      ]
     },
     "execution_count": 83,
     "metadata": {},
     "output_type": "execute_result"
    }
   ],
   "source": [
    "a"
   ]
  },
  {
   "cell_type": "code",
   "execution_count": 79,
   "id": "957b6efc",
   "metadata": {},
   "outputs": [],
   "source": [
    "del a "
   ]
  },
  {
   "cell_type": "markdown",
   "id": "693caccd",
   "metadata": {},
   "source": [
    "## Basic array operations"
   ]
  },
  {
   "cell_type": "code",
   "execution_count": 84,
   "id": "38b4eec8",
   "metadata": {},
   "outputs": [
    {
     "data": {
      "text/plain": [
       "array([2, 3])"
      ]
     },
     "execution_count": 84,
     "metadata": {},
     "output_type": "execute_result"
    }
   ],
   "source": [
    "data = np.array([1, 2])\n",
    "ones = np.ones(2, dtype=int)\n",
    "data + ones"
   ]
  },
  {
   "cell_type": "markdown",
   "id": "05055d64",
   "metadata": {},
   "source": [
    "You can, of course, do more than just addition!"
   ]
  },
  {
   "cell_type": "code",
   "execution_count": 85,
   "id": "75d5f4ff",
   "metadata": {},
   "outputs": [
    {
     "data": {
      "text/plain": [
       "array([0, 1])"
      ]
     },
     "execution_count": 85,
     "metadata": {},
     "output_type": "execute_result"
    }
   ],
   "source": [
    "data - ones"
   ]
  },
  {
   "cell_type": "code",
   "execution_count": 86,
   "id": "2d6c4844",
   "metadata": {},
   "outputs": [
    {
     "data": {
      "text/plain": [
       "array([1, 4])"
      ]
     },
     "execution_count": 86,
     "metadata": {},
     "output_type": "execute_result"
    }
   ],
   "source": [
    "data * data"
   ]
  },
  {
   "cell_type": "code",
   "execution_count": 87,
   "id": "a796f014",
   "metadata": {},
   "outputs": [
    {
     "data": {
      "text/plain": [
       "array([1., 1.])"
      ]
     },
     "execution_count": 87,
     "metadata": {},
     "output_type": "execute_result"
    }
   ],
   "source": [
    "data / data"
   ]
  },
  {
   "cell_type": "code",
   "execution_count": 88,
   "id": "e0de75e6",
   "metadata": {},
   "outputs": [],
   "source": [
    "a = np.array([1, 2, 3, 4])"
   ]
  },
  {
   "cell_type": "code",
   "execution_count": 89,
   "id": "77f4363b",
   "metadata": {},
   "outputs": [
    {
     "data": {
      "text/plain": [
       "10"
      ]
     },
     "execution_count": 89,
     "metadata": {},
     "output_type": "execute_result"
    }
   ],
   "source": [
    "a.sum()"
   ]
  },
  {
   "cell_type": "code",
   "execution_count": 92,
   "id": "4dfd271b",
   "metadata": {},
   "outputs": [
    {
     "data": {
      "text/plain": [
       "array([3, 3])"
      ]
     },
     "execution_count": 92,
     "metadata": {},
     "output_type": "execute_result"
    }
   ],
   "source": [
    "b = np.array([[1, 1], [2, 2]])\n",
    "b.sum(axis=0)"
   ]
  },
  {
   "cell_type": "code",
   "execution_count": 93,
   "id": "ca645729",
   "metadata": {},
   "outputs": [
    {
     "data": {
      "text/plain": [
       "array([2, 4])"
      ]
     },
     "execution_count": 93,
     "metadata": {},
     "output_type": "execute_result"
    }
   ],
   "source": [
    "b.sum(axis=1)"
   ]
  },
  {
   "cell_type": "code",
   "execution_count": 94,
   "id": "8f76fa5b",
   "metadata": {},
   "outputs": [
    {
     "data": {
      "text/plain": [
       "array([0, 1, 2, 3])"
      ]
     },
     "execution_count": 94,
     "metadata": {},
     "output_type": "execute_result"
    }
   ],
   "source": [
    "a = np.array([20, 30, 40, 50])\n",
    "b = np.arange(4)\n",
    "b"
   ]
  },
  {
   "cell_type": "code",
   "execution_count": 95,
   "id": "bb9e95c9",
   "metadata": {},
   "outputs": [],
   "source": [
    "c = a - b"
   ]
  },
  {
   "cell_type": "code",
   "execution_count": 96,
   "id": "67fdcbd0",
   "metadata": {},
   "outputs": [
    {
     "data": {
      "text/plain": [
       "array([20, 29, 38, 47])"
      ]
     },
     "execution_count": 96,
     "metadata": {},
     "output_type": "execute_result"
    }
   ],
   "source": [
    "c"
   ]
  },
  {
   "cell_type": "code",
   "execution_count": 97,
   "id": "a3e5c31d",
   "metadata": {},
   "outputs": [
    {
     "data": {
      "text/plain": [
       "array([0, 1, 4, 9])"
      ]
     },
     "execution_count": 97,
     "metadata": {},
     "output_type": "execute_result"
    }
   ],
   "source": [
    "b**2"
   ]
  },
  {
   "cell_type": "code",
   "execution_count": 98,
   "id": "fc75b3cf",
   "metadata": {},
   "outputs": [
    {
     "data": {
      "text/plain": [
       "array([ 9.12945251, -9.88031624,  7.4511316 , -2.62374854])"
      ]
     },
     "execution_count": 98,
     "metadata": {},
     "output_type": "execute_result"
    }
   ],
   "source": [
    "10 * np.sin(a)"
   ]
  },
  {
   "cell_type": "code",
   "execution_count": 99,
   "id": "584699ad",
   "metadata": {},
   "outputs": [
    {
     "data": {
      "text/plain": [
       "array([ True,  True, False, False])"
      ]
     },
     "execution_count": 99,
     "metadata": {},
     "output_type": "execute_result"
    }
   ],
   "source": [
    " a < 35"
   ]
  },
  {
   "cell_type": "markdown",
   "id": "546b5b0f",
   "metadata": {},
   "source": [
    "Unlike in many **matrix languages**, the product **operator * operates** elementwise in NumPy arrays. **The matrix product** can be performed using the **@ operator (in python >=3.5)** or the dot function or method:"
   ]
  },
  {
   "cell_type": "code",
   "execution_count": 100,
   "id": "f2f10d16",
   "metadata": {},
   "outputs": [
    {
     "data": {
      "text/plain": [
       "array([[2, 0],\n",
       "       [0, 4]])"
      ]
     },
     "execution_count": 100,
     "metadata": {},
     "output_type": "execute_result"
    }
   ],
   "source": [
    "A = np.array([[1, 1],[0, 1]])\n",
    "B = np.array([[2, 0],[3, 4]])\n",
    "A * B # elementwise product"
   ]
  },
  {
   "cell_type": "code",
   "execution_count": 102,
   "id": "7b9c7ab2",
   "metadata": {},
   "outputs": [
    {
     "data": {
      "text/plain": [
       "array([[5, 4],\n",
       "       [3, 4]])"
      ]
     },
     "execution_count": 102,
     "metadata": {},
     "output_type": "execute_result"
    }
   ],
   "source": [
    "A @ B ## matrix product"
   ]
  },
  {
   "cell_type": "code",
   "execution_count": 103,
   "id": "eed06729",
   "metadata": {},
   "outputs": [
    {
     "data": {
      "text/plain": [
       "array([[5, 4],\n",
       "       [3, 4]])"
      ]
     },
     "execution_count": 103,
     "metadata": {},
     "output_type": "execute_result"
    }
   ],
   "source": [
    "A.dot(B) # another matrix product"
   ]
  },
  {
   "cell_type": "code",
   "execution_count": 104,
   "id": "d9d03ab8",
   "metadata": {},
   "outputs": [],
   "source": [
    "# create instance of default random number generator\n",
    "rg = np.random.default_rng(1) "
   ]
  },
  {
   "cell_type": "code",
   "execution_count": 108,
   "id": "e37679a4",
   "metadata": {},
   "outputs": [],
   "source": [
    "a = np.ones((2, 3), dtype=int)\n",
    "b = rg.random((2, 3))\n",
    "a*=3"
   ]
  },
  {
   "cell_type": "code",
   "execution_count": 109,
   "id": "c7c80b84",
   "metadata": {},
   "outputs": [
    {
     "data": {
      "text/plain": [
       "array([[3, 3, 3],\n",
       "       [3, 3, 3]])"
      ]
     },
     "execution_count": 109,
     "metadata": {},
     "output_type": "execute_result"
    }
   ],
   "source": [
    "a"
   ]
  },
  {
   "cell_type": "code",
   "execution_count": 110,
   "id": "bc2f0165",
   "metadata": {},
   "outputs": [
    {
     "data": {
      "text/plain": [
       "array([[3.20345524, 3.26231334, 3.75036467],\n",
       "       [3.28040876, 3.48519097, 3.9807372 ]])"
      ]
     },
     "execution_count": 110,
     "metadata": {},
     "output_type": "execute_result"
    }
   ],
   "source": [
    "b += a\n",
    "b"
   ]
  },
  {
   "cell_type": "markdown",
   "id": "d4933d6c",
   "metadata": {},
   "source": [
    "## Broadcasting"
   ]
  },
  {
   "cell_type": "code",
   "execution_count": 3,
   "id": "b26228df",
   "metadata": {},
   "outputs": [
    {
     "data": {
      "text/plain": [
       "array([1.6, 3.2])"
      ]
     },
     "execution_count": 3,
     "metadata": {},
     "output_type": "execute_result"
    }
   ],
   "source": [
    "data = np.array([1.0, 2.0])\n",
    "data * 1.6"
   ]
  },
  {
   "cell_type": "code",
   "execution_count": 4,
   "id": "513d53ca",
   "metadata": {},
   "outputs": [
    {
     "data": {
      "text/plain": [
       "2.0"
      ]
     },
     "execution_count": 4,
     "metadata": {},
     "output_type": "execute_result"
    }
   ],
   "source": [
    "data.max()"
   ]
  },
  {
   "cell_type": "code",
   "execution_count": 5,
   "id": "d66529dc",
   "metadata": {},
   "outputs": [
    {
     "data": {
      "text/plain": [
       "1.0"
      ]
     },
     "execution_count": 5,
     "metadata": {},
     "output_type": "execute_result"
    }
   ],
   "source": [
    "data.min()"
   ]
  },
  {
   "cell_type": "code",
   "execution_count": 6,
   "id": "5b08c896",
   "metadata": {},
   "outputs": [
    {
     "data": {
      "text/plain": [
       "3.0"
      ]
     },
     "execution_count": 6,
     "metadata": {},
     "output_type": "execute_result"
    }
   ],
   "source": [
    "data.sum()"
   ]
  },
  {
   "cell_type": "code",
   "execution_count": 7,
   "id": "c76116de",
   "metadata": {},
   "outputs": [],
   "source": [
    "a = np.array([[0.45053314, 0.17296777, 0.34376245, 0.5510652],\n",
    "              [0.54627315, 0.05093587, 0.40067661, 0.55645993],\n",
    "              [0.12697628, 0.82485143, 0.26590556, 0.56917101]])"
   ]
  },
  {
   "cell_type": "code",
   "execution_count": 8,
   "id": "1a930a43",
   "metadata": {},
   "outputs": [
    {
     "data": {
      "text/plain": [
       "4.8595784"
      ]
     },
     "execution_count": 8,
     "metadata": {},
     "output_type": "execute_result"
    }
   ],
   "source": [
    "a.sum()"
   ]
  },
  {
   "cell_type": "code",
   "execution_count": 9,
   "id": "ef38c862",
   "metadata": {},
   "outputs": [
    {
     "data": {
      "text/plain": [
       "0.05093587"
      ]
     },
     "execution_count": 9,
     "metadata": {},
     "output_type": "execute_result"
    }
   ],
   "source": [
    "a.min()"
   ]
  },
  {
   "cell_type": "code",
   "execution_count": 10,
   "id": "58331688",
   "metadata": {},
   "outputs": [
    {
     "data": {
      "text/plain": [
       "array([0.12697628, 0.05093587, 0.26590556, 0.5510652 ])"
      ]
     },
     "execution_count": 10,
     "metadata": {},
     "output_type": "execute_result"
    }
   ],
   "source": [
    "a.min(axis=0)"
   ]
  },
  {
   "cell_type": "markdown",
   "id": "e92e28b0",
   "metadata": {},
   "source": [
    "## Creating matrices"
   ]
  },
  {
   "cell_type": "code",
   "execution_count": 11,
   "id": "d2f61c1a",
   "metadata": {},
   "outputs": [
    {
     "data": {
      "text/plain": [
       "array([[1, 2],\n",
       "       [3, 4],\n",
       "       [5, 6]])"
      ]
     },
     "execution_count": 11,
     "metadata": {},
     "output_type": "execute_result"
    }
   ],
   "source": [
    "data = np.array([[1, 2], [3, 4], [5, 6]])\n",
    "data"
   ]
  },
  {
   "cell_type": "code",
   "execution_count": 14,
   "id": "8937d3c8",
   "metadata": {},
   "outputs": [
    {
     "data": {
      "text/plain": [
       "2"
      ]
     },
     "execution_count": 14,
     "metadata": {},
     "output_type": "execute_result"
    }
   ],
   "source": [
    "data[0, 1]"
   ]
  },
  {
   "cell_type": "code",
   "execution_count": 15,
   "id": "4f726d0e",
   "metadata": {},
   "outputs": [
    {
     "data": {
      "text/plain": [
       "array([[3, 4],\n",
       "       [5, 6]])"
      ]
     },
     "execution_count": 15,
     "metadata": {},
     "output_type": "execute_result"
    }
   ],
   "source": [
    "data[1:3]"
   ]
  },
  {
   "cell_type": "code",
   "execution_count": 16,
   "id": "c54464e7",
   "metadata": {},
   "outputs": [
    {
     "data": {
      "text/plain": [
       "array([1, 3])"
      ]
     },
     "execution_count": 16,
     "metadata": {},
     "output_type": "execute_result"
    }
   ],
   "source": [
    "data[0:2, 0]"
   ]
  },
  {
   "cell_type": "code",
   "execution_count": 17,
   "id": "aa9046ad",
   "metadata": {},
   "outputs": [
    {
     "data": {
      "text/plain": [
       "6"
      ]
     },
     "execution_count": 17,
     "metadata": {},
     "output_type": "execute_result"
    }
   ],
   "source": [
    "data.max()"
   ]
  },
  {
   "cell_type": "code",
   "execution_count": 18,
   "id": "4eb447f2",
   "metadata": {},
   "outputs": [
    {
     "data": {
      "text/plain": [
       "1"
      ]
     },
     "execution_count": 18,
     "metadata": {},
     "output_type": "execute_result"
    }
   ],
   "source": [
    "data.min()"
   ]
  },
  {
   "cell_type": "code",
   "execution_count": 19,
   "id": "227fbff1",
   "metadata": {},
   "outputs": [
    {
     "data": {
      "text/plain": [
       "21"
      ]
     },
     "execution_count": 19,
     "metadata": {},
     "output_type": "execute_result"
    }
   ],
   "source": [
    "data.sum()"
   ]
  },
  {
   "cell_type": "code",
   "execution_count": 20,
   "id": "4db18cfe",
   "metadata": {},
   "outputs": [
    {
     "data": {
      "text/plain": [
       "array([[1, 2],\n",
       "       [5, 3],\n",
       "       [4, 6]])"
      ]
     },
     "execution_count": 20,
     "metadata": {},
     "output_type": "execute_result"
    }
   ],
   "source": [
    "data = np.array([[1, 2], [5, 3], [4, 6]])\n",
    "data"
   ]
  },
  {
   "cell_type": "code",
   "execution_count": 21,
   "id": "b505074b",
   "metadata": {},
   "outputs": [
    {
     "data": {
      "text/plain": [
       "array([5, 6])"
      ]
     },
     "execution_count": 21,
     "metadata": {},
     "output_type": "execute_result"
    }
   ],
   "source": [
    "data.max(axis=0)"
   ]
  },
  {
   "cell_type": "code",
   "execution_count": 22,
   "id": "eb5dc44a",
   "metadata": {},
   "outputs": [
    {
     "data": {
      "text/plain": [
       "array([2, 5, 6])"
      ]
     },
     "execution_count": 22,
     "metadata": {},
     "output_type": "execute_result"
    }
   ],
   "source": [
    "data.max(axis=1)"
   ]
  },
  {
   "cell_type": "code",
   "execution_count": 23,
   "id": "f469870e",
   "metadata": {},
   "outputs": [],
   "source": [
    "data = np.array([[1, 2], [3, 4]])\n",
    "ones = np.array([[1, 1], [1, 1]])"
   ]
  },
  {
   "cell_type": "code",
   "execution_count": 24,
   "id": "788e9ac8",
   "metadata": {},
   "outputs": [
    {
     "data": {
      "text/plain": [
       "array([[2, 3],\n",
       "       [4, 5]])"
      ]
     },
     "execution_count": 24,
     "metadata": {},
     "output_type": "execute_result"
    }
   ],
   "source": [
    "data + ones"
   ]
  },
  {
   "cell_type": "code",
   "execution_count": 25,
   "id": "bdee8083",
   "metadata": {},
   "outputs": [],
   "source": [
    "data = np.array([[1, 2], [3, 4], [5, 6]])\n",
    "ones_row = np.array([[1, 1]])"
   ]
  },
  {
   "cell_type": "code",
   "execution_count": 26,
   "id": "966de991",
   "metadata": {},
   "outputs": [
    {
     "data": {
      "text/plain": [
       "array([[2, 3],\n",
       "       [4, 5],\n",
       "       [6, 7]])"
      ]
     },
     "execution_count": 26,
     "metadata": {},
     "output_type": "execute_result"
    }
   ],
   "source": [
    "data + ones_row"
   ]
  },
  {
   "cell_type": "code",
   "execution_count": 27,
   "id": "f6afbe4b",
   "metadata": {},
   "outputs": [
    {
     "data": {
      "text/plain": [
       "array([[[1., 1.],\n",
       "        [1., 1.],\n",
       "        [1., 1.]],\n",
       "\n",
       "       [[1., 1.],\n",
       "        [1., 1.],\n",
       "        [1., 1.]],\n",
       "\n",
       "       [[1., 1.],\n",
       "        [1., 1.],\n",
       "        [1., 1.]],\n",
       "\n",
       "       [[1., 1.],\n",
       "        [1., 1.],\n",
       "        [1., 1.]]])"
      ]
     },
     "execution_count": 27,
     "metadata": {},
     "output_type": "execute_result"
    }
   ],
   "source": [
    "np.ones((4, 3, 2))"
   ]
  },
  {
   "cell_type": "code",
   "execution_count": 28,
   "id": "436b1d7b",
   "metadata": {},
   "outputs": [
    {
     "data": {
      "text/plain": [
       "array([1., 1., 1.])"
      ]
     },
     "execution_count": 28,
     "metadata": {},
     "output_type": "execute_result"
    }
   ],
   "source": [
    "np.ones(3)"
   ]
  },
  {
   "cell_type": "code",
   "execution_count": 29,
   "id": "e24d8134",
   "metadata": {},
   "outputs": [
    {
     "data": {
      "text/plain": [
       "array([0., 0., 0.])"
      ]
     },
     "execution_count": 29,
     "metadata": {},
     "output_type": "execute_result"
    }
   ],
   "source": [
    "np.zeros(3)"
   ]
  },
  {
   "cell_type": "code",
   "execution_count": 30,
   "id": "9d157b38",
   "metadata": {},
   "outputs": [],
   "source": [
    "rng = np.random.default_rng() # the simplest way to generate random numbers"
   ]
  },
  {
   "cell_type": "code",
   "execution_count": 31,
   "id": "07b7bd9b",
   "metadata": {},
   "outputs": [
    {
     "data": {
      "text/plain": [
       "array([0.04969145, 0.19541382, 0.36931769])"
      ]
     },
     "execution_count": 31,
     "metadata": {},
     "output_type": "execute_result"
    }
   ],
   "source": [
    "rng.random(3)"
   ]
  },
  {
   "cell_type": "code",
   "execution_count": 32,
   "id": "07632f0e",
   "metadata": {},
   "outputs": [
    {
     "data": {
      "text/plain": [
       "array([[1., 1.],\n",
       "       [1., 1.],\n",
       "       [1., 1.]])"
      ]
     },
     "execution_count": 32,
     "metadata": {},
     "output_type": "execute_result"
    }
   ],
   "source": [
    "np.ones((3, 2))"
   ]
  },
  {
   "cell_type": "code",
   "execution_count": 33,
   "id": "9a9b5ff3",
   "metadata": {},
   "outputs": [
    {
     "data": {
      "text/plain": [
       "array([[0., 0.],\n",
       "       [0., 0.],\n",
       "       [0., 0.]])"
      ]
     },
     "execution_count": 33,
     "metadata": {},
     "output_type": "execute_result"
    }
   ],
   "source": [
    "np.zeros((3, 2))"
   ]
  },
  {
   "cell_type": "code",
   "execution_count": 34,
   "id": "8c19d61c",
   "metadata": {},
   "outputs": [
    {
     "data": {
      "text/plain": [
       "array([[0.65400923, 0.77754395],\n",
       "       [0.2546342 , 0.18604503],\n",
       "       [0.15330575, 0.18518167]])"
      ]
     },
     "execution_count": 34,
     "metadata": {},
     "output_type": "execute_result"
    }
   ],
   "source": [
    "rng.random((3, 2))"
   ]
  },
  {
   "cell_type": "markdown",
   "id": "e6f45798",
   "metadata": {},
   "source": [
    "## Generating random numbers"
   ]
  },
  {
   "cell_type": "code",
   "execution_count": 36,
   "id": "8cdb54cc",
   "metadata": {},
   "outputs": [
    {
     "data": {
      "text/plain": [
       "array([[4, 3, 4, 0],\n",
       "       [3, 1, 1, 0]], dtype=int64)"
      ]
     },
     "execution_count": 36,
     "metadata": {},
     "output_type": "execute_result"
    }
   ],
   "source": [
    "rng.integers(5, size=(2, 4))"
   ]
  },
  {
   "cell_type": "code",
   "execution_count": 38,
   "id": "95939394",
   "metadata": {},
   "outputs": [
    {
     "data": {
      "text/plain": [
       "array([[4, 3, 9, 1, 0, 7],\n",
       "       [9, 8, 0, 8, 0, 4],\n",
       "       [2, 8, 5, 3, 4, 7],\n",
       "       [5, 2, 5, 9, 4, 0],\n",
       "       [3, 6, 9, 4, 1, 6]], dtype=int64)"
      ]
     },
     "execution_count": 38,
     "metadata": {},
     "output_type": "execute_result"
    }
   ],
   "source": [
    "rng.integers(10, size=(5, 6))"
   ]
  },
  {
   "cell_type": "markdown",
   "id": "270321aa",
   "metadata": {},
   "source": [
    "## How to get unique items and counts"
   ]
  },
  {
   "cell_type": "code",
   "execution_count": 43,
   "id": "6d272b68",
   "metadata": {},
   "outputs": [],
   "source": [
    "a = np.array([11, 11, 12, 13, 14, 15, 16, 17, 12, 13, 11, 14, 18, 19, 20])"
   ]
  },
  {
   "cell_type": "code",
   "execution_count": 44,
   "id": "fa8b02f9",
   "metadata": {},
   "outputs": [
    {
     "name": "stdout",
     "output_type": "stream",
     "text": [
      "[11 12 13 14 15 16 17 18 19 20]\n"
     ]
    }
   ],
   "source": [
    "unique_values = np.unique(a)\n",
    "print(unique_values)"
   ]
  },
  {
   "cell_type": "code",
   "execution_count": 46,
   "id": "a314560e",
   "metadata": {},
   "outputs": [
    {
     "name": "stdout",
     "output_type": "stream",
     "text": [
      "[11 12 13 14 15 16 17 18 19 20] [ 0  2  3  4  5  6  7 12 13 14]\n"
     ]
    }
   ],
   "source": [
    "unique_values, indices_list = np.unique(a, return_index=True)\n",
    "print(unique_values, indices_list)"
   ]
  },
  {
   "cell_type": "markdown",
   "id": "4052d200",
   "metadata": {},
   "source": [
    "You can pass the return_counts argument in np.unique() along with your array to get the frequency count of unique values in a NumPy array."
   ]
  },
  {
   "cell_type": "code",
   "execution_count": 47,
   "id": "bc00d5b2",
   "metadata": {},
   "outputs": [
    {
     "name": "stdout",
     "output_type": "stream",
     "text": [
      "[3 2 2 2 1 1 1 1 1 1]\n"
     ]
    }
   ],
   "source": [
    "unique_values, occurrence_count = np.unique(a, return_counts=True)\n",
    "print(occurrence_count)"
   ]
  },
  {
   "cell_type": "markdown",
   "id": "ad8db962",
   "metadata": {},
   "source": [
    "This also works with 2D arrays! If you start with this array"
   ]
  },
  {
   "cell_type": "code",
   "execution_count": 48,
   "id": "db77b134",
   "metadata": {},
   "outputs": [],
   "source": [
    "a_2d = np.array([[1, 2, 3, 4], [5, 6, 7, 8], [9, 10, 11, 12], [1, 2, 3, 4]])"
   ]
  },
  {
   "cell_type": "code",
   "execution_count": 52,
   "id": "b7cbf8f8",
   "metadata": {},
   "outputs": [
    {
     "data": {
      "text/plain": [
       "array([[ 1,  2,  3,  4],\n",
       "       [ 5,  6,  7,  8],\n",
       "       [ 9, 10, 11, 12],\n",
       "       [ 1,  2,  3,  4]])"
      ]
     },
     "execution_count": 52,
     "metadata": {},
     "output_type": "execute_result"
    }
   ],
   "source": [
    "a_2d"
   ]
  },
  {
   "cell_type": "code",
   "execution_count": 49,
   "id": "effd5ee6",
   "metadata": {},
   "outputs": [
    {
     "name": "stdout",
     "output_type": "stream",
     "text": [
      "[ 1  2  3  4  5  6  7  8  9 10 11 12]\n"
     ]
    }
   ],
   "source": [
    "unique_values = np.unique(a_2d)\n",
    "print(unique_values)"
   ]
  },
  {
   "cell_type": "code",
   "execution_count": 50,
   "id": "78b90730",
   "metadata": {},
   "outputs": [
    {
     "name": "stdout",
     "output_type": "stream",
     "text": [
      "[[ 1  2  3  4]\n",
      " [ 5  6  7  8]\n",
      " [ 9 10 11 12]]\n"
     ]
    }
   ],
   "source": [
    "unique_rows = np.unique(a_2d, axis=0)\n",
    "print(unique_rows)"
   ]
  },
  {
   "cell_type": "code",
   "execution_count": 53,
   "id": "2678947f",
   "metadata": {},
   "outputs": [
    {
     "name": "stdout",
     "output_type": "stream",
     "text": [
      "[[ 1  2  3  4]\n",
      " [ 5  6  7  8]\n",
      " [ 9 10 11 12]\n",
      " [ 1  2  3  4]]\n"
     ]
    }
   ],
   "source": [
    "unique_column = np.unique(a_2d, axis=1)\n",
    "print(unique_column)"
   ]
  },
  {
   "cell_type": "code",
   "execution_count": 71,
   "id": "f4425e30",
   "metadata": {},
   "outputs": [],
   "source": [
    "unique_rows, indices, occurrence_count = np.unique(a_2d,axis=0, return_index=True, return_counts=True)"
   ]
  },
  {
   "cell_type": "code",
   "execution_count": 79,
   "id": "b4349d77",
   "metadata": {},
   "outputs": [],
   "source": [
    "#unique_rows, indices, occurrence_count = np.unique(a_2d,axis=0,return_counts=True,return_index=True)"
   ]
  },
  {
   "cell_type": "code",
   "execution_count": 72,
   "id": "167bbc93",
   "metadata": {},
   "outputs": [
    {
     "name": "stdout",
     "output_type": "stream",
     "text": [
      "[[ 1  2  3  4]\n",
      " [ 5  6  7  8]\n",
      " [ 9 10 11 12]]\n"
     ]
    }
   ],
   "source": [
    "print(unique_rows)"
   ]
  },
  {
   "cell_type": "code",
   "execution_count": 77,
   "id": "2ca6d397",
   "metadata": {},
   "outputs": [
    {
     "name": "stdout",
     "output_type": "stream",
     "text": [
      "[0 1 2]\n"
     ]
    }
   ],
   "source": [
    "print(indices) # mot clee io indices io ka n'importe ou misy an'ilay return_index dia hitany fona."
   ]
  },
  {
   "cell_type": "code",
   "execution_count": 78,
   "id": "ac9b50e0",
   "metadata": {},
   "outputs": [
    {
     "name": "stdout",
     "output_type": "stream",
     "text": [
      "[2 1 1]\n"
     ]
    }
   ],
   "source": [
    "print(occurrence_count) # mot clee io occurrence_count io ka n'importe ou misy an'ilay return_index dia hitany fona."
   ]
  },
  {
   "cell_type": "markdown",
   "id": "189dcd81",
   "metadata": {},
   "source": [
    "## Transposing and reshaping a matrix"
   ]
  },
  {
   "cell_type": "markdown",
   "id": "b8b70538",
   "metadata": {},
   "source": [
    "This section covers arr.reshape(), arr.transpose(), arr.T"
   ]
  },
  {
   "cell_type": "code",
   "execution_count": 80,
   "id": "e6472b79",
   "metadata": {},
   "outputs": [
    {
     "data": {
      "text/plain": [
       "array([[1, 2, 3],\n",
       "       [4, 5, 6]])"
      ]
     },
     "execution_count": 80,
     "metadata": {},
     "output_type": "execute_result"
    }
   ],
   "source": [
    "data.reshape(2, 3)"
   ]
  },
  {
   "cell_type": "code",
   "execution_count": 81,
   "id": "dea11fa4",
   "metadata": {},
   "outputs": [
    {
     "data": {
      "text/plain": [
       "array([[1, 2],\n",
       "       [3, 4],\n",
       "       [5, 6]])"
      ]
     },
     "execution_count": 81,
     "metadata": {},
     "output_type": "execute_result"
    }
   ],
   "source": [
    "data.reshape(3, 2)"
   ]
  },
  {
   "cell_type": "code",
   "execution_count": 82,
   "id": "e47b0cf5",
   "metadata": {},
   "outputs": [
    {
     "data": {
      "text/plain": [
       "array([[0, 1, 2],\n",
       "       [3, 4, 5]])"
      ]
     },
     "execution_count": 82,
     "metadata": {},
     "output_type": "execute_result"
    }
   ],
   "source": [
    "arr = np.arange(6).reshape((2, 3))\n",
    "arr"
   ]
  },
  {
   "cell_type": "markdown",
   "id": "00a1a005",
   "metadata": {},
   "source": [
    "You can transpose your array with arr.transpose() and arr.T "
   ]
  },
  {
   "cell_type": "code",
   "execution_count": 83,
   "id": "1a698f17",
   "metadata": {},
   "outputs": [
    {
     "data": {
      "text/plain": [
       "array([[0, 3],\n",
       "       [1, 4],\n",
       "       [2, 5]])"
      ]
     },
     "execution_count": 83,
     "metadata": {},
     "output_type": "execute_result"
    }
   ],
   "source": [
    "arr.transpose()"
   ]
  },
  {
   "cell_type": "code",
   "execution_count": 84,
   "id": "6442bd0e",
   "metadata": {},
   "outputs": [
    {
     "data": {
      "text/plain": [
       "array([[0, 3],\n",
       "       [1, 4],\n",
       "       [2, 5]])"
      ]
     },
     "execution_count": 84,
     "metadata": {},
     "output_type": "execute_result"
    }
   ],
   "source": [
    "arr.T"
   ]
  },
  {
   "cell_type": "markdown",
   "id": "48dd3ec8",
   "metadata": {},
   "source": [
    "## How to reverse an array"
   ]
  },
  {
   "cell_type": "markdown",
   "id": "7174c43a",
   "metadata": {},
   "source": [
    "This section covers np.flip()"
   ]
  },
  {
   "cell_type": "markdown",
   "id": "f7496de0",
   "metadata": {},
   "source": [
    "**Reversing a 1D array**"
   ]
  },
  {
   "cell_type": "code",
   "execution_count": 85,
   "id": "37ade85d",
   "metadata": {},
   "outputs": [],
   "source": [
    "arr = np.array([1, 2, 3, 4, 5, 6, 7, 8])"
   ]
  },
  {
   "cell_type": "code",
   "execution_count": 86,
   "id": "0b6eb93d",
   "metadata": {},
   "outputs": [],
   "source": [
    "reversed_arr = np.flip(arr)"
   ]
  },
  {
   "cell_type": "code",
   "execution_count": 87,
   "id": "1bbca91b",
   "metadata": {},
   "outputs": [
    {
     "name": "stdout",
     "output_type": "stream",
     "text": [
      "Reversed Array:  [8 7 6 5 4 3 2 1]\n"
     ]
    }
   ],
   "source": [
    "print('Reversed Array: ', reversed_arr)"
   ]
  },
  {
   "cell_type": "markdown",
   "id": "bc27dd59",
   "metadata": {},
   "source": [
    "**Reversing a 2D array**"
   ]
  },
  {
   "cell_type": "code",
   "execution_count": 99,
   "id": "e541870a",
   "metadata": {},
   "outputs": [
    {
     "data": {
      "text/plain": [
       "array([[ 1,  2,  3,  4],\n",
       "       [ 5,  6,  7,  8],\n",
       "       [ 9, 10, 11, 12]])"
      ]
     },
     "execution_count": 99,
     "metadata": {},
     "output_type": "execute_result"
    }
   ],
   "source": [
    "arr_2d = np.array([[1, 2, 3, 4], [5, 6, 7, 8], [9, 10, 11, 12]])\n",
    "arr_2d"
   ]
  },
  {
   "cell_type": "code",
   "execution_count": 89,
   "id": "45e255a6",
   "metadata": {},
   "outputs": [],
   "source": [
    "reversed_arr = np.flip(arr_2d)"
   ]
  },
  {
   "cell_type": "code",
   "execution_count": 90,
   "id": "4a3d0c3d",
   "metadata": {},
   "outputs": [
    {
     "name": "stdout",
     "output_type": "stream",
     "text": [
      "[[12 11 10  9]\n",
      " [ 8  7  6  5]\n",
      " [ 4  3  2  1]]\n"
     ]
    }
   ],
   "source": [
    "print(reversed_arr)"
   ]
  },
  {
   "cell_type": "code",
   "execution_count": 93,
   "id": "56c14da0",
   "metadata": {},
   "outputs": [
    {
     "name": "stdout",
     "output_type": "stream",
     "text": [
      "[[ 9 10 11 12]\n",
      " [ 5  6  7  8]\n",
      " [ 1  2  3  4]]\n"
     ]
    }
   ],
   "source": [
    "reversed_arr_rows = np.flip(arr_2d, axis=0)\n",
    "print(reversed_arr_rows)"
   ]
  },
  {
   "cell_type": "code",
   "execution_count": 110,
   "id": "c221da71",
   "metadata": {},
   "outputs": [
    {
     "name": "stdout",
     "output_type": "stream",
     "text": [
      "[[ 4  3 10  1]\n",
      " [ 8  7  6  5]\n",
      " [12 11  2  9]]\n"
     ]
    }
   ],
   "source": [
    "reversed_arr_columns = np.flip(arr_2d, axis=1)\n",
    "print(reversed_arr_columns)"
   ]
  },
  {
   "cell_type": "code",
   "execution_count": 111,
   "id": "376d6dae",
   "metadata": {},
   "outputs": [
    {
     "name": "stdout",
     "output_type": "stream",
     "text": [
      "[[ 1 10  3  4]\n",
      " [ 8  7  6  5]\n",
      " [ 9  2 11 12]]\n"
     ]
    }
   ],
   "source": [
    "arr_2d[1] = np.flip(arr_2d[1])\n",
    "print(arr_2d)"
   ]
  },
  {
   "cell_type": "markdown",
   "id": "932531af",
   "metadata": {},
   "source": [
    "You can also reverse the column at index position 1 (the second column):"
   ]
  },
  {
   "cell_type": "code",
   "execution_count": 112,
   "id": "a78dd216",
   "metadata": {},
   "outputs": [],
   "source": [
    "arr_2d[:,1] = np.flip(arr_2d[:,1])"
   ]
  },
  {
   "cell_type": "code",
   "execution_count": 113,
   "id": "657f9d4d",
   "metadata": {},
   "outputs": [
    {
     "data": {
      "text/plain": [
       "array([ 2,  7, 10])"
      ]
     },
     "execution_count": 113,
     "metadata": {},
     "output_type": "execute_result"
    }
   ],
   "source": [
    "arr_2d[:,1]"
   ]
  },
  {
   "cell_type": "code",
   "execution_count": 114,
   "id": "f301e9c3",
   "metadata": {},
   "outputs": [
    {
     "name": "stdout",
     "output_type": "stream",
     "text": [
      "[[ 1  2  3  4]\n",
      " [ 8  7  6  5]\n",
      " [ 9 10 11 12]]\n"
     ]
    }
   ],
   "source": [
    "print(arr_2d)"
   ]
  },
  {
   "cell_type": "markdown",
   "id": "327ea8f2",
   "metadata": {},
   "source": [
    "You can also reverse the column at index position 1 (the second column):"
   ]
  },
  {
   "cell_type": "code",
   "execution_count": 115,
   "id": "ed261882",
   "metadata": {},
   "outputs": [],
   "source": [
    "arr_2d[:,1] = np.flip(arr_2d[:,1])"
   ]
  },
  {
   "cell_type": "markdown",
   "id": "090bc3ee",
   "metadata": {},
   "source": [
    "You can also reverse the column at index position 1 (the second column):"
   ]
  },
  {
   "cell_type": "code",
   "execution_count": 116,
   "id": "f78a7ca7",
   "metadata": {},
   "outputs": [
    {
     "name": "stdout",
     "output_type": "stream",
     "text": [
      "[[ 1 10  3  4]\n",
      " [ 8  7  6  5]\n",
      " [ 9  2 11 12]]\n"
     ]
    }
   ],
   "source": [
    "print(arr_2d)"
   ]
  },
  {
   "cell_type": "markdown",
   "id": "7f2debe3",
   "metadata": {},
   "source": [
    "## Reshaping and flattening multidimensional arrays"
   ]
  },
  {
   "cell_type": "markdown",
   "id": "30c52335",
   "metadata": {},
   "source": [
    "This section covers: flatten(), ravel()"
   ]
  },
  {
   "cell_type": "code",
   "execution_count": 117,
   "id": "6dd6b453",
   "metadata": {},
   "outputs": [],
   "source": [
    "x = np.array([[1 , 2, 3, 4], [5, 6, 7, 8], [9, 10, 11, 12]])"
   ]
  },
  {
   "cell_type": "code",
   "execution_count": 118,
   "id": "238f6d69",
   "metadata": {},
   "outputs": [
    {
     "data": {
      "text/plain": [
       "array([ 1,  2,  3,  4,  5,  6,  7,  8,  9, 10, 11, 12])"
      ]
     },
     "execution_count": 118,
     "metadata": {},
     "output_type": "execute_result"
    }
   ],
   "source": [
    "x.flatten()"
   ]
  },
  {
   "cell_type": "code",
   "execution_count": 119,
   "id": "e1aa42ec",
   "metadata": {},
   "outputs": [],
   "source": [
    "a1 = x.flatten()"
   ]
  },
  {
   "cell_type": "code",
   "execution_count": 120,
   "id": "248d594e",
   "metadata": {},
   "outputs": [],
   "source": [
    "a1[0] = 99"
   ]
  },
  {
   "cell_type": "code",
   "execution_count": 122,
   "id": "6c9bfa3d",
   "metadata": {},
   "outputs": [
    {
     "name": "stdout",
     "output_type": "stream",
     "text": [
      "[[ 1  2  3  4]\n",
      " [ 5  6  7  8]\n",
      " [ 9 10 11 12]]\n"
     ]
    }
   ],
   "source": [
    "print(x) # Original array"
   ]
  },
  {
   "cell_type": "code",
   "execution_count": 123,
   "id": "ef0ee258",
   "metadata": {},
   "outputs": [
    {
     "name": "stdout",
     "output_type": "stream",
     "text": [
      "[99  2  3  4  5  6  7  8  9 10 11 12]\n"
     ]
    }
   ],
   "source": [
    "print(a1) # New array"
   ]
  },
  {
   "cell_type": "code",
   "execution_count": 124,
   "id": "909fcb32",
   "metadata": {},
   "outputs": [
    {
     "name": "stdout",
     "output_type": "stream",
     "text": [
      "[[98  2  3  4]\n",
      " [ 5  6  7  8]\n",
      " [ 9 10 11 12]]\n"
     ]
    }
   ],
   "source": [
    "a2 = x.ravel()\n",
    "a2[0] = 98\n",
    "print(x) # Original array"
   ]
  },
  {
   "cell_type": "code",
   "execution_count": 125,
   "id": "e2338344",
   "metadata": {},
   "outputs": [
    {
     "name": "stdout",
     "output_type": "stream",
     "text": [
      "[98  2  3  4  5  6  7  8  9 10 11 12]\n"
     ]
    }
   ],
   "source": [
    "print(a2) # New array"
   ]
  },
  {
   "cell_type": "markdown",
   "id": "29ee2e72",
   "metadata": {},
   "source": [
    " ## How to access the docstring for more information"
   ]
  },
  {
   "cell_type": "markdown",
   "id": "a0c6470d",
   "metadata": {},
   "source": [
    "This section covers help(), ?, ??"
   ]
  },
  {
   "cell_type": "code",
   "execution_count": 126,
   "id": "4c9cf719",
   "metadata": {},
   "outputs": [],
   "source": [
    "a = np.array([1, 2, 3, 4, 5, 6])"
   ]
  },
  {
   "cell_type": "code",
   "execution_count": 128,
   "id": "5c1051ca",
   "metadata": {},
   "outputs": [],
   "source": [
    "In [1]: a?"
   ]
  },
  {
   "cell_type": "code",
   "execution_count": 129,
   "id": "fb5348c3",
   "metadata": {},
   "outputs": [],
   "source": [
    "def double(a):\n",
    "    '''Return a * 2'''\n",
    "    return a * 2"
   ]
  },
  {
   "cell_type": "code",
   "execution_count": 130,
   "id": "5bf37a2d",
   "metadata": {},
   "outputs": [],
   "source": [
    "In [2]: double?"
   ]
  },
  {
   "cell_type": "code",
   "execution_count": 131,
   "id": "8bff2cbc",
   "metadata": {},
   "outputs": [
    {
     "data": {
      "text/plain": [
       "8"
      ]
     },
     "execution_count": 131,
     "metadata": {},
     "output_type": "execute_result"
    }
   ],
   "source": [
    "double(4)"
   ]
  },
  {
   "cell_type": "markdown",
   "id": "690b259a",
   "metadata": {},
   "source": [
    "You can reach another level of information by reading the source code of the object you’re interested in. Using a double\n",
    "question mark (??) allows you to access the source code."
   ]
  },
  {
   "cell_type": "code",
   "execution_count": 132,
   "id": "3e65375d",
   "metadata": {},
   "outputs": [],
   "source": [
    "In [3]: double??"
   ]
  },
  {
   "cell_type": "code",
   "execution_count": 133,
   "id": "7259b510",
   "metadata": {},
   "outputs": [],
   "source": [
    "In [4]: len?"
   ]
  },
  {
   "cell_type": "code",
   "execution_count": 134,
   "id": "7fcc3789",
   "metadata": {},
   "outputs": [],
   "source": [
    "In [4]: len??"
   ]
  },
  {
   "cell_type": "markdown",
   "id": "9a1f081c",
   "metadata": {},
   "source": [
    "##  How to save and load NumPy objects"
   ]
  },
  {
   "cell_type": "code",
   "execution_count": 135,
   "id": "1cc108f2",
   "metadata": {},
   "outputs": [],
   "source": [
    "a = np.array([1, 2, 3, 4, 5, 6])"
   ]
  },
  {
   "cell_type": "code",
   "execution_count": 137,
   "id": "fdd790b1",
   "metadata": {},
   "outputs": [],
   "source": [
    "np.save('numpytest', a)"
   ]
  },
  {
   "cell_type": "code",
   "execution_count": 140,
   "id": "c9b4f126",
   "metadata": {},
   "outputs": [],
   "source": [
    "b = np.load('numpytest.npy')"
   ]
  },
  {
   "cell_type": "code",
   "execution_count": 141,
   "id": "791468ec",
   "metadata": {},
   "outputs": [
    {
     "name": "stdout",
     "output_type": "stream",
     "text": [
      "[1 2 3 4 5 6]\n"
     ]
    }
   ],
   "source": [
    "print(b)"
   ]
  },
  {
   "cell_type": "markdown",
   "id": "b401e1ec",
   "metadata": {},
   "source": [
    "You can save a NumPy array as a plain text file like a .csv or .txt file with np.savetxt.\n",
    "For example, if you create this array:"
   ]
  },
  {
   "cell_type": "code",
   "execution_count": 142,
   "id": "e861d060",
   "metadata": {},
   "outputs": [],
   "source": [
    "csv_arr = np.array([1, 2, 3, 4, 5, 6, 7, 8])"
   ]
  },
  {
   "cell_type": "markdown",
   "id": "b33568c4",
   "metadata": {},
   "source": [
    "You can easily save it as a .csv file with the name “new_file.csv” like this:"
   ]
  },
  {
   "cell_type": "code",
   "execution_count": 145,
   "id": "d2c5ed85",
   "metadata": {},
   "outputs": [],
   "source": [
    "np.savetxt('sample.csv', csv_arr)"
   ]
  },
  {
   "cell_type": "markdown",
   "id": "cf260f57",
   "metadata": {},
   "source": [
    "You can quickly and easily load your saved text file using loadtxt():"
   ]
  },
  {
   "cell_type": "code",
   "execution_count": 151,
   "id": "5571b283",
   "metadata": {},
   "outputs": [
    {
     "data": {
      "text/plain": [
       "array([1., 2., 3., 4., 5., 6., 7., 8.])"
      ]
     },
     "execution_count": 151,
     "metadata": {},
     "output_type": "execute_result"
    }
   ],
   "source": [
    "np.loadtxt('sample.csv')"
   ]
  },
  {
   "cell_type": "markdown",
   "id": "2b20be19",
   "metadata": {},
   "source": [
    "## Importing and exporting a CSV"
   ]
  },
  {
   "cell_type": "markdown",
   "id": "9f269077",
   "metadata": {},
   "source": [
    "It’s simple to read in a CSV that contains existing information. The best and easiest way to do this is to use Pandas."
   ]
  },
  {
   "cell_type": "code",
   "execution_count": 147,
   "id": "66743212",
   "metadata": {},
   "outputs": [],
   "source": [
    "import pandas as pd"
   ]
  },
  {
   "cell_type": "code",
   "execution_count": 154,
   "id": "7841bfdb",
   "metadata": {},
   "outputs": [
    {
     "name": "stdout",
     "output_type": "stream",
     "text": [
      "[[5.1 3.5 1.4 0.2 'Iris-setosa']\n",
      " [4.9 3.0 1.4 0.2 'Iris-setosa']\n",
      " [4.7 3.2 1.3 0.2 'Iris-setosa']\n",
      " [4.6 3.1 1.5 0.2 'Iris-setosa']\n",
      " [5.0 3.6 1.4 0.2 'Iris-setosa']\n",
      " [5.4 3.9 1.7 0.4 'Iris-setosa']\n",
      " [4.6 3.4 1.4 0.3 'Iris-setosa']\n",
      " [5.0 3.4 1.5 0.2 'Iris-setosa']\n",
      " [4.4 2.9 1.4 0.2 'Iris-setosa']\n",
      " [4.9 3.1 1.5 0.1 'Iris-setosa']\n",
      " [5.4 3.7 1.5 0.2 'Iris-setosa']\n",
      " [4.8 3.4 1.6 0.2 'Iris-setosa']\n",
      " [4.8 3.0 1.4 0.1 'Iris-setosa']\n",
      " [4.3 3.0 1.1 0.1 'Iris-setosa']\n",
      " [5.8 4.0 1.2 0.2 'Iris-setosa']\n",
      " [5.7 4.4 1.5 0.4 'Iris-setosa']\n",
      " [5.4 3.9 1.3 0.4 'Iris-setosa']\n",
      " [5.1 3.5 1.4 0.3 'Iris-setosa']\n",
      " [5.7 3.8 1.7 0.3 'Iris-setosa']\n",
      " [5.1 3.8 1.5 0.3 'Iris-setosa']\n",
      " [5.4 3.4 1.7 0.2 'Iris-setosa']\n",
      " [5.1 3.7 1.5 0.4 'Iris-setosa']\n",
      " [4.6 3.6 1.0 0.2 'Iris-setosa']\n",
      " [5.1 3.3 1.7 0.5 'Iris-setosa']\n",
      " [4.8 3.4 1.9 0.2 'Iris-setosa']\n",
      " [5.0 3.0 1.6 0.2 'Iris-setosa']\n",
      " [5.0 3.4 1.6 0.4 'Iris-setosa']\n",
      " [5.2 3.5 1.5 0.2 'Iris-setosa']\n",
      " [5.2 3.4 1.4 0.2 'Iris-setosa']\n",
      " [4.7 3.2 1.6 0.2 'Iris-setosa']\n",
      " [4.8 3.1 1.6 0.2 'Iris-setosa']\n",
      " [5.4 3.4 1.5 0.4 'Iris-setosa']\n",
      " [5.2 4.1 1.5 0.1 'Iris-setosa']\n",
      " [5.5 4.2 1.4 0.2 'Iris-setosa']\n",
      " [4.9 3.1 1.5 0.1 'Iris-setosa']\n",
      " [5.0 3.2 1.2 0.2 'Iris-setosa']\n",
      " [5.5 3.5 1.3 0.2 'Iris-setosa']\n",
      " [4.9 3.1 1.5 0.1 'Iris-setosa']\n",
      " [4.4 3.0 1.3 0.2 'Iris-setosa']\n",
      " [5.1 3.4 1.5 0.2 'Iris-setosa']\n",
      " [5.0 3.5 1.3 0.3 'Iris-setosa']\n",
      " [4.5 2.3 1.3 0.3 'Iris-setosa']\n",
      " [4.4 3.2 1.3 0.2 'Iris-setosa']\n",
      " [5.0 3.5 1.6 0.6 'Iris-setosa']\n",
      " [5.1 3.8 1.9 0.4 'Iris-setosa']\n",
      " [4.8 3.0 1.4 0.3 'Iris-setosa']\n",
      " [5.1 3.8 1.6 0.2 'Iris-setosa']\n",
      " [4.6 3.2 1.4 0.2 'Iris-setosa']\n",
      " [5.3 3.7 1.5 0.2 'Iris-setosa']\n",
      " [5.0 3.3 1.4 0.2 'Iris-setosa']\n",
      " [7.0 3.2 4.7 1.4 'Iris-versicolor']\n",
      " [6.4 3.2 4.5 1.5 'Iris-versicolor']\n",
      " [6.9 3.1 4.9 1.5 'Iris-versicolor']\n",
      " [5.5 2.3 4.0 1.3 'Iris-versicolor']\n",
      " [6.5 2.8 4.6 1.5 'Iris-versicolor']\n",
      " [5.7 2.8 4.5 1.3 'Iris-versicolor']\n",
      " [6.3 3.3 4.7 1.6 'Iris-versicolor']\n",
      " [4.9 2.4 3.3 1.0 'Iris-versicolor']\n",
      " [6.6 2.9 4.6 1.3 'Iris-versicolor']\n",
      " [5.2 2.7 3.9 1.4 'Iris-versicolor']\n",
      " [5.0 2.0 3.5 1.0 'Iris-versicolor']\n",
      " [5.9 3.0 4.2 1.5 'Iris-versicolor']\n",
      " [6.0 2.2 4.0 1.0 'Iris-versicolor']\n",
      " [6.1 2.9 4.7 1.4 'Iris-versicolor']\n",
      " [5.6 2.9 3.6 1.3 'Iris-versicolor']\n",
      " [6.7 3.1 4.4 1.4 'Iris-versicolor']\n",
      " [5.6 3.0 4.5 1.5 'Iris-versicolor']\n",
      " [5.8 2.7 4.1 1.0 'Iris-versicolor']\n",
      " [6.2 2.2 4.5 1.5 'Iris-versicolor']\n",
      " [5.6 2.5 3.9 1.1 'Iris-versicolor']\n",
      " [5.9 3.2 4.8 1.8 'Iris-versicolor']\n",
      " [6.1 2.8 4.0 1.3 'Iris-versicolor']\n",
      " [6.3 2.5 4.9 1.5 'Iris-versicolor']\n",
      " [6.1 2.8 4.7 1.2 'Iris-versicolor']\n",
      " [6.4 2.9 4.3 1.3 'Iris-versicolor']\n",
      " [6.6 3.0 4.4 1.4 'Iris-versicolor']\n",
      " [6.8 2.8 4.8 1.4 'Iris-versicolor']\n",
      " [6.7 3.0 5.0 1.7 'Iris-versicolor']\n",
      " [6.0 2.9 4.5 1.5 'Iris-versicolor']\n",
      " [5.7 2.6 3.5 1.0 'Iris-versicolor']\n",
      " [5.5 2.4 3.8 1.1 'Iris-versicolor']\n",
      " [5.5 2.4 3.7 1.0 'Iris-versicolor']\n",
      " [5.8 2.7 3.9 1.2 'Iris-versicolor']\n",
      " [6.0 2.7 5.1 1.6 'Iris-versicolor']\n",
      " [5.4 3.0 4.5 1.5 'Iris-versicolor']\n",
      " [6.0 3.4 4.5 1.6 'Iris-versicolor']\n",
      " [6.7 3.1 4.7 1.5 'Iris-versicolor']\n",
      " [6.3 2.3 4.4 1.3 'Iris-versicolor']\n",
      " [5.6 3.0 4.1 1.3 'Iris-versicolor']\n",
      " [5.5 2.5 4.0 1.3 'Iris-versicolor']\n",
      " [5.5 2.6 4.4 1.2 'Iris-versicolor']\n",
      " [6.1 3.0 4.6 1.4 'Iris-versicolor']\n",
      " [5.8 2.6 4.0 1.2 'Iris-versicolor']\n",
      " [5.0 2.3 3.3 1.0 'Iris-versicolor']\n",
      " [5.6 2.7 4.2 1.3 'Iris-versicolor']\n",
      " [5.7 3.0 4.2 1.2 'Iris-versicolor']\n",
      " [5.7 2.9 4.2 1.3 'Iris-versicolor']\n",
      " [6.2 2.9 4.3 1.3 'Iris-versicolor']\n",
      " [5.1 2.5 3.0 1.1 'Iris-versicolor']\n",
      " [5.7 2.8 4.1 1.3 'Iris-versicolor']\n",
      " [6.3 3.3 6.0 2.5 'Iris-virginica']\n",
      " [5.8 2.7 5.1 1.9 'Iris-virginica']\n",
      " [7.1 3.0 5.9 2.1 'Iris-virginica']\n",
      " [6.3 2.9 5.6 1.8 'Iris-virginica']\n",
      " [6.5 3.0 5.8 2.2 'Iris-virginica']\n",
      " [7.6 3.0 6.6 2.1 'Iris-virginica']\n",
      " [4.9 2.5 4.5 1.7 'Iris-virginica']\n",
      " [7.3 2.9 6.3 1.8 'Iris-virginica']\n",
      " [6.7 2.5 5.8 1.8 'Iris-virginica']\n",
      " [7.2 3.6 6.1 2.5 'Iris-virginica']\n",
      " [6.5 3.2 5.1 2.0 'Iris-virginica']\n",
      " [6.4 2.7 5.3 1.9 'Iris-virginica']\n",
      " [6.8 3.0 5.5 2.1 'Iris-virginica']\n",
      " [5.7 2.5 5.0 2.0 'Iris-virginica']\n",
      " [5.8 2.8 5.1 2.4 'Iris-virginica']\n",
      " [6.4 3.2 5.3 2.3 'Iris-virginica']\n",
      " [6.5 3.0 5.5 1.8 'Iris-virginica']\n",
      " [7.7 3.8 6.7 2.2 'Iris-virginica']\n",
      " [7.7 2.6 6.9 2.3 'Iris-virginica']\n",
      " [6.0 2.2 5.0 1.5 'Iris-virginica']\n",
      " [6.9 3.2 5.7 2.3 'Iris-virginica']\n",
      " [5.6 2.8 4.9 2.0 'Iris-virginica']\n",
      " [7.7 2.8 6.7 2.0 'Iris-virginica']\n",
      " [6.3 2.7 4.9 1.8 'Iris-virginica']\n",
      " [6.7 3.3 5.7 2.1 'Iris-virginica']\n",
      " [7.2 3.2 6.0 1.8 'Iris-virginica']\n",
      " [6.2 2.8 4.8 1.8 'Iris-virginica']\n",
      " [6.1 3.0 4.9 1.8 'Iris-virginica']\n",
      " [6.4 2.8 5.6 2.1 'Iris-virginica']\n",
      " [7.2 3.0 5.8 1.6 'Iris-virginica']\n",
      " [7.4 2.8 6.1 1.9 'Iris-virginica']\n",
      " [7.9 3.8 6.4 2.0 'Iris-virginica']\n",
      " [6.4 2.8 5.6 2.2 'Iris-virginica']\n",
      " [6.3 2.8 5.1 1.5 'Iris-virginica']\n",
      " [6.1 2.6 5.6 1.4 'Iris-virginica']\n",
      " [7.7 3.0 6.1 2.3 'Iris-virginica']\n",
      " [6.3 3.4 5.6 2.4 'Iris-virginica']\n",
      " [6.4 3.1 5.5 1.8 'Iris-virginica']\n",
      " [6.0 3.0 4.8 1.8 'Iris-virginica']\n",
      " [6.9 3.1 5.4 2.1 'Iris-virginica']\n",
      " [6.7 3.1 5.6 2.4 'Iris-virginica']\n",
      " [6.9 3.1 5.1 2.3 'Iris-virginica']\n",
      " [5.8 2.7 5.1 1.9 'Iris-virginica']\n",
      " [6.8 3.2 5.9 2.3 'Iris-virginica']\n",
      " [6.7 3.3 5.7 2.5 'Iris-virginica']\n",
      " [6.7 3.0 5.2 2.3 'Iris-virginica']\n",
      " [6.3 2.5 5.0 1.9 'Iris-virginica']\n",
      " [6.5 3.0 5.2 2.0 'Iris-virginica']\n",
      " [6.2 3.4 5.4 2.3 'Iris-virginica']\n",
      " [5.9 3.0 5.1 1.8 'Iris-virginica']]\n"
     ]
    }
   ],
   "source": [
    "# If all of your columns are the same type:\n",
    "x = pd.read_csv('iris.csv', header=0).values\n",
    "print(x)"
   ]
  },
  {
   "cell_type": "code",
   "execution_count": 155,
   "id": "e97f7c3b",
   "metadata": {},
   "outputs": [],
   "source": [
    "# You can also simply select the columns you need:\n",
    "x = pd.read_csv('iris.csv', usecols=['sepal_length', 'sepal_width']).values"
   ]
  },
  {
   "cell_type": "code",
   "execution_count": 156,
   "id": "0b7f4fb3",
   "metadata": {},
   "outputs": [
    {
     "name": "stdout",
     "output_type": "stream",
     "text": [
      "[[5.1 3.5]\n",
      " [4.9 3. ]\n",
      " [4.7 3.2]\n",
      " [4.6 3.1]\n",
      " [5.  3.6]\n",
      " [5.4 3.9]\n",
      " [4.6 3.4]\n",
      " [5.  3.4]\n",
      " [4.4 2.9]\n",
      " [4.9 3.1]\n",
      " [5.4 3.7]\n",
      " [4.8 3.4]\n",
      " [4.8 3. ]\n",
      " [4.3 3. ]\n",
      " [5.8 4. ]\n",
      " [5.7 4.4]\n",
      " [5.4 3.9]\n",
      " [5.1 3.5]\n",
      " [5.7 3.8]\n",
      " [5.1 3.8]\n",
      " [5.4 3.4]\n",
      " [5.1 3.7]\n",
      " [4.6 3.6]\n",
      " [5.1 3.3]\n",
      " [4.8 3.4]\n",
      " [5.  3. ]\n",
      " [5.  3.4]\n",
      " [5.2 3.5]\n",
      " [5.2 3.4]\n",
      " [4.7 3.2]\n",
      " [4.8 3.1]\n",
      " [5.4 3.4]\n",
      " [5.2 4.1]\n",
      " [5.5 4.2]\n",
      " [4.9 3.1]\n",
      " [5.  3.2]\n",
      " [5.5 3.5]\n",
      " [4.9 3.1]\n",
      " [4.4 3. ]\n",
      " [5.1 3.4]\n",
      " [5.  3.5]\n",
      " [4.5 2.3]\n",
      " [4.4 3.2]\n",
      " [5.  3.5]\n",
      " [5.1 3.8]\n",
      " [4.8 3. ]\n",
      " [5.1 3.8]\n",
      " [4.6 3.2]\n",
      " [5.3 3.7]\n",
      " [5.  3.3]\n",
      " [7.  3.2]\n",
      " [6.4 3.2]\n",
      " [6.9 3.1]\n",
      " [5.5 2.3]\n",
      " [6.5 2.8]\n",
      " [5.7 2.8]\n",
      " [6.3 3.3]\n",
      " [4.9 2.4]\n",
      " [6.6 2.9]\n",
      " [5.2 2.7]\n",
      " [5.  2. ]\n",
      " [5.9 3. ]\n",
      " [6.  2.2]\n",
      " [6.1 2.9]\n",
      " [5.6 2.9]\n",
      " [6.7 3.1]\n",
      " [5.6 3. ]\n",
      " [5.8 2.7]\n",
      " [6.2 2.2]\n",
      " [5.6 2.5]\n",
      " [5.9 3.2]\n",
      " [6.1 2.8]\n",
      " [6.3 2.5]\n",
      " [6.1 2.8]\n",
      " [6.4 2.9]\n",
      " [6.6 3. ]\n",
      " [6.8 2.8]\n",
      " [6.7 3. ]\n",
      " [6.  2.9]\n",
      " [5.7 2.6]\n",
      " [5.5 2.4]\n",
      " [5.5 2.4]\n",
      " [5.8 2.7]\n",
      " [6.  2.7]\n",
      " [5.4 3. ]\n",
      " [6.  3.4]\n",
      " [6.7 3.1]\n",
      " [6.3 2.3]\n",
      " [5.6 3. ]\n",
      " [5.5 2.5]\n",
      " [5.5 2.6]\n",
      " [6.1 3. ]\n",
      " [5.8 2.6]\n",
      " [5.  2.3]\n",
      " [5.6 2.7]\n",
      " [5.7 3. ]\n",
      " [5.7 2.9]\n",
      " [6.2 2.9]\n",
      " [5.1 2.5]\n",
      " [5.7 2.8]\n",
      " [6.3 3.3]\n",
      " [5.8 2.7]\n",
      " [7.1 3. ]\n",
      " [6.3 2.9]\n",
      " [6.5 3. ]\n",
      " [7.6 3. ]\n",
      " [4.9 2.5]\n",
      " [7.3 2.9]\n",
      " [6.7 2.5]\n",
      " [7.2 3.6]\n",
      " [6.5 3.2]\n",
      " [6.4 2.7]\n",
      " [6.8 3. ]\n",
      " [5.7 2.5]\n",
      " [5.8 2.8]\n",
      " [6.4 3.2]\n",
      " [6.5 3. ]\n",
      " [7.7 3.8]\n",
      " [7.7 2.6]\n",
      " [6.  2.2]\n",
      " [6.9 3.2]\n",
      " [5.6 2.8]\n",
      " [7.7 2.8]\n",
      " [6.3 2.7]\n",
      " [6.7 3.3]\n",
      " [7.2 3.2]\n",
      " [6.2 2.8]\n",
      " [6.1 3. ]\n",
      " [6.4 2.8]\n",
      " [7.2 3. ]\n",
      " [7.4 2.8]\n",
      " [7.9 3.8]\n",
      " [6.4 2.8]\n",
      " [6.3 2.8]\n",
      " [6.1 2.6]\n",
      " [7.7 3. ]\n",
      " [6.3 3.4]\n",
      " [6.4 3.1]\n",
      " [6.  3. ]\n",
      " [6.9 3.1]\n",
      " [6.7 3.1]\n",
      " [6.9 3.1]\n",
      " [5.8 2.7]\n",
      " [6.8 3.2]\n",
      " [6.7 3.3]\n",
      " [6.7 3. ]\n",
      " [6.3 2.5]\n",
      " [6.5 3. ]\n",
      " [6.2 3.4]\n",
      " [5.9 3. ]]\n"
     ]
    }
   ],
   "source": [
    "print(x)"
   ]
  },
  {
   "cell_type": "markdown",
   "id": "0421ec89",
   "metadata": {},
   "source": [
    "*It’s simple to use Pandas in order to export your array as well. If you are new to NumPy, you may want to create a Pandas\n",
    "dataframe from the values in your array and then write the data frame to a CSV file with Pandas.*"
   ]
  },
  {
   "cell_type": "markdown",
   "id": "bd934a9e",
   "metadata": {},
   "source": [
    "If you created this array “a”"
   ]
  },
  {
   "cell_type": "code",
   "execution_count": 157,
   "id": "2ae371ba",
   "metadata": {},
   "outputs": [],
   "source": [
    "a = np.array([[-2.58289208, 0.43014843, -1.24082018, 1.59572603],\n",
    "              [ 0.99027828, 1.17150989, 0.94125714, -0.14692469],\n",
    "              [ 0.76989341, 0.81299683, -0.95068423, 0.11769564],\n",
    "              [ 0.20484034, 0.34784527, 1.96979195, 0.51992837]])"
   ]
  },
  {
   "cell_type": "markdown",
   "id": "f1a1efb3",
   "metadata": {},
   "source": [
    "You could create a Pandas dataframe"
   ]
  },
  {
   "cell_type": "code",
   "execution_count": 158,
   "id": "410f91e5",
   "metadata": {},
   "outputs": [
    {
     "name": "stdout",
     "output_type": "stream",
     "text": [
      "          0         1         2         3\n",
      "0 -2.582892  0.430148 -1.240820  1.595726\n",
      "1  0.990278  1.171510  0.941257 -0.146925\n",
      "2  0.769893  0.812997 -0.950684  0.117696\n",
      "3  0.204840  0.347845  1.969792  0.519928\n"
     ]
    }
   ],
   "source": [
    "df = pd.DataFrame(a)\n",
    "print(df)"
   ]
  },
  {
   "cell_type": "markdown",
   "id": "fd089c6b",
   "metadata": {},
   "source": [
    "You can easily save your dataframe with:"
   ]
  },
  {
   "cell_type": "code",
   "execution_count": 162,
   "id": "1de43db2",
   "metadata": {},
   "outputs": [],
   "source": [
    "df.to_csv('pd.csv')"
   ]
  },
  {
   "cell_type": "markdown",
   "id": "d6ba874d",
   "metadata": {},
   "source": [
    "And read your CSV with:"
   ]
  },
  {
   "cell_type": "code",
   "execution_count": 165,
   "id": "06c9c21f",
   "metadata": {},
   "outputs": [],
   "source": [
    "data = pd.read_csv('pd.csv')"
   ]
  },
  {
   "cell_type": "code",
   "execution_count": 164,
   "id": "fe1b7e5a",
   "metadata": {},
   "outputs": [
    {
     "name": "stdout",
     "output_type": "stream",
     "text": [
      "[[ 0.         -2.58289208  0.43014843 -1.24082018  1.59572603]\n",
      " [ 1.          0.99027828  1.17150989  0.94125714 -0.14692469]\n",
      " [ 2.          0.76989341  0.81299683 -0.95068423  0.11769564]\n",
      " [ 3.          0.20484034  0.34784527  1.96979195  0.51992837]]\n"
     ]
    }
   ],
   "source": [
    "data = pd.read_csv('pd.csv').values\n",
    "print(data)"
   ]
  },
  {
   "cell_type": "markdown",
   "id": "8b994965",
   "metadata": {},
   "source": [
    "You can also save your array with the NumPy savetxt method."
   ]
  },
  {
   "cell_type": "code",
   "execution_count": 166,
   "id": "7ade7e9c",
   "metadata": {},
   "outputs": [],
   "source": [
    "np.savetxt('np.csv', a, fmt='%.2f', delimiter=',', header='1, 2, 3, 4')"
   ]
  },
  {
   "cell_type": "markdown",
   "id": "bbd6c67c",
   "metadata": {},
   "source": [
    "## Plotting arrays with Matplotlib"
   ]
  },
  {
   "cell_type": "markdown",
   "id": "d70eb854",
   "metadata": {},
   "source": [
    "If you need to generate a plot for your values, it’s very simple with **Matplotlib**.\n",
    "For example, you may have an array like this one:"
   ]
  },
  {
   "cell_type": "code",
   "execution_count": 167,
   "id": "396d02e5",
   "metadata": {},
   "outputs": [],
   "source": [
    "a = np.array([2, 1, 5, 7, 4, 6, 8, 14, 10, 9, 18, 20, 22])"
   ]
  },
  {
   "cell_type": "code",
   "execution_count": 170,
   "id": "b025e0cf",
   "metadata": {},
   "outputs": [],
   "source": [
    "import matplotlib.pyplot as plt\n",
    "# If you're using Jupyter Notebook, you may also want to run the following\n",
    "# line of code to display your code in the notebook:\n",
    "%matplotlib inline"
   ]
  },
  {
   "cell_type": "code",
   "execution_count": 174,
   "id": "3343b9cd",
   "metadata": {},
   "outputs": [
    {
     "data": {
      "image/png": "[encoded data removed]",
      "text/plain": [
       "<Figure size 640x480 with 1 Axes>"
      ]
     },
     "metadata": {},
     "output_type": "display_data"
    }
   ],
   "source": [
    "plt.plot(a)\n",
    "plt.show()"
   ]
  },
  {
   "cell_type": "markdown",
   "id": "65af28a2",
   "metadata": {},
   "source": [
    "For example, you can plot a 1D array like this:"
   ]
  },
  {
   "cell_type": "code",
   "execution_count": 176,
   "id": "8e28a2b9",
   "metadata": {},
   "outputs": [
    {
     "data": {
      "image/png": "[encoded data removed]",
      "text/plain": [
       "<Figure size 640x480 with 1 Axes>"
      ]
     },
     "metadata": {},
     "output_type": "display_data"
    }
   ],
   "source": [
    "x = np.linspace(0, 5, 20)\n",
    "y = np.linspace(0, 10, 20)\n",
    "plt.plot(x, y, 'purple') # line\n",
    "plt.plot(x, y, 'o') # dots\n",
    "plt.show()"
   ]
  },
  {
   "cell_type": "markdown",
   "id": "90fd415d",
   "metadata": {},
   "source": [
    "With Matplotlib, you have access to an enormous number of visualization options."
   ]
  },
  {
   "cell_type": "code",
   "execution_count": 179,
   "id": "344b41c2",
   "metadata": {},
   "outputs": [
    {
     "data": {
      "image/png": "[encoded data removed]",
      "text/plain": [
       "<Figure size 640x480 with 1 Axes>"
      ]
     },
     "metadata": {},
     "output_type": "display_data"
    }
   ],
   "source": [
    "fig = plt.figure()\n",
    "ax = fig.add_subplot(projection='3d')\n",
    "X = np.arange(-5, 5, 0.15)\n",
    "Y = np.arange(-5, 5, 0.15)\n",
    "X, Y = np.meshgrid(X, Y)\n",
    "R = np.sqrt(X**2 + Y**2)\n",
    "Z = np.sin(R)\n",
    "ax.plot_surface(X, Y, Z, rstride=1, cstride=1, cmap='viridis')\n",
    "plt.show()"
   ]
  },
  {
   "cell_type": "code",
   "execution_count": null,
   "id": "b035a7d9",
   "metadata": {},
   "outputs": [],
   "source": []
  }
 ],
 "metadata": {
  "kernelspec": {
   "display_name": "Python 3 (ipykernel)",
   "language": "python",
   "name": "python3"
  },
  "language_info": {
   "codemirror_mode": {
    "name": "ipython",
    "version": 3
   },
   "file_extension": ".py",
   "mimetype": "text/x-python",
   "name": "python",
   "nbconvert_exporter": "python",
   "pygments_lexer": "ipython3",
   "version": "3.9.16"
  }
 },
 "nbformat": 4,
 "nbformat_minor": 5
}
