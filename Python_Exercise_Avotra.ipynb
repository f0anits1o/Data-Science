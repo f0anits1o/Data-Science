{
 "cells": [
  {
   "cell_type": "markdown",
   "id": "d499b622",
   "metadata": {},
   "source": [
    "# **Strings**"
   ]
  },
  {
   "cell_type": "markdown",
   "id": "abd3f831",
   "metadata": {},
   "source": [
    "## **Write a python program** to to create a new string made of an input string’s first, middle, and last character.\n",
    "\n",
    "For instance, the user input is Andry, our expected output should be Ady."
   ]
  },
  {
   "cell_type": "code",
   "execution_count": 1,
   "id": "dfe8f660",
   "metadata": {},
   "outputs": [
    {
     "name": "stdout",
     "output_type": "stream",
     "text": [
      "Iyoz\n"
     ]
    }
   ],
   "source": [
    "anarana = \"IzyNoIzy\"\n",
    "DiaRoa = anarana[::2]\n",
    "print(DiaRoa)"
   ]
  },
  {
   "cell_type": "markdown",
   "id": "086a45f3",
   "metadata": {},
   "source": [
    "## **Look at the following sentence**: \n",
    "\n",
    "       \"Astronomy.is.a.science.that.encompasses.the.study.of.all.extraterrestrial.objects.and.phenomena.\" \n",
    "        \n",
    "+ ***Replace*** the point with spaces and print out the resulting sentences."
   ]
  },
  {
   "cell_type": "code",
   "execution_count": 2,
   "id": "3118acf5",
   "metadata": {},
   "outputs": [
    {
     "name": "stdout",
     "output_type": "stream",
     "text": [
      "Astronomy is a science that encompasses the study of all extraterrestrial objects and phenomena \n"
     ]
    }
   ],
   "source": [
    "Fehezanteny = \"Astronomy.is.a.science.that.encompasses.the.study.of.all.extraterrestrial.objects.and.phenomena.\"\n",
    "Fehezanteny_dikamitovy = Fehezanteny.replace(\".\",\" \")\n",
    "print(Fehezanteny_dikamitovy)"
   ]
  },
  {
   "cell_type": "markdown",
   "id": "c8f11d1b",
   "metadata": {
    "slideshow": {
     "slide_type": "slide"
    },
    "tags": []
   },
   "source": [
    "## **Write a program** to arrange the characters of a given string so that **all     lowercase letters should come first**. \n",
    "The string is: \"*eAsbTRt*\"."
   ]
  },
  {
   "cell_type": "code",
   "execution_count": 2,
   "id": "f3bd514c",
   "metadata": {},
   "outputs": [
    {
     "name": "stdout",
     "output_type": "stream",
     "text": [
      "Answer =>  esbtATR\n"
     ]
    }
   ],
   "source": [
    "soratra = \"eAsbTRt\"\n",
    "SoratraMadinika =\"\"\n",
    "SoratraVaventy =\"\"\n",
    "\n",
    "for char in soratra:\n",
    "    if char.islower():\n",
    "        SoratraMadinika += char\n",
    "    else:\n",
    "        SoratraVaventy += char\n",
    "        \n",
    "valiny = SoratraMadinika + SoratraVaventy\n",
    "print('Answer => ',valiny)"
   ]
  },
  {
   "cell_type": "markdown",
   "id": "77307d54",
   "metadata": {},
   "source": [
    "## Count all letters, digits, and special** symbols from the following given string: \"*P@#yn26atˆ&i5ve*\"."
   ]
  },
  {
   "cell_type": "code",
   "execution_count": 3,
   "id": "236e0dd5",
   "metadata": {},
   "outputs": [
    {
     "name": "stdout",
     "output_type": "stream",
     "text": [
      "The number of digits is  3\n",
      "The number of all letters is  8\n",
      "The number of special number is  4\n"
     ]
    }
   ],
   "source": [
    "# program to count\n",
    "\n",
    "letters = \"P@#yn26at^&i5ve\"\n",
    "\n",
    "digits = 0\n",
    "alpha = 0\n",
    "another = 0\n",
    "\n",
    "for i in letters:\n",
    "    if i.isnumeric():\n",
    "        digits = digits+1\n",
    "    elif i.isalpha():\n",
    "        alpha = alpha+1\n",
    "    else:\n",
    "        another = another+1\n",
    "print(\"The number of digits is \",digits)\n",
    "print(\"The number of all letters is \",alpha)\n",
    "print(\"The number of special number is \",another)"
   ]
  },
  {
   "cell_type": "markdown",
   "id": "24ad5231",
   "metadata": {},
   "source": [
    "## **Write a program** to check if two strings are **balanced**. \n",
    "For example, strings string_1 and string_2 are balanced if all the characters in the string_1 are present in string_2. \n",
    "\n",
    "The character’s position doesn’t matter.\n",
    "+ Take two examples showing two different cases."
   ]
  },
  {
   "cell_type": "code",
   "execution_count": 4,
   "id": "f3670e94",
   "metadata": {},
   "outputs": [
    {
     "name": "stdout",
     "output_type": "stream",
     "text": [
      "Enter a string 1: fidelis\n",
      "Enter a string 2: fidel\n",
      "strings are not balanced\n"
     ]
    }
   ],
   "source": [
    "def balanced(str1, str2):\n",
    "    for char in str1:\n",
    "        if char not in str2:\n",
    "            return False\n",
    "    return True\n",
    "string1 = input(\"Enter a string 1: \")\n",
    "string2 = input(\"Enter a string 2: \")\n",
    "if balanced(string1, string2):\n",
    "    print(\"strings are balanced\")\n",
    "else:\n",
    "    print(\"strings are not balanced\")"
   ]
  },
  {
   "cell_type": "markdown",
   "id": "c9b67ecd",
   "metadata": {},
   "source": [
    "## **Write a program** to count occurrences of all characters within a string \"*Madagascar*\"."
   ]
  },
  {
   "cell_type": "code",
   "execution_count": 5,
   "id": "e9198563",
   "metadata": {},
   "outputs": [
    {
     "name": "stdout",
     "output_type": "stream",
     "text": [
      "The occurence of M is  1\n",
      "The occurence of a is  4\n",
      "The occurence of d is  1\n",
      "The occurence of g is  1\n",
      "The occurence of s is  1\n",
      "The occurence of c is  1\n",
      "The occurence of r is  1\n"
     ]
    }
   ],
   "source": [
    "string1 = \"Madagascar\"\n",
    "M1 = 0\n",
    "a1 = 0\n",
    "d1 = 0\n",
    "g1 = 0\n",
    "s1 = 0\n",
    "c1 = 0\n",
    "r1 = 0\n",
    "\n",
    "for i in string1:\n",
    "    if i == \"M\":\n",
    "        M1 = M1+1\n",
    "    elif i == \"a\":\n",
    "        a1 = a1+1\n",
    "    elif i == \"d\":\n",
    "        d1 = d1+1\n",
    "    elif i == \"g\":\n",
    "        g1 = g1+1\n",
    "    elif i == \"s\":\n",
    "        s1 = s1+1\n",
    "    elif i == \"c\":\n",
    "        c1 = c1+1\n",
    "    else:\n",
    "        r1 = r1+1\n",
    "    \n",
    "print(\"The occurence of M is \",M1)\n",
    "print(\"The occurence of a is \",a1)\n",
    "print(\"The occurence of d is \",d1)\n",
    "print(\"The occurence of g is \",g1)\n",
    "print(\"The occurence of s is \",s1)\n",
    "print(\"The occurence of c is \",c1)\n",
    "print(\"The occurence of r is \",r1)\n"
   ]
  },
  {
   "cell_type": "markdown",
   "id": "baf88313",
   "metadata": {},
   "source": [
    "## **Remove all** characters from a string **except integers**.\n",
    "\"Einstein’s theory of special relativity sets of the speed of light, 186,000 miles per second (300 million meters per second), as a cosmic speed limit. \""
   ]
  },
  {
   "cell_type": "code",
   "execution_count": 2,
   "id": "c6ab75ff",
   "metadata": {},
   "outputs": [
    {
     "name": "stdout",
     "output_type": "stream",
     "text": [
      "186000300\n"
     ]
    }
   ],
   "source": [
    "z = \"Einstein’s theory of special relativity sets of the speed of light, 186,000 miles per second (300 million meters per second), as a cosmic speed limit. \"\n",
    "digits = \"\"\n",
    "for char in z:\n",
    "    if char.isdigit():\n",
    "        digits += char\n",
    "        \n",
    "print(digits)"
   ]
  },
  {
   "cell_type": "markdown",
   "id": "c1ff7104",
   "metadata": {},
   "source": [
    "## **Write a program** to find words with both alphabets and numbers from an input string: *Jul23 is a 40data scientist and still work on 13&25 conflict*."
   ]
  },
  {
   "cell_type": "code",
   "execution_count": 3,
   "id": "c7b14b3c",
   "metadata": {},
   "outputs": [
    {
     "name": "stdout",
     "output_type": "stream",
     "text": [
      "['Jul23', '40data', '13', '25']\n"
     ]
    }
   ],
   "source": [
    "import re\n",
    "fehezanteny_misy_isa =\"Jul23 is a 40data scientist and still work on 13&25 conflict\"\n",
    "io = re.compile(r'\\w*\\d+\\w*')\n",
    "oi = io.findall(fehezanteny_misy_isa)\n",
    "\n",
    "print(oi)\n"
   ]
  },
  {
   "cell_type": "markdown",
   "id": "41fabc81",
   "metadata": {},
   "source": [
    "## **Create a program** that prints out a message *addressed a user that tells them the year that they will turn 80 years old*."
   ]
  },
  {
   "cell_type": "code",
   "execution_count": 6,
   "id": "01868bcb",
   "metadata": {},
   "outputs": [
    {
     "name": "stdout",
     "output_type": "stream",
     "text": [
      "what is your name? catherine\n",
      "How old are you? 21\n",
      "Hello catherine! You will turn 80 in the year 2082. \n"
     ]
    }
   ],
   "source": [
    "import datetime\n",
    "name = input(\"what is your name? \")\n",
    "age = int(input(\"How old are you? \"))\n",
    "\n",
    "current_year = datetime.datetime.now().year\n",
    "years_to_turn_80 = 80 - age\n",
    "years_turn_80 = current_year + years_to_turn_80\n",
    "print(f\"Hello {name}! You will turn 80 in the year {years_turn_80}. \")"
   ]
  },
  {
   "cell_type": "markdown",
   "id": "8c07dc38",
   "metadata": {},
   "source": [
    "## **Ask the user** for a string and print out whether this string is a **palindrome** or not. (***A palindrome is a string that reads the same forwards and backwards***.)\n"
   ]
  },
  {
   "cell_type": "code",
   "execution_count": 7,
   "id": "0fbbd053",
   "metadata": {},
   "outputs": [
    {
     "name": "stdout",
     "output_type": "stream",
     "text": [
      "Enter a string: AIA\n",
      "AIA  is a palidrome!\n"
     ]
    }
   ],
   "source": [
    "string = input(\"Enter a string: \")\n",
    "if string==string[::-1]:\n",
    "    print(string,\" is a palidrome!\")\n",
    "else:\n",
    "    print(string,\" is not palidrome!\")"
   ]
  },
  {
   "cell_type": "markdown",
   "id": "d99da498",
   "metadata": {},
   "source": [
    "## **Write a Python program** to add ’ing’ at the end of a given string (length should be at least 3). \n",
    "+ If the given string already ends with ’ing’ then add ’ly’ instead. \n",
    "+ If the string length of the given string is less than 3, leave it unchanged."
   ]
  },
  {
   "cell_type": "code",
   "execution_count": 2,
   "id": "4860112d",
   "metadata": {},
   "outputs": [
    {
     "name": "stdout",
     "output_type": "stream",
     "text": [
      "enter a word: aa\n",
      "aa\n"
     ]
    }
   ],
   "source": [
    "def add_suffix(s):\n",
    "    if len(s) < 3:\n",
    "        return s\n",
    "    elif s.endswith(\"ing\"):\n",
    "        return s + \"ly\"\n",
    "    else:\n",
    "        return s + \"ing\"\n",
    "    \n",
    "s = input(\"enter a word: \")\n",
    "print(add_suffix(s))"
   ]
  },
  {
   "cell_type": "markdown",
   "id": "09c7cd5f",
   "metadata": {},
   "source": [
    "## **Write a program** to remove characters from a string starting from zero up to n and return a new string. \n",
    "+ Therefore, n must be less than the length of the string."
   ]
  },
  {
   "cell_type": "code",
   "execution_count": 3,
   "id": "e6880f26",
   "metadata": {},
   "outputs": [
    {
     "name": "stdout",
     "output_type": "stream",
     "text": [
      "Enter a string: salama tompoko!\n",
      "Enter an integer: 4\n",
      "ma tompoko!\n"
     ]
    }
   ],
   "source": [
    "def remove_chars(strg, n):\n",
    "    if n<len(strg):\n",
    "        return strg[n:]\n",
    "    else:\n",
    "        return \"\"\n",
    "s = input(\"Enter a string: \")\n",
    "n = int(input(\"Enter an integer: \"))\n",
    "new_s = remove_chars(s,n)\n",
    "print(new_s)"
   ]
  },
  {
   "cell_type": "markdown",
   "id": "7494870a",
   "metadata": {},
   "source": [
    "# **Numeric data**\n"
   ]
  },
  {
   "cell_type": "markdown",
   "id": "7924e6a1",
   "metadata": {},
   "source": [
    "## **Write a program** that convert ***inches to miles***."
   ]
  },
  {
   "cell_type": "code",
   "execution_count": 9,
   "id": "4ca47a56",
   "metadata": {},
   "outputs": [
    {
     "name": "stdout",
     "output_type": "stream",
     "text": [
      "Program who convert inches to miles: \n",
      "\n",
      "REMARK: 1 inche = 0.000015783 miles! \n",
      "\n",
      "Enter the distance in inches: 11\n",
      "The distance in miles =  0.000173613\n"
     ]
    }
   ],
   "source": [
    "print(\"Program who convert inches to miles:\", '\\n')\n",
    "print(\"REMARK: 1 inche = 0.000015783 miles!\", '\\n')\n",
    "inches = int(input(\"Enter the distance in inches: \"))\n",
    "miles = inches*0.000015783\n",
    "print(\"The distance in miles = \",miles)"
   ]
  },
  {
   "cell_type": "markdown",
   "id": "88b8775a",
   "metadata": {},
   "source": [
    "## **Write a program** that convert ***pounds to ounce***."
   ]
  },
  {
   "cell_type": "code",
   "execution_count": 12,
   "id": "f2e22d7e",
   "metadata": {},
   "outputs": [
    {
     "name": "stdout",
     "output_type": "stream",
     "text": [
      "Program who convert pounds to ounce: \n",
      "\n",
      "REMARK: 1 pound = 16 ounces! \n",
      "\n",
      "Enter the pounds: 2\n",
      "Answer => 2 pounds <=> 32 ounces\n"
     ]
    }
   ],
   "source": [
    "print(\"Program who convert pounds to ounce:\", '\\n')\n",
    "print(\"REMARK: 1 pound = 16 ounces!\", '\\n')\n",
    "pounds = int(input(\"Enter the pounds: \"))\n",
    "ounces = pounds*16\n",
    "print(\"Answer =>\", pounds,\"pounds <=>\",ounces,\"ounces\")"
   ]
  },
  {
   "cell_type": "markdown",
   "id": "18e8c52f",
   "metadata": {},
   "source": [
    "## **Write a program** to iterate the first 10 numbers **and** in each iteration, **print** the sum of the current and previous number."
   ]
  },
  {
   "cell_type": "code",
   "execution_count": 16,
   "id": "6ee21ccf",
   "metadata": {},
   "outputs": [
    {
     "name": "stdout",
     "output_type": "stream",
     "text": [
      "0\n",
      "The sum =  0 \n",
      "\n",
      "1\n",
      "The sum =  1 \n",
      "\n",
      "2\n",
      "The sum =  3 \n",
      "\n",
      "3\n",
      "The sum =  6 \n",
      "\n",
      "4\n",
      "The sum =  10 \n",
      "\n",
      "5\n",
      "The sum =  15 \n",
      "\n",
      "6\n",
      "The sum =  21 \n",
      "\n",
      "7\n",
      "The sum =  28 \n",
      "\n",
      "8\n",
      "The sum =  36 \n",
      "\n",
      "9\n",
      "The sum =  45 \n",
      "\n"
     ]
    }
   ],
   "source": [
    "# program to iterate the first 10 numbers and its iteration print the sum\n",
    "s = 0\n",
    "for i in range(10):\n",
    "    print(i)\n",
    "    s = i+s\n",
    "    print(\"The sum = \",s,'\\n')"
   ]
  },
  {
   "cell_type": "markdown",
   "id": "477e1da4",
   "metadata": {},
   "source": [
    "## **Print the following pattern:** \n",
    "    1 \n",
    "    33 \n",
    "    555 \n",
    "    7777 \n",
    "    99999"
   ]
  },
  {
   "cell_type": "code",
   "execution_count": 17,
   "id": "ec0a9a57",
   "metadata": {},
   "outputs": [
    {
     "name": "stdout",
     "output_type": "stream",
     "text": [
      "1 \n",
      "3 3 \n",
      "5 5 5 \n",
      "7 7 7 7 \n",
      "9 9 9 9 9 \n"
     ]
    }
   ],
   "source": [
    "rows = 5\n",
    "i = 1\n",
    "while i <= rows:\n",
    "    j = 1\n",
    "    while j <= i:\n",
    "        print((i*2 - 1), end=\" \")\n",
    "        j = j + 1\n",
    "    i = i + 1\n",
    "    print(\"\")"
   ]
  },
  {
   "cell_type": "markdown",
   "id": "a2eeae1b",
   "metadata": {},
   "source": [
    "## **Write a Program** to extract each digit from an integer in the reverse order **and Write another program** to do the same thing but to print the each digits separated by space.\n",
    "\n",
    "        For example, the given number is 1234567.\n",
    "        The first expected output is 7654321.\n",
    "        The second expected output is 7 6 5 4 3 2 1."
   ]
  },
  {
   "cell_type": "code",
   "execution_count": 19,
   "id": "4abffb8d",
   "metadata": {},
   "outputs": [
    {
     "name": "stdout",
     "output_type": "stream",
     "text": [
      "0504030201 \n",
      "\n",
      "0 5 0 4 0 3 0 2 0 1\n"
     ]
    }
   ],
   "source": [
    "numbers = 1020304050\n",
    "new_numbers = str(numbers)[::-1]\n",
    "print(new_numbers,'\\n')\n",
    "new1_numbers = new_numbers.replace(\"\",\" \")\n",
    "new2_numbers = new1_numbers.strip()\n",
    "print(new2_numbers)"
   ]
  },
  {
   "cell_type": "markdown",
   "id": "b1de372a",
   "metadata": {},
   "source": [
    "## **Write a program** that prints multiplication **table form 1 to 10**."
   ]
  },
  {
   "cell_type": "code",
   "execution_count": 27,
   "id": "b645d9b2",
   "metadata": {},
   "outputs": [
    {
     "name": "stdout",
     "output_type": "stream",
     "text": [
      "Choose one table: 5\n",
      "5 x 1 = 5\n",
      "5 x 2 = 10\n",
      "5 x 3 = 15\n",
      "5 x 4 = 20\n",
      "5 x 5 = 25\n",
      "5 x 6 = 30\n",
      "5 x 7 = 35\n",
      "5 x 8 = 40\n",
      "5 x 9 = 45\n",
      "5 x 10 = 50\n"
     ]
    }
   ],
   "source": [
    "table_n = int(input(\"Choose one table: \"))\n",
    "for i in range(1,11):\n",
    "    answer = table_n*i\n",
    "    print(f\"{table_n} x {i} =\",answer)"
   ]
  },
  {
   "cell_type": "markdown",
   "id": "da9425b4",
   "metadata": {},
   "source": [
    "# **Lists, Sets, Tuples and Dictionaries**\n",
    "\n"
   ]
  },
  {
   "cell_type": "markdown",
   "id": "a54ecc7d",
   "metadata": {},
   "source": [
    "## **Lists :**\n"
   ]
  },
  {
   "cell_type": "markdown",
   "id": "3a2801d7",
   "metadata": {
    "tags": []
   },
   "source": [
    "### **Using list comprehension** and **the zip() function**, write a program to concatenate the following two lists index.\n",
    "+ list_1 = [\"M\", \"na\", \"i\", \"Nandra\"]\n",
    "+ list_2 = [\"y\", \"me\", \"s\", \"sana\"]"
   ]
  },
  {
   "cell_type": "code",
   "execution_count": 3,
   "id": "9f2bf56d",
   "metadata": {},
   "outputs": [
    {
     "name": "stdout",
     "output_type": "stream",
     "text": [
      "Answer =>  [('M', 'y'), ('na', 'me'), ('i', 's'), ('Nandra', 'sana')]\n"
     ]
    }
   ],
   "source": [
    "list_1 = [\"M\", \"na\", \"i\", \"Nandra\"]\n",
    "list_2 = [\"y\", \"me\", \"s\", \"sana\"]\n",
    "list_3 = list(zip(list_1,list_2))\n",
    "print(\"Answer => \",list_3)"
   ]
  },
  {
   "cell_type": "markdown",
   "id": "1b10b4f3",
   "metadata": {},
   "source": [
    "### **Given a two Python list**. \n",
    "**Write a program** to iterate both lists simultaneously and display items\n",
    "from list_1 in original order and items from list_2 in reverse order:\n",
    "+ list_1 = [10, 20, 30, 40]\n",
    "+ list_2 = [’efapolo’, ’telopolo’, ’roapolo’, ’folo’]\n"
   ]
  },
  {
   "cell_type": "code",
   "execution_count": 33,
   "id": "2dec05b5",
   "metadata": {},
   "outputs": [
    {
     "name": "stdout",
     "output_type": "stream",
     "text": [
      "Reverse list_2 =>  ['folo', 'roapolo', 'telopolo', 'efapolo'] \n",
      "\n",
      "[(10, 'folo'), (20, 'roapolo'), (30, 'telopolo'), (40, 'efapolo')]\n"
     ]
    }
   ],
   "source": [
    "lists_1 = [10, 20, 30, 40]\n",
    "lists_2 = ['efapolo', 'telopolo', 'roapolo', 'folo']\n",
    "lists_2_reverse = lists_2[::-1]\n",
    "print('Reverse list_2 => ',lists_2_reverse,'\\n')\n",
    "print(list(zip(lists_1,lists_2_reverse)))"
   ]
  },
  {
   "cell_type": "markdown",
   "id": "015159f0",
   "metadata": {},
   "source": [
    "### **Here is a python list**: my_list = [\"a\", \"b\", [\"c\", [\"d\", \"e\", [\"f\", \"g\"], \"k\"], \"l\"], \"m\", \"n\"]\n",
    "\n",
    "+ Write a program to output the following list new_list = [’a’, ’b’, [’c’, [’d’, ’e’, [’f’, ’g’, ’h’, ’i’, ’j’], ’k’], ’l’], ’m’, ’n’]\n"
   ]
  },
  {
   "cell_type": "code",
   "execution_count": 34,
   "id": "20f59cda",
   "metadata": {},
   "outputs": [
    {
     "name": "stdout",
     "output_type": "stream",
     "text": [
      "Answer =>  ['a', 'b', ['c', ['d', 'e', ['f', 'g', 'h', 'i', 'j'], 'k'], 'l'], 'm', 'n']\n"
     ]
    }
   ],
   "source": [
    "my_list = [\"a\", \"b\", [\"c\", [\"d\", \"e\", [\"f\", \"g\"], \"k\"], \"l\"], \"m\", \"n\"]\n",
    "add_list = [\"h\",\"i\",\"j\"]\n",
    "my_list[2][1][2].extend(add_list)\n",
    "print('Answer => ',my_list)\n"
   ]
  },
  {
   "cell_type": "markdown",
   "id": "7cdc44ea",
   "metadata": {},
   "source": [
    "### **Explain**"
   ]
  },
  {
   "cell_type": "markdown",
   "id": "f29bbc65",
   "metadata": {},
   "source": [
    "+ my_list[2] refers to explain the third element of the list, which is [\"c\", [\"d\", \"e\", [\"f\", \"g\"], \"k\"], \"l\"].\n",
    "+ my_list[2][1] refers to the second element of this sublist, which is [\"d\", \"e\", [\"f\", \"g\"], \"k\"], \"l\"].\n",
    "+ refers to the third element of this sublist, which is [\"f\", \"g\"].\n",
    "+ my_list[2][1][2].extend(add_list) extends this sublist with the given list [\"h\",\"i\",\"j\"] \n",
    "+ new_list = my list assigns the modified my_list to new_list."
   ]
  },
  {
   "cell_type": "markdown",
   "id": "e4f71184",
   "metadata": {},
   "source": [
    "### **Write a program** that *reads integers from the user* and *stores them in a list*. \n",
    "+ Your program should continue reading values until the user enters 0. \n",
    "+ Then it should display all of the values entered by the user (except for the 0) in ascending order, with one value appearing on each line. \n",
    "+ Use either the sort method or the sorted function to sort the list."
   ]
  },
  {
   "cell_type": "code",
   "execution_count": 4,
   "id": "6d46470c",
   "metadata": {},
   "outputs": [
    {
     "name": "stdin",
     "output_type": "stream",
     "text": [
      "Enter an integer:  7\n",
      "Enter an integer:  15\n",
      "Enter an integer:  5\n",
      "Enter an integer:  1\n",
      "Enter an integer:  99\n",
      "Enter an integer:  456568\n",
      "Enter an integer:  78855\n",
      "Enter an integer:  568974585\n",
      "Enter an integer:  0\n"
     ]
    },
    {
     "name": "stdout",
     "output_type": "stream",
     "text": [
      "1\n",
      "5\n",
      "7\n",
      "15\n",
      "99\n",
      "78855\n",
      "456568\n",
      "568974585\n"
     ]
    }
   ],
   "source": [
    "def main():\n",
    "    numbers = []\n",
    "    num = int(input(\"Enter an integer: \"))\n",
    "    while num!=0:\n",
    "        numbers.append(num)\n",
    "        num = int(input(\"Enter an integer: \"))\n",
    "    numbers.sort()\n",
    "    for num in numbers:\n",
    "        print(num)\n",
    "\n",
    "if __name__ == '__main__':\n",
    "    main()"
   ]
  },
  {
   "cell_type": "markdown",
   "id": "62876b8b",
   "metadata": {},
   "source": [
    "### **In this exercise** you will create a function, isSublist, that determines whether or not one list is a sublist of another. \n",
    "+ Your function should take two lists, larger and smaller, as its only parameters. \n",
    "+ It should return True if and only if smaller is a sublist of larger. \n",
    "+ Write a main program where you will use your function."
   ]
  },
  {
   "cell_type": "code",
   "execution_count": 6,
   "id": "34b00c22",
   "metadata": {},
   "outputs": [
    {
     "name": "stdout",
     "output_type": "stream",
     "text": [
      "Answer => True \n",
      "\n",
      "Answer => False\n"
     ]
    }
   ],
   "source": [
    "def sublist(larger,smaller):\n",
    "    n = len(smaller)\n",
    "    for i in range(len(larger)-n + 1):\n",
    "        if larger[i:i+n] == smaller:\n",
    "            return True\n",
    "    return False\n",
    "            \n",
    "def main():\n",
    "    larger = [1,2,3,4,5,6,7,8,9,10]\n",
    "    smaller1 = [3,4,5]\n",
    "    smaller2 = [3,5,7]\n",
    "    print('Answer =>',sublist(larger, smaller1),'\\n')\n",
    "    print('Answer =>',sublist(larger, smaller2))\n",
    "\n",
    "if __name__ == '__main__':\n",
    "    main()"
   ]
  },
  {
   "cell_type": "markdown",
   "id": "73f157fa",
   "metadata": {},
   "source": [
    "## **Sets**"
   ]
  },
  {
   "cell_type": "markdown",
   "id": "cf460e9a",
   "metadata": {},
   "source": [
    "### **my_set = {10, 20, 30, 40, 50}**\n",
    "+ Write a program to remove items 10, 20, 30 from the following set at once."
   ]
  },
  {
   "cell_type": "code",
   "execution_count": 7,
   "id": "eec6d962",
   "metadata": {},
   "outputs": [
    {
     "name": "stdout",
     "output_type": "stream",
     "text": [
      "{40, 50}\n"
     ]
    }
   ],
   "source": [
    "my_set = {10, 20, 30, 40, 50} \n",
    "set_delete = {10,20,30}\n",
    "new_set = my_set - set_delete    \n",
    "print(new_set)"
   ]
  },
  {
   "cell_type": "markdown",
   "id": "f9b3b0e4",
   "metadata": {},
   "source": [
    "### **Given the two following sets: set_1 = {10, 20, 30, 40, 50}**\n",
    "\n",
    "set_2 = {30, 40, 50, 60, 70}\n",
    "\n",
    "+ Write a program to output the following sets: my_set = {70, 40, 10, 50, 20, 60, 30}"
   ]
  },
  {
   "cell_type": "code",
   "execution_count": 8,
   "id": "c15aded8",
   "metadata": {},
   "outputs": [
    {
     "name": "stdout",
     "output_type": "stream",
     "text": [
      "{70, 40, 10, 50, 20, 60, 30}\n"
     ]
    }
   ],
   "source": [
    "set_1 = {10, 20, 30, 40, 50}\n",
    "set_2 = {30, 40, 50, 60, 70}\n",
    "print(set_1.union(set_2))"
   ]
  },
  {
   "cell_type": "markdown",
   "id": "71d94e0d",
   "metadata": {},
   "source": [
    "### **Explain**:\n",
    "Because a set is an unordered collection with no duplicate elements."
   ]
  },
  {
   "cell_type": "markdown",
   "id": "d5c1d203",
   "metadata": {},
   "source": [
    "### **The aim of this exercise is to use a Set**. \n",
    "Set up sets:\n",
    "+ exam = {’Andrew’, ’Kirsty’, ’Beth’, ’Emily’, ’Sue’} \n",
    "+ project = {’Kirsty’, ’Emily’, ’Ian’, ’Stuart’} \n",
    "\n",
    "Output the basic sets print(’exam:’, exam) print(’project:’, project) Using these sets answer the following questions:\n",
    "\n",
    "• Which students took both the exam and submitted a project?\n",
    "\n",
    "• Which students only took the exam?\n",
    "\n",
    "• Which students only submitted the project?\n",
    "\n",
    "• List all students who took either (or both) of the exam and the project.\n",
    "\n",
    "• List all students who took either (but not both) of the exam and the project.\n"
   ]
  },
  {
   "cell_type": "code",
   "execution_count": 10,
   "id": "0370a55a",
   "metadata": {},
   "outputs": [
    {
     "name": "stdout",
     "output_type": "stream",
     "text": [
      "students who took both the exam and submitted project.\n",
      "['Kirsty', 'Emily'] \n",
      "\n",
      "students only took the exam\n",
      "['Andrew', 'Beth', 'Sue'] \n",
      "\n",
      "students only submitted the project\n",
      "['Stuart', 'Ian'] \n",
      "\n",
      "List all students who took either (or both) of the exam and the project.\n",
      "{'Andrew', 'Ian', 'Kirsty', 'Stuart', 'Emily', 'Beth', 'Sue'} \n",
      "\n",
      "List all students who took either (but not both) of the exam and the project.\n",
      "['Andrew', 'Beth', 'Sue', 'Stuart', 'Ian']\n"
     ]
    }
   ],
   "source": [
    "exam = {'Andrew', 'Kirsty', 'Beth', 'Emily', 'Sue'} \n",
    "\n",
    "project = {'Kirsty', 'Emily', 'Ian', 'Stuart'} \n",
    "#exam = list(exam_set)\n",
    "#project = list(project_set)\n",
    "print(\"students who took both the exam and submitted project.\")\n",
    "list_student1 = []\n",
    "for i in exam:\n",
    "    if i in project:\n",
    "        list_student1.append(i)\n",
    "print(list_student1,'\\n')\n",
    "\n",
    "print(\"students only took the exam\")\n",
    "list_student3 = []\n",
    "for i in exam:\n",
    "    if i not in project:\n",
    "        list_student3.append(i)\n",
    "print(list_student3,'\\n')\n",
    "\n",
    "print(\"students only submitted the project\")\n",
    "list_student4 = []\n",
    "for i in project:\n",
    "    if i not in exam:\n",
    "        list_student4.append(i)\n",
    "print(list_student4,'\\n')\n",
    "\n",
    "print(\"List all students who took either (or both) of the exam and the project.\")\n",
    "print(exam.union(project),'\\n')\n",
    "\n",
    "print(\"List all students who took either (but not both) of the exam and the project.\")\n",
    "list_student2 = []\n",
    "for i in exam:\n",
    "    if i not in project:\n",
    "        list_student2.append(i)\n",
    "for i in project:\n",
    "    if i not in exam:\n",
    "        list_student2.append(i)\n",
    "print(list_student2)"
   ]
  },
  {
   "cell_type": "markdown",
   "id": "58da4315",
   "metadata": {},
   "source": [
    "## **Tuples**\n",
    "\n",
    "\n"
   ]
  },
  {
   "cell_type": "markdown",
   "id": "bf9f86b3",
   "metadata": {},
   "source": [
    "### **Swap the following two tuples in Python just in five lines of codes including the assignments, the operation and the printing. tuple_1 = (11, 22) tuple_2 = (99, 88)**"
   ]
  },
  {
   "cell_type": "code",
   "execution_count": 14,
   "id": "52c4e59a",
   "metadata": {},
   "outputs": [
    {
     "name": "stdout",
     "output_type": "stream",
     "text": [
      "Answers: \n",
      "\n",
      "tuple_1 = (11, 22)\n",
      "tuple_2 = (99, 88)\n"
     ]
    }
   ],
   "source": [
    "tuple_1 = (11, 22)\n",
    "tuple_2 = (99, 88)\n",
    "\n",
    "print(\"Answers:\", '\\n')\n",
    "print(\"tuple_1 =\", tuple_1)\n",
    "print(\"tuple_2 =\", tuple_2)"
   ]
  },
  {
   "cell_type": "markdown",
   "id": "42e4b2bd",
   "metadata": {},
   "source": [
    "### **Write a program** to print the output from the input tuple input = (11, [22, 33], 44, 55) output = (11, [222, 333], 44, 55)."
   ]
  },
  {
   "cell_type": "code",
   "execution_count": 15,
   "id": "90375bca",
   "metadata": {},
   "outputs": [
    {
     "name": "stdout",
     "output_type": "stream",
     "text": [
      "(11, [222, 333], 44, 55)\n"
     ]
    }
   ],
   "source": [
    "tuple_input = (11, [22, 33], 44, 55)\n",
    "new_tuple = list(tuple_input)\n",
    "tuple_add = [222,333]\n",
    "new_tuple.pop(1)\n",
    "new_tuple.insert(1,tuple_add)\n",
    "tuple_output = tuple(new_tuple)\n",
    "print(tuple_output)"
   ]
  },
  {
   "cell_type": "markdown",
   "id": "152fc8f6",
   "metadata": {},
   "source": [
    "### **Given the following tuple:** \n",
    "tuple1 = ((’a’, 23),(’b’, 37),(’c’, 11), (’d’,29)) \n",
    "+ Write a python program to output the following resulting tuple:((’c’, 11), (’a’, 23), (’d’, 29), (’b’, 37)) \n",
    "+ What did you noticed?"
   ]
  },
  {
   "cell_type": "code",
   "execution_count": 16,
   "id": "6172fe65",
   "metadata": {},
   "outputs": [
    {
     "name": "stdout",
     "output_type": "stream",
     "text": [
      "(('a', 11), ('b', 23), ('c', 29), ('d', 37))\n"
     ]
    }
   ],
   "source": [
    "tuple1 = (('a',23),('b',37),('c',11),('d',29))\n",
    "tuple2 =list(zip(*list(tuple1)))\n",
    "tuple3 = list(tuple2[1])\n",
    "tuple3.sort()\n",
    "tuple4 = list(tuple2[0])\n",
    "result = list(zip(tuple4,tuple3))\n",
    "print(tuple(result))"
   ]
  },
  {
   "cell_type": "markdown",
   "id": "06c4746b",
   "metadata": {},
   "source": [
    "I did not noticed anything because it is clear."
   ]
  },
  {
   "cell_type": "markdown",
   "id": "b8c039eb",
   "metadata": {},
   "source": [
    "## **Dictionaries:**\n",
    "\n"
   ]
  },
  {
   "cell_type": "markdown",
   "id": "b1db23d0",
   "metadata": {},
   "source": [
    "### **Convert the following two lists into a dictionary** keys = [’folo’, ’roapolo’, ’telopolo’] values = [10, 20, 30].\n"
   ]
  },
  {
   "cell_type": "code",
   "execution_count": 17,
   "id": "e4437e47",
   "metadata": {},
   "outputs": [
    {
     "name": "stdout",
     "output_type": "stream",
     "text": [
      "{'folo': 10, 'roapolo': 20, 'telopolo': 30}\n"
     ]
    }
   ],
   "source": [
    "dictionary = {\n",
    "    'folo': 10,\n",
    "    'roapolo': 20,\n",
    "    'telopolo': 30,\n",
    "}\n",
    "print(dictionary)"
   ]
  },
  {
   "cell_type": "markdown",
   "id": "672fbc30",
   "metadata": {},
   "source": [
    "### **Merge the following two dictionaries into a single one:**\n",
    "+ dict_1 = {’folo’: 10, ’roapolo’: 20, ’telopolo’: 30}\n",
    "+ dict_2 = {’telopolo’: 30, ’efapolo’: 40, ’dimapolo’: 50}\n",
    "What did you noticed? why?"
   ]
  },
  {
   "cell_type": "code",
   "execution_count": 18,
   "id": "90cf8e40",
   "metadata": {},
   "outputs": [
    {
     "name": "stdout",
     "output_type": "stream",
     "text": [
      "{'folo': 10, 'roapolo': 20, 'telopolo': 30, 'efapolo': 40, 'dimapolo': 50}\n"
     ]
    }
   ],
   "source": [
    "dict_1 = {'folo': 10, 'roapolo': 20, 'telopolo': 30}\n",
    "dict_2 = {'telopolo': 30, 'efapolo': 40, 'dimapolo': 50}\n",
    "dict_1.update(dict_2)\n",
    "print(dict_1)"
   ]
  },
  {
   "cell_type": "markdown",
   "id": "d8683fcb",
   "metadata": {},
   "source": [
    "### **Print the value of key \"Malagasy\" from the dictionary below: \n",
    "+ my_dict = { \"class\": { 3\"student\": { \"name\": \"Mike\", \"marks\": { \"French\": 15, \"English\": 11, \"Malagasy: 13, } } } }"
   ]
  },
  {
   "cell_type": "code",
   "execution_count": 19,
   "id": "43ee8e5c",
   "metadata": {},
   "outputs": [
    {
     "name": "stdout",
     "output_type": "stream",
     "text": [
      "13\n"
     ]
    }
   ],
   "source": [
    "my_dict = {\n",
    "\"class\": {\n",
    "\"student\": {\n",
    "\"name\": \"Mike\",\n",
    "\"marks\": {\n",
    "\"French\": 15,\n",
    "\"English\": 11,\n",
    "\"Malagasy\": 13,\n",
    "}\n",
    "}\n",
    "}\n",
    "}\n",
    "print(my_dict['class']['student']['marks']['Malagasy'])"
   ]
  },
  {
   "cell_type": "markdown",
   "id": "f0b8a593",
   "metadata": {},
   "source": [
    "### **By using dictionary comprehension, extract the name and the salary from the following given dictionary into a new one**.\n",
    "my_dict = {\n",
    "\"name\": \"Assala\",\n",
    "\"age\": 23,\n",
    "\"salary\": 5000,\n",
    "\"city\": \"Algeria\"}"
   ]
  },
  {
   "cell_type": "code",
   "execution_count": 20,
   "id": "ed1b653c",
   "metadata": {},
   "outputs": [
    {
     "name": "stdout",
     "output_type": "stream",
     "text": [
      "Assala\n",
      "5000\n"
     ]
    }
   ],
   "source": [
    "my_dict1 = {\n",
    "\"name\": \"Assala\",\n",
    "\"age\": 23,\n",
    "\"salary\": 5000,\n",
    "\"city\": \"Algeria\"}\n",
    "for i in my_dict1:\n",
    "    if i == 'name':\n",
    "        print(my_dict1[i])\n",
    "\n",
    "for i in my_dict1:\n",
    "    if i == 'salary':\n",
    "        print(my_dict1[i])"
   ]
  },
  {
   "cell_type": "markdown",
   "id": "2491808f",
   "metadata": {},
   "source": [
    "### **String 5:**\n",
    "    While the popularity of cheques as a payment method has diminished in recent years, some com- panies still issue them to pay employees or vendors. The amount being paid normally appears on a cheque twice, with one occurrence written using digits, and the other occurrence written using English words. Repeating the amount in two different forms makes it much more difficult for an unscrupulous employee or vendor to modify the amount on the cheque before depositing it.\n",
    "\n",
    "    In this exercise, your task is to create a function that takes an integer between 0 and 999 as its only parameter, and returns a string containing the English words for that number. For example, if the parameter to the function is 142 then your function should return “one hundred forty two”. Use one or more dictionaries to implement your solution rather than large if/elif/else constructs. Include a main program that reads an integer from the user and displays its value in English words.\n"
   ]
  },
  {
   "cell_type": "code",
   "execution_count": 21,
   "id": "62005d1c",
   "metadata": {},
   "outputs": [
    {
     "name": "stdout",
     "output_type": "stream",
     "text": [
      "Enter a number between 0 and 999: 50\n",
      "fifty\n"
     ]
    }
   ],
   "source": [
    "def number_to_words(num):\n",
    "    ones = ['','one','two','three','four','five','six','seven','eight','nine']\n",
    "    tens = ['','ten','twenty','thirty','forty','fifty','sixty','seventy','eighty','ninety']\n",
    "    teens = ['ten','eleven','twelve','thirteen','forteen','fifteen','sixteen','seventeen','eighteen','ninteen']\n",
    "    \n",
    "    if num<10:\n",
    "        return ones[num]\n",
    "    elif num < 20:\n",
    "        return teens[num-10]\n",
    "    elif num<100:\n",
    "        return tens[num//10]+(''if num %10 == 0 else ' ' + ones[num%10])\n",
    "    else:\n",
    "        return ones[num//100] + 'hundred' + ('' if num%100 == 0 else 'and' + number_to_words(num%100))\n",
    "\n",
    "num = int(input(\"Enter a number between 0 and 999: \"))\n",
    "print(number_to_words(num))"
   ]
  },
  {
   "cell_type": "markdown",
   "id": "2b18791f",
   "metadata": {},
   "source": [
    "# **Loops**"
   ]
  },
  {
   "cell_type": "markdown",
   "id": "2067408d",
   "metadata": {},
   "source": [
    "# D-1 Approximate π\n",
    "Write a program that displays 15 approximations of π . \n",
    "+ The first approximation should make\n",
    "+ use of only the first term from the infinite series. \n",
    "+ Each additional approximation displayed by your program should include one more term in the series, making it a better approximation of π than any of the approximations displayed previously."
   ]
  },
  {
   "cell_type": "code",
   "execution_count": 22,
   "id": "412e3a2f",
   "metadata": {},
   "outputs": [
    {
     "name": "stdout",
     "output_type": "stream",
     "text": [
      "0.05660879779247312\n",
      "\n",
      "The pi result is  3.056608797792473\n"
     ]
    }
   ],
   "source": [
    "sum1 = 0\n",
    "for i in range(1,16):\n",
    "    sum1 = ((-1)**(2*i))/((2*i)*(2*i + 1)*(2*i + 2)) + sum1\n",
    "print(sum1)\n",
    "print()\n",
    "sum2 = 3 + sum1\n",
    "print(\"The pi result is \",sum2)"
   ]
  },
  {
   "cell_type": "markdown",
   "id": "b7ad7a2a",
   "metadata": {},
   "source": [
    "# D- 2\n",
    "        One of the first known examples of encryption was used by Julius Caesar. Caesar needed to provide written instructions to his generals, but he didn’t want his enemies to learn his plans if the message slipped into their hands. As a result, he developed what later became known as the Caesar cipher.\n",
    "        \n",
    "+ The idea behind this cipher is simple (and as such, it provides no protection against modern code breaking techniques). Each letter in the original message is shifted by 3 places. As a result,A becomes D, B becomes E, C becomes F, D becomes G, etc.\n",
    "        \n",
    "+ The last three letters in the alphabet are wrapped around to the beginning: X becomes A, Y\n",
    "becomes B and Z becomes C. Non-letter characters are not modified by the cipher.\n",
    "\n",
    "+ Write a program that implements a Caesar cipher. Allow the user to supply the message and\n",
    "the shift amount, and then display the shifted message. Ensure that your program encodes both\n",
    "uppercase and lowercase letters. Your program should also support negative shift values so that\n",
    "it can be used both to encode messages and decode messages.\n"
   ]
  },
  {
   "cell_type": "code",
   "execution_count": 23,
   "id": "78f0736c",
   "metadata": {},
   "outputs": [
    {
     "name": "stdout",
     "output_type": "stream",
     "text": [
      "Are you encoding or decoding your message?\n",
      "encoding\n",
      "What is your message?\n",
      "fanitso\n",
      "IDQLWVR\n"
     ]
    }
   ],
   "source": [
    "# Ask user if encoding or decoding\n",
    "message = input('Are you encoding or decoding your message?\\n')\n",
    "\n",
    "# Encoding message\n",
    "if message == 'encoding':\n",
    "    message = input('What is your message?\\n')\n",
    "    cipher = ''\n",
    "    for character in message:\n",
    "        if (character == 'A') or (character == 'a'):\n",
    "            cipher += 'D'\n",
    "        elif (character == 'B') or (character == 'b'):\n",
    "            cipher += 'E'\n",
    "        elif (character == 'C') or (character == 'c'):\n",
    "            cipher += 'F'\n",
    "        elif (character == 'D') or (character == 'd'):\n",
    "            cipher += 'G'\n",
    "        elif (character == 'E') or (character == 'e'):\n",
    "            cipher += 'H'\n",
    "        elif (character == 'F') or (character == 'f'):\n",
    "            cipher += 'I'\n",
    "        elif (character == 'G') or (character == 'g'):\n",
    "            cipher += 'J'\n",
    "        elif (character == 'H') or (character == 'h'):\n",
    "            cipher += 'K'\n",
    "        elif (character == 'I') or (character == 'i'):\n",
    "            cipher += 'L'\n",
    "        elif (character == 'J') or (character == 'J'):\n",
    "            cipher += 'M'\n",
    "        elif (character == 'K') or (character == 'k'):\n",
    "            cipher += 'N'\n",
    "        elif (character == 'L') or (character == 'l'):\n",
    "            cipher += 'O'\n",
    "        elif (character == 'M') or (character == 'm'):\n",
    "            cipher += 'P'\n",
    "        elif (character == 'N') or (character == 'n'):\n",
    "            cipher += 'Q'\n",
    "        elif (character == 'O') or (character == 'o'):\n",
    "            cipher += 'R'\n",
    "        elif (character == 'P') or (character == 'p'):\n",
    "            cipher += 'S'\n",
    "        elif (character == 'Q') or (character == 'q'):\n",
    "            cipher += 'T'\n",
    "        elif (character == 'R') or (character == 'r'):\n",
    "            cipher += 'U'\n",
    "        elif (character == 'S') or (character == 's'):\n",
    "            cipher += 'V'\n",
    "        elif (character == 'T') or (character == 't'):\n",
    "            cipher += 'W'\n",
    "        elif (character == 'U') or (character == 'u'):\n",
    "            cipher += 'X'\n",
    "        elif (character == 'V') or (character == 'v'):\n",
    "            cipher += 'Y'\n",
    "        elif (character == 'W') or (character == 'w'):\n",
    "            cipher += 'Z'\n",
    "        elif (character == 'X') or (character == 'x'):\n",
    "            cipher += 'A'\n",
    "        elif (character == 'Y') or (character == 'y'):\n",
    "            cipher += 'B'\n",
    "        elif (character == 'Z') or (character == 'z'):\n",
    "            cipher += 'C'\n",
    "        else:\n",
    "            cipher += character\n",
    "    print(cipher)\n",
    "\n",
    "# Decoding message\n",
    "else:\n",
    "    message = input('What is your message?\\n')\n",
    "    cipher = ''\n",
    "    for character in message:\n",
    "        if (character == 'A') or (character == 'a'):\n",
    "            cipher += 'X'\n",
    "        elif (character == 'B') or (character == 'b'):\n",
    "            cipher += 'Y'\n",
    "        elif (character == 'C') or (character == 'c'):\n",
    "            cipher += 'Z'\n",
    "        elif (character == 'D') or (character == 'd'):\n",
    "            cipher += 'A'\n",
    "        elif (character == 'E') or (character == 'e'):\n",
    "            cipher += 'B'\n",
    "        elif (character == 'F') or (character == 'f'):\n",
    "            cipher += 'C'\n",
    "        elif (character == 'G') or (character == 'g'):\n",
    "            cipher += 'D'\n",
    "        elif (character == 'H') or (character == 'h'):\n",
    "            cipher += 'E'\n",
    "        elif (character == 'I') or (character == 'i'):\n",
    "            cipher += 'F'\n",
    "        elif (character == 'J') or (character == 'J'):\n",
    "            cipher += 'G'\n",
    "        elif (character == 'K') or (character == 'k'):\n",
    "            cipher += 'H'\n",
    "        elif (character == 'L') or (character == 'l'):\n",
    "            cipher += 'I'\n",
    "        elif (character == 'M') or (character == 'm'):\n",
    "            cipher += 'J'\n",
    "        elif (character == 'N') or (character == 'n'):\n",
    "            cipher += 'K'\n",
    "        elif (character == 'O') or (character == 'o'):\n",
    "            cipher += 'L'\n",
    "        elif (character == 'P') or (character == 'p'):\n",
    "            cipher += 'M'\n",
    "        elif (character == 'Q') or (character == 'q'):\n",
    "            cipher += 'N'\n",
    "        elif (character == 'R') or (character == 'r'):\n",
    "            cipher += 'O'\n",
    "        elif (character == 'S') or (character == 's'):\n",
    "            cipher += 'P'\n",
    "        elif (character == 'T') or (character == 't'):\n",
    "            cipher += 'Q'\n",
    "        elif (character == 'U') or (character == 'u'):\n",
    "            cipher += 'R'\n",
    "        elif (character == 'V') or (character == 'v'):\n",
    "            cipher += 'S'\n",
    "        elif (character == 'W') or (character == 'w'):\n",
    "            cipher += 'T'\n",
    "        elif (character == 'X') or (character == 'x'):\n",
    "            cipher += 'U'\n",
    "        elif (character == 'Y') or (character == 'y'):\n",
    "            cipher += 'V'\n",
    "        elif (character == 'Z') or (character == 'z'):\n",
    "            cipher += 'W'\n",
    "        else:\n",
    "            cipher += character\n",
    "    print(cipher)"
   ]
  },
  {
   "cell_type": "markdown",
   "id": "e2531de0",
   "metadata": {},
   "source": [
    "# D- 3 \n",
    "Program that implements Newton’s method to compute and display the square root of a number, x, entered by the user"
   ]
  },
  {
   "cell_type": "code",
   "execution_count": 24,
   "id": "2f321649",
   "metadata": {},
   "outputs": [
    {
     "name": "stdout",
     "output_type": "stream",
     "text": [
      "Input number: 25\n",
      "The square root of  25 is about  5.000012953048684\n"
     ]
    }
   ],
   "source": [
    "def square_root(number):\n",
    "    epsilon = 0.01\n",
    "    k       = number\n",
    "    guess   = k / 2.0\n",
    "    while abs(guess * guess - k) >= epsilon:\n",
    "        guess = guess - (guess ** 2 - k) / (2 * guess)\n",
    "    return guess\n",
    "\n",
    "# Program starts here\n",
    "user_number = int(input('Input number: '))\n",
    "sqroot_number = square_root(user_number)\n",
    "print ('The square root of ', user_number, 'is about ', sqroot_number)"
   ]
  },
  {
   "cell_type": "markdown",
   "id": "10faf021",
   "metadata": {},
   "source": [
    "# D- 4\n",
    "Write a program that converts a binary (base 2) number to decimal (base 10)."
   ]
  },
  {
   "cell_type": "code",
   "execution_count": 25,
   "id": "27839a3e",
   "metadata": {},
   "outputs": [
    {
     "name": "stdout",
     "output_type": "stream",
     "text": [
      "Enter the Binary Number: \n",
      "1111\n",
      "\n",
      "Equivalent Decimal Value =  15\n"
     ]
    }
   ],
   "source": [
    "print(\"Enter the Binary Number: \")\n",
    "bnum = int(input())\n",
    "\n",
    "dnum = 0\n",
    "i = 1\n",
    "while bnum!=0:\n",
    "    rem = bnum%10\n",
    "    dnum = dnum + (rem*i)\n",
    "    i = i*2\n",
    "    bnum = int(bnum/10)\n",
    "\n",
    "print(\"\\nEquivalent Decimal Value = \", dnum)"
   ]
  },
  {
   "cell_type": "code",
   "execution_count": null,
   "id": "ca044473",
   "metadata": {},
   "outputs": [],
   "source": []
  },
  {
   "cell_type": "markdown",
   "id": "6827892d",
   "metadata": {},
   "source": [
    "# E Functions"
   ]
  },
  {
   "cell_type": "markdown",
   "id": "a480d5df",
   "metadata": {},
   "source": [
    "# E- 1\n",
    "Write a function that determines how many days there are in a particular month."
   ]
  },
  {
   "cell_type": "code",
   "execution_count": 16,
   "id": "f26fbdda",
   "metadata": {},
   "outputs": [
    {
     "name": "stdout",
     "output_type": "stream",
     "text": [
      "Enter month: January\n",
      "Enter year: 2023\n",
      "31\n"
     ]
    }
   ],
   "source": [
    "month=input(\"Enter month: \")\n",
    "year=int(input(\"Enter year: \"))\n",
    "if year%4==0:\n",
    "        year=('leap year')\n",
    "if month in ['September', 'April', 'June', 'November']:\n",
    "        print (\"30\")\n",
    "\n",
    "elif month in ['January', 'March', 'May', 'July', 'August','October','December']:\n",
    "        print (\"31\")        \n",
    "\n",
    "elif month == 'February' and year == \"leap year\":\n",
    "        print (\"29\")\n",
    "\n",
    "elif month == 'February' and  year != \"leap year\":\n",
    "        print (\"28\")\n",
    "\n",
    "else:\n",
    "    print(\"none\")"
   ]
  },
  {
   "cell_type": "markdown",
   "id": "b67c3818",
   "metadata": {},
   "source": [
    "2. A magic date is a date where the day multiplied by the month is equal to the two digit year"
   ]
  },
  {
   "cell_type": "code",
   "execution_count": 26,
   "id": "c6fd7526",
   "metadata": {},
   "outputs": [
    {
     "name": "stdout",
     "output_type": "stream",
     "text": [
      "Enter a month but use number: 06\n",
      "Enter a day use number: 10\n",
      "Enter a year use the last two digit: 60\n",
      "\n",
      "It's a magic date\n"
     ]
    }
   ],
   "source": [
    "mois = int(input(\"Enter a month but use number: \"))\n",
    "jour = int(input(\"Enter a day use number: \"))\n",
    "annee = int(input(\"Enter a year use the last two digit: \"))\n",
    "print()\n",
    "def magic_date(mois,jour,annee):\n",
    "    if (mois*jour) == annee:\n",
    "        print(\"It's a magic date\")\n",
    "    else:\n",
    "        print(\"It's ordinary date\")\n",
    "magic_date(mois,jour,annee)"
   ]
  },
  {
   "cell_type": "markdown",
   "id": "e4a8efe3",
   "metadata": {},
   "source": [
    "3. An integer, n, is said to be perfect when the sum of all of the proper divisors of n is equal to n.\n",
    "For example, 28 is a perfect number because its proper divisors are 1, 2, 4, 7 and 14, and 1 + 2\n",
    "+ 4 + 7 + 14 = 28.\n",
    "Write a function that determines whether or not a positive integer is perfect. Your function will\n",
    "take one parameter. If that parameter is a perfect number then your function will return True.\n",
    "Otherwise it will return False. In addition, write a main program that uses your function to\n",
    "identify and display all of the perfect numbers between 1 and 10,000."
   ]
  },
  {
   "cell_type": "code",
   "execution_count": 18,
   "id": "d1ec504a",
   "metadata": {},
   "outputs": [
    {
     "name": "stdout",
     "output_type": "stream",
     "text": [
      "Below are all perfect numbers untill 10000\n",
      "6  is a perfect number\n",
      "28  is a perfect number\n",
      "496  is a perfect number\n",
      "8128  is a perfect number\n"
     ]
    }
   ],
   "source": [
    "# Python3 code to check if a given\n",
    "# number is perfect or not\n",
    " \n",
    "# Returns true if n is perfect\n",
    "def isPerfect( n ):\n",
    "     \n",
    "    # To store sum of divisors\n",
    "    sum = 1\n",
    "     \n",
    "    # Find all divisors and add them\n",
    "    i = 2\n",
    "    while i * i <= n:\n",
    "        if n % i == 0:\n",
    "            sum = sum + i + n/i\n",
    "        i += 1\n",
    "     \n",
    "    # If sum of divisors is equal to\n",
    "    # n, then n is a perfect number\n",
    "     \n",
    "    return (True if sum == n and n!=1 else False)\n",
    " \n",
    "# Driver program\n",
    "print(\"Below are all perfect numbers untill 10000\")\n",
    "n = 2\n",
    "for n in range (10000):\n",
    "    if isPerfect (n):\n",
    "        print(n , \" is a perfect number\")\n",
    "         \n",
    "# This code is contributed by \"Sharad_Bhardwaj\"."
   ]
  },
  {
   "cell_type": "markdown",
   "id": "0fcc3004",
   "metadata": {},
   "source": [
    "4"
   ]
  },
  {
   "cell_type": "code",
   "execution_count": 25,
   "id": "9217a275",
   "metadata": {},
   "outputs": [
    {
     "name": "stdout",
     "output_type": "stream",
     "text": [
      "enter a number hexadecimal: F\n",
      "15\n"
     ]
    }
   ],
   "source": [
    "# Python3 program to convert\n",
    "# hexadecimal to decimal\n",
    " \n",
    "# Function to convert hexadecimal\n",
    "# to decimal\n",
    " \n",
    " \n",
    "def hexadecimalToDecimal(hexval):\n",
    " \n",
    "    # Finding length\n",
    "    length = len(hexval)\n",
    " \n",
    "    # Initialize base value to 1,\n",
    "    # i.e. 16*0\n",
    "    base = 1\n",
    "    dec_val = 0\n",
    " \n",
    "    # Extracting characters as digits\n",
    "    # from last character\n",
    "    for i in range(length - 1, -1, -1):\n",
    " \n",
    "        # If character lies in '0'-'9',\n",
    "        # converting it to integral 0-9\n",
    "        # by subtracting 48 from ASCII value\n",
    "        if hexval[i] >= '0' and hexval[i] <= '9':\n",
    "            dec_val += (ord(hexval[i]) - 48) * base\n",
    " \n",
    "            # Incrementing base by power\n",
    "            base = base * 16\n",
    " \n",
    "        # If character lies in 'A'-'F',converting\n",
    "        # it to integral 10-15 by subtracting 55\n",
    "        # from ASCII value\n",
    "        elif hexval[i] >= 'A' and hexval[i] <= 'F':\n",
    "            dec_val += (ord(hexval[i]) - 55) * base\n",
    " \n",
    "            # Incrementing base by power\n",
    "            base = base * 16\n",
    " \n",
    "    return dec_val\n",
    " \n",
    " \n",
    "# Driver code\n",
    "if __name__ == '__main__':\n",
    " \n",
    "    hexnum = input('enter a number hexadecimal: ')\n",
    " \n",
    "    print(hexadecimalToDecimal(hexnum))\n",
    " "
   ]
  },
  {
   "cell_type": "markdown",
   "id": "de729f71",
   "metadata": {},
   "source": [
    "# Probleme:"
   ]
  },
  {
   "cell_type": "markdown",
   "id": "2ac154a6",
   "metadata": {},
   "source": [
    "# 1) Area of a room:\n",
    "\n",
    "        Write a program that asks the user to enter the width and length of a room. Once these values have been read, your program should compute and display the area of the room. The length and the width will be entered as floating-point numbers. Display the area of the area of the room both in square feet and square meter."
   ]
  },
  {
   "cell_type": "code",
   "execution_count": 8,
   "id": "e5e26b18",
   "metadata": {},
   "outputs": [
    {
     "name": "stdout",
     "output_type": "stream",
     "text": [
      "Enter the length of the room in feet: 2\n",
      "Enter the width of the room in feet: 3\n",
      "The area of the room is 6.0 square feet\n"
     ]
    }
   ],
   "source": [
    "# A program who asks the user to enter the width and length of a room!\n",
    "\n",
    "length = float (input (\"Enter the length of the room in feet: \")) \n",
    "width = float (input (\"Enter the width of the room in feet: \")) \n",
    "\n",
    "\n",
    "area = length * width   \n",
    "\n",
    "\n",
    "print (\"The area of the room is\", area, \"square feet\") "
   ]
  },
  {
   "cell_type": "markdown",
   "id": "3361495a",
   "metadata": {},
   "source": [
    "# 2) Sum of the First n Positive Integers\n",
    "\n",
    "+ Write a program that reads a positive integer, n, from the user and then displays the sum of all of the integers from 1 to n.\n"
   ]
  },
  {
   "cell_type": "code",
   "execution_count": 9,
   "id": "ba3f32e9",
   "metadata": {},
   "outputs": [
    {
     "name": "stdout",
     "output_type": "stream",
     "text": [
      "Enter a positive integer: 195\n",
      "The sum of integers from 1 to 195 is 19110\n"
     ]
    }
   ],
   "source": [
    "n = int(input(\"Enter a positive integer: \"))\n",
    "sum = 0\n",
    "for i in range(1, n+1):\n",
    "    sum += i\n",
    "print(\"The sum of integers from 1 to\", n, \"is\", sum)"
   ]
  },
  {
   "cell_type": "markdown",
   "id": "360c02d5",
   "metadata": {},
   "source": [
    "# 3) Distance Between Two Points on Earth\n",
    "\n",
    "        The surface of the Earth is curved, and the distance between degrees of longitude varies with latitude. \n",
    "        \n",
    "        As a result, finding the distance between two points on the surface of the Earth is more complicated than simply using the Pythagorean theorem. \n",
    "        \n",
    "        Let (t1 , g1) and (t2 , g2) be the latitude and longitude of two points on the Earth’s surface. The distance between these points, following the surface of the Earth, in kilometers is: \n",
    "        \n",
    "        Distance = 6371.01 × arccos(sin(t1) × sin(t2) + cos(t1) × cos(t2) × cos(g1 − g2)). \n",
    "        \n",
    "        The value 6371.01 in the previous equation wasn’t selected at random. It is the average radius of the Earth in kilometers. \n",
    "        \n",
    "+ Create a program that allows the user to enter the latitude and longitude of two points on the Earth in degrees. \n",
    "+ Your program should display the distance between the points, following the surface of the earth, in kilometers.\n"
   ]
  },
  {
   "cell_type": "code",
   "execution_count": 10,
   "id": "2c6e0571",
   "metadata": {},
   "outputs": [
    {
     "name": "stdout",
     "output_type": "stream",
     "text": [
      "Enter the latitude of point 1 in degrees: 5\n",
      "Enter the longitude of point 1 in degrees: 9\n",
      "Enter the latitude of point 2 in degrees: 7\n",
      "Enter the longitude of point 2 in degrees: 8\n",
      "The distance between the two points is 248.37 kilometers.\n"
     ]
    }
   ],
   "source": [
    "from math import radians, cos, sin, acos\n",
    "\n",
    "\n",
    "EARTH_RADIUS = 6371.01\n",
    "\n",
    "\n",
    "lat1 = float(input(\"Enter the latitude of point 1 in degrees: \"))\n",
    "lon1 = float(input(\"Enter the longitude of point 1 in degrees: \"))\n",
    "lat2 = float(input(\"Enter the latitude of point 2 in degrees: \"))\n",
    "lon2 = float(input(\"Enter the longitude of point 2 in degrees: \"))\n",
    "\n",
    "# convert degrees to radians\n",
    "lat1 = radians(lat1)\n",
    "lon1 = radians(lon1)\n",
    "lat2 = radians(lat2)\n",
    "lon2 = radians(lon2)\n",
    "\n",
    "# calculate distance using the Haversine formula\n",
    "distance = EARTH_RADIUS * acos(sin(lat1) * sin(lat2) + cos(lat1) * cos(lat2) * cos(lon1 - lon2))\n",
    "\n",
    "\n",
    "print(\"The distance between the two points is\", round(distance, 2), \"kilometers.\")"
   ]
  },
  {
   "cell_type": "markdown",
   "id": "1bec75cf",
   "metadata": {},
   "source": [
    "# 4) Volume of a Cylinder\n",
    "\n",
    "        The volume of a cylinder can be computed by multiplying the area of its circular base by its height. \n",
    "        \n",
    "+ Write a program that reads the radius of the cylinder, along with its height, from the user and computes its volume. \n",
    "        \n",
    "+ Display the result rounded to one decimal place.\n"
   ]
  },
  {
   "cell_type": "code",
   "execution_count": 11,
   "id": "bae86988",
   "metadata": {},
   "outputs": [
    {
     "name": "stdout",
     "output_type": "stream",
     "text": [
      "Enter the radius of the cylinder: 2\n",
      "Enter the height of the cylinder: 5\n",
      "The volume of the cylinder is 62.8\n"
     ]
    }
   ],
   "source": [
    "from math import pi\n",
    "\n",
    "\n",
    "radius = float(input(\"Enter the radius of the cylinder: \"))\n",
    "height = float(input(\"Enter the height of the cylinder: \"))\n",
    "\n",
    "\n",
    "volume = pi * radius ** 2 * height\n",
    "\n",
    "print(\"The volume of the cylinder is\", round(volume, 1))"
   ]
  },
  {
   "cell_type": "markdown",
   "id": "038c4fa6",
   "metadata": {},
   "source": [
    "# 5) Sum of the Digits in an Integer\n",
    " + Develop a program that reads a four-digit integer from the user and displays the sum of its digits. \n",
    "        \n",
    " For example, if the user enters 3141 then your program should display 3 + 1 + 4 + 1 = 9."
   ]
  },
  {
   "cell_type": "code",
   "execution_count": 12,
   "id": "d726c3bf",
   "metadata": {},
   "outputs": [
    {
     "name": "stdout",
     "output_type": "stream",
     "text": [
      "Enter a four-digit integer: 1111\n",
      "The sum of the digits is 4\n"
     ]
    }
   ],
   "source": [
    "num = int(input(\"Enter a four-digit integer: \"))\n",
    "\n",
    "\n",
    "thousands = num // 1000\n",
    "hundreds = (num % 1000) // 100\n",
    "tens = (num % 100) // 10\n",
    "ones = num % 10\n",
    "digit_sum = thousands + hundreds + tens + ones\n",
    "\n",
    "print(\"The sum of the digits is\", digit_sum)"
   ]
  },
  {
   "cell_type": "markdown",
   "id": "74aef819",
   "metadata": {},
   "source": [
    "# 6) Birth Date to Astrological Sign\n",
    "      \n",
    "        Write a program that asks the user to enter his or her month and day of birth. \n",
    "\n",
    "        Then your program should report the user’s zodiac sign as part of an appropriate output message.\n",
    "        \n",
    "        The horoscopes commonly reported in newspapers use the position of the sun at the time of one’s\n",
    "birth to try and predict the future. This system of astrology divides the year into twelve zodiac signs:\n",
    "\n",
    "\n",
    "\n",
    "\n",
    "\n",
    "\n",
    "Zodiac             |   Sign Date Range           |\n",
    "\n",
    "\n",
    "Capricorn          | December 22 to January 19   |\n",
    "\n",
    "Aquarius           | January 20 to February 18   |\n",
    "\n",
    "Pisces             | February 19 to March 20     |\n",
    "\n",
    "Aries              | March 21 to April 19        |\n",
    "\n",
    "Taurus             | April 20 to May 20          |\n",
    "\n",
    "Gemini             | May 21 to June 20           |\n",
    "\n",
    "Cancer             | June 21 to July 22          |\n",
    "\n",
    "Leo                | July 23 to August 22        |\n",
    "\n",
    "Virgo              | August 23 to September 22   |\n",
    "\n",
    "Libra              | September 23 to October 22  |\n",
    "\n",
    "Scorpio            | October 23 to November 21   |\n",
    "\n",
    "Sagittarius        | November 22 to December 21  |\n",
    "\n",
    "\n",
    "\n",
    "\n",
    "  + Write a program that asks the user to enter his or her month and day of birth. \n",
    "  \n",
    "        \n",
    "  + Then your program should report the user’s zodiac sign as part of an appropriate output message."
   ]
  },
  {
   "cell_type": "code",
   "execution_count": 14,
   "id": "74f85097",
   "metadata": {},
   "outputs": [
    {
     "name": "stdout",
     "output_type": "stream",
     "text": [
      "Enter the month of your birth (e.g. January): October\n",
      "Enter the day of your birth (e.g. 1): 10\n",
      "Your zodiac sign is Libra\n"
     ]
    }
   ],
   "source": [
    "# A program who asks the user to enter his or her month and day of birth. \n",
    "\n",
    "month = input(\"Enter the month of your birth (e.g. January): \")\n",
    "day = int(input(\"Enter the day of your birth (e.g. 1): \"))\n",
    "\n",
    "\n",
    "if (month == \"December\" and day >= 22) or (month == \"January\" and day <= 19):\n",
    "    sign = \"Capricorn\"\n",
    "elif (month == \"January\" and day >= 20) or (month == \"February\" and day <= 18):\n",
    "    sign = \"Aquarius\"\n",
    "elif (month == \"February\" and day >= 19) or (month == \"March\" and day <= 20):\n",
    "    sign = \"Pisces\"\n",
    "elif (month == \"March\" and day >= 21) or (month == \"April\" and day <= 19):\n",
    "    sign = \"Aries\"\n",
    "elif (month == \"April\" and day >= 20) or (month == \"May\" and day <= 20):\n",
    "    sign = \"Taurus\"\n",
    "elif (month == \"May\" and day >= 21) or (month == \"June\" and day <= 20):\n",
    "    sign = \"Gemini\"\n",
    "elif (month == \"June\" and day >= 21) or (month == \"July\" and day <= 22):\n",
    "    sign = \"Cancer\"\n",
    "elif (month == \"July\" and day >= 23) or (month == \"August\" and day <= 22):\n",
    "    sign = \"Leo\"\n",
    "elif (month == \"August\" and day >= 23) or (month == \"September\" and day <= 22):\n",
    "    sign = \"Virgo\"\n",
    "elif (month == \"September\" and day >= 23) or (month == \"October\" and day <= 22):\n",
    "    sign = \"Libra\"\n",
    "elif (month == \"October\" and day >= 23) or (month == \"November\" and day <= 21):\n",
    "    sign = \"Scorpio\"\n",
    "elif (month == \"November\" and day >= 22) or (month == \"December\" and day <= 21):\n",
    "    sign = \"Sagittarius\"\n",
    "else:\n",
    "    sign = \"Invalid input\"\n",
    "\n",
    "\n",
    "print(\"Your zodiac sign is\", sign)"
   ]
  },
  {
   "cell_type": "markdown",
   "id": "0f294607",
   "metadata": {},
   "source": [
    "## Problem 7: Roots of a Quadratic Function:\n",
    "\n",
    "                              f (x) = ax2 + bx + c\n",
    "                                                        \n",
    "        Write a program that computes the real roots of a quadratic function. \n",
    "        \n",
    "        Your program should begin by prompting the user for the values of a, b and c. \n",
    "        \n",
    "        Then it should display a message indicating the number of real roots, along with the values of the real   roots (if any)."
   ]
  },
  {
   "cell_type": "code",
   "execution_count": 17,
   "id": "1bbe9e21",
   "metadata": {},
   "outputs": [
    {
     "name": "stdout",
     "output_type": "stream",
     "text": [
      "Enter the coefficient a: 3\n",
      "Enter the coefficient b: 5\n",
      "Enter the coefficient c: 2\n",
      "There are two real roots: -0.6666666666666666 and -1.0\n"
     ]
    }
   ],
   "source": [
    "import math\n",
    "\n",
    "a = float(input(\"Enter the coefficient a: \"))\n",
    "b = float(input(\"Enter the coefficient b: \"))\n",
    "c = float(input(\"Enter the coefficient c: \"))\n",
    "\n",
    "\n",
    "discriminant = b**2 - 4*a*c\n",
    "\n",
    "\n",
    "if discriminant < 0:\n",
    "    print(\"There are no real roots\")\n",
    "elif discriminant == 0:\n",
    "    root = -b / (2*a)\n",
    "    print(\"There is a real double root:\", root)\n",
    "else:\n",
    "    root1 = (-b + math.sqrt(discriminant)) / (2*a)\n",
    "    root2 = (-b - math.sqrt(discriminant)) / (2*a)\n",
    "    print(\"There are two real roots: {} and {}\".format(root1, root2))"
   ]
  },
  {
   "cell_type": "markdown",
   "id": "eb0d0b44",
   "metadata": {},
   "source": [
    "## 8) Is a leap year?\n",
    "        Most years have 365 days. However, the time required for the Earth to orbit the Sun is actually\n",
    "slightly more than that. As a result, an extra day, February 29, is included in some years to correct\n",
    "for this difference. Such years are referred to as leap years. \n",
    "\n",
    "        The rules for determining whether or not a year is a leap year follow:\n",
    "        \n",
    "    • Any year that is divisible by 400 is a leap year.\n",
    "    • Of the remaining years, any year that is divisible by 100 is not a leap year.\n",
    "    • Of the remaining years, any year that is divisible by 4 is a leap year.\n",
    "    • All other years are not leap years.\n",
    "\n",
    "\n",
    "Write a program that reads a year from the user and displays a message indicating whether or not it is a leap year."
   ]
  },
  {
   "cell_type": "code",
   "execution_count": 18,
   "id": "985cc30f",
   "metadata": {},
   "outputs": [
    {
     "name": "stdout",
     "output_type": "stream",
     "text": [
      "Enter a year: 2024\n",
      "2024 is a leap year\n"
     ]
    }
   ],
   "source": [
    "year = int(input(\"Enter a year: \"))\n",
    "\n",
    "if year % 400 == 0:\n",
    "    print(year, \"is a leap year\")\n",
    "elif year % 100 == 0:\n",
    "    print(year, \"is not a leap year\")\n",
    "elif year % 4 == 0:\n",
    "    print(year, \"is a leap year\")\n",
    "else:\n",
    "    print(year, \"is not a leap year\")"
   ]
  },
  {
   "cell_type": "markdown",
   "id": "1ea1dcb3",
   "metadata": {},
   "source": [
    "## Problem 10: The Sieve of Eratosthenes\n",
    "\n",
    "        The Sieve of Eratosthenes is a technique that was developed more than 2,000 years ago to easily find\n",
    "all of the prime numbers between 2 and some limit, say 100. \n",
    "\n",
    "\n",
    "A description of the algorithm follows:\n",
    "\n",
    "        - Write down all of the numbers from 0 to the limit\n",
    "        - Cross out 0 and 1 because they are not prime\n",
    "        - Set p equal to 2\n",
    "        - While p is less than the limit do\n",
    "        - Cross out all multiples of p (but not p itself)\n",
    "        - Set p equal to the next number in the list that is not crossed out\n",
    "        - Report all of the numbers that have not been crossed out as prime.\n",
    "        \n",
    "        \n",
    "    The key to this algorithm is that it is relatively easy to cross out every nth number on a piece of paper. \n",
    "\n",
    "    This is also an easy task for a computer—a for loop can simulate this behavior when a third parameter is provided to the range function. \n",
    "\n",
    "    When a number is crossed out, we know that it is no longer prime, but it still occupies space on the piece of paper, and must still be considered when computing later prime numbers. \n",
    "\n",
    "    As a result, you should not simulate crossing out a number by removing it from the list. Instead, you should simulate crossing out a number by replacing it with 0.\n",
    "\n",
    "Then, once the algorithm completes, all of the non-zero values in the list are prime."
   ]
  },
  {
   "cell_type": "code",
   "execution_count": 5,
   "id": "9a8a7e78",
   "metadata": {},
   "outputs": [
    {
     "name": "stdout",
     "output_type": "stream",
     "text": [
      "Following are the prime numbers smaller\n",
      "than or equal to 10000\n",
      "2\n",
      "3\n",
      "5\n",
      "7\n",
      "11\n",
      "13\n",
      "17\n",
      "19\n",
      "23\n",
      "29\n",
      "31\n",
      "37\n",
      "41\n",
      "43\n",
      "47\n",
      "53\n",
      "59\n",
      "61\n",
      "67\n",
      "71\n",
      "73\n",
      "79\n",
      "83\n",
      "89\n",
      "97\n",
      "101\n",
      "103\n",
      "107\n",
      "109\n",
      "113\n",
      "127\n",
      "131\n",
      "137\n",
      "139\n",
      "149\n",
      "151\n",
      "157\n",
      "163\n",
      "167\n",
      "173\n",
      "179\n",
      "181\n",
      "191\n",
      "193\n",
      "197\n",
      "199\n",
      "211\n",
      "223\n",
      "227\n",
      "229\n",
      "233\n",
      "239\n",
      "241\n",
      "251\n",
      "257\n",
      "263\n",
      "269\n",
      "271\n",
      "277\n",
      "281\n",
      "283\n",
      "293\n",
      "307\n",
      "311\n",
      "313\n",
      "317\n",
      "331\n",
      "337\n",
      "347\n",
      "349\n",
      "353\n",
      "359\n",
      "367\n",
      "373\n",
      "379\n",
      "383\n",
      "389\n",
      "397\n",
      "401\n",
      "409\n",
      "419\n",
      "421\n",
      "431\n",
      "433\n",
      "439\n",
      "443\n",
      "449\n",
      "457\n",
      "461\n",
      "463\n",
      "467\n",
      "479\n",
      "487\n",
      "491\n",
      "499\n",
      "503\n",
      "509\n",
      "521\n",
      "523\n",
      "541\n",
      "547\n",
      "557\n",
      "563\n",
      "569\n",
      "571\n",
      "577\n",
      "587\n",
      "593\n",
      "599\n",
      "601\n",
      "607\n",
      "613\n",
      "617\n",
      "619\n",
      "631\n",
      "641\n",
      "643\n",
      "647\n",
      "653\n",
      "659\n",
      "661\n",
      "673\n",
      "677\n",
      "683\n",
      "691\n",
      "701\n",
      "709\n",
      "719\n",
      "727\n",
      "733\n",
      "739\n",
      "743\n",
      "751\n",
      "757\n",
      "761\n",
      "769\n",
      "773\n",
      "787\n",
      "797\n",
      "809\n",
      "811\n",
      "821\n",
      "823\n",
      "827\n",
      "829\n",
      "839\n",
      "853\n",
      "857\n",
      "859\n",
      "863\n",
      "877\n",
      "881\n",
      "883\n",
      "887\n",
      "907\n",
      "911\n",
      "919\n",
      "929\n",
      "937\n",
      "941\n",
      "947\n",
      "953\n",
      "967\n",
      "971\n",
      "977\n",
      "983\n",
      "991\n",
      "997\n",
      "1009\n",
      "1013\n",
      "1019\n",
      "1021\n",
      "1031\n",
      "1033\n",
      "1039\n",
      "1049\n",
      "1051\n",
      "1061\n",
      "1063\n",
      "1069\n",
      "1087\n",
      "1091\n",
      "1093\n",
      "1097\n",
      "1103\n",
      "1109\n",
      "1117\n",
      "1123\n",
      "1129\n",
      "1151\n",
      "1153\n",
      "1163\n",
      "1171\n",
      "1181\n",
      "1187\n",
      "1193\n",
      "1201\n",
      "1213\n",
      "1217\n",
      "1223\n",
      "1229\n",
      "1231\n",
      "1237\n",
      "1249\n",
      "1259\n",
      "1277\n",
      "1279\n",
      "1283\n",
      "1289\n",
      "1291\n",
      "1297\n",
      "1301\n",
      "1303\n",
      "1307\n",
      "1319\n",
      "1321\n",
      "1327\n",
      "1361\n",
      "1367\n",
      "1373\n",
      "1381\n",
      "1399\n",
      "1409\n",
      "1423\n",
      "1427\n",
      "1429\n",
      "1433\n",
      "1439\n",
      "1447\n",
      "1451\n",
      "1453\n",
      "1459\n",
      "1471\n",
      "1481\n",
      "1483\n",
      "1487\n",
      "1489\n",
      "1493\n",
      "1499\n",
      "1511\n",
      "1523\n",
      "1531\n",
      "1543\n",
      "1549\n",
      "1553\n",
      "1559\n",
      "1567\n",
      "1571\n",
      "1579\n",
      "1583\n",
      "1597\n",
      "1601\n",
      "1607\n",
      "1609\n",
      "1613\n",
      "1619\n",
      "1621\n",
      "1627\n",
      "1637\n",
      "1657\n",
      "1663\n",
      "1667\n",
      "1669\n",
      "1693\n",
      "1697\n",
      "1699\n",
      "1709\n",
      "1721\n",
      "1723\n",
      "1733\n",
      "1741\n",
      "1747\n",
      "1753\n",
      "1759\n",
      "1777\n",
      "1783\n",
      "1787\n",
      "1789\n",
      "1801\n",
      "1811\n",
      "1823\n",
      "1831\n",
      "1847\n",
      "1861\n",
      "1867\n",
      "1871\n",
      "1873\n",
      "1877\n",
      "1879\n",
      "1889\n",
      "1901\n",
      "1907\n",
      "1913\n",
      "1931\n",
      "1933\n",
      "1949\n",
      "1951\n",
      "1973\n",
      "1979\n",
      "1987\n",
      "1993\n",
      "1997\n",
      "1999\n",
      "2003\n",
      "2011\n",
      "2017\n",
      "2027\n",
      "2029\n",
      "2039\n",
      "2053\n",
      "2063\n",
      "2069\n",
      "2081\n",
      "2083\n",
      "2087\n",
      "2089\n",
      "2099\n",
      "2111\n",
      "2113\n",
      "2129\n",
      "2131\n",
      "2137\n",
      "2141\n",
      "2143\n",
      "2153\n",
      "2161\n",
      "2179\n",
      "2203\n",
      "2207\n",
      "2213\n",
      "2221\n",
      "2237\n",
      "2239\n",
      "2243\n",
      "2251\n",
      "2267\n",
      "2269\n",
      "2273\n",
      "2281\n",
      "2287\n",
      "2293\n",
      "2297\n",
      "2309\n",
      "2311\n",
      "2333\n",
      "2339\n",
      "2341\n",
      "2347\n",
      "2351\n",
      "2357\n",
      "2371\n",
      "2377\n",
      "2381\n",
      "2383\n",
      "2389\n",
      "2393\n",
      "2399\n",
      "2411\n",
      "2417\n",
      "2423\n",
      "2437\n",
      "2441\n",
      "2447\n",
      "2459\n",
      "2467\n",
      "2473\n",
      "2477\n",
      "2503\n",
      "2521\n",
      "2531\n",
      "2539\n",
      "2543\n",
      "2549\n",
      "2551\n",
      "2557\n",
      "2579\n",
      "2591\n",
      "2593\n",
      "2609\n",
      "2617\n",
      "2621\n",
      "2633\n",
      "2647\n",
      "2657\n",
      "2659\n",
      "2663\n",
      "2671\n",
      "2677\n",
      "2683\n",
      "2687\n",
      "2689\n",
      "2693\n",
      "2699\n",
      "2707\n",
      "2711\n",
      "2713\n",
      "2719\n",
      "2729\n",
      "2731\n",
      "2741\n",
      "2749\n",
      "2753\n",
      "2767\n",
      "2777\n",
      "2789\n",
      "2791\n",
      "2797\n",
      "2801\n",
      "2803\n",
      "2819\n",
      "2833\n",
      "2837\n",
      "2843\n",
      "2851\n",
      "2857\n",
      "2861\n",
      "2879\n",
      "2887\n",
      "2897\n",
      "2903\n",
      "2909\n",
      "2917\n",
      "2927\n",
      "2939\n",
      "2953\n",
      "2957\n",
      "2963\n",
      "2969\n",
      "2971\n",
      "2999\n",
      "3001\n",
      "3011\n",
      "3019\n",
      "3023\n",
      "3037\n",
      "3041\n",
      "3049\n",
      "3061\n",
      "3067\n",
      "3079\n",
      "3083\n",
      "3089\n",
      "3109\n",
      "3119\n",
      "3121\n",
      "3137\n",
      "3163\n",
      "3167\n",
      "3169\n",
      "3181\n",
      "3187\n",
      "3191\n",
      "3203\n",
      "3209\n",
      "3217\n",
      "3221\n",
      "3229\n",
      "3251\n",
      "3253\n",
      "3257\n",
      "3259\n",
      "3271\n",
      "3299\n",
      "3301\n",
      "3307\n",
      "3313\n",
      "3319\n",
      "3323\n",
      "3329\n",
      "3331\n",
      "3343\n",
      "3347\n",
      "3359\n",
      "3361\n",
      "3371\n",
      "3373\n",
      "3389\n",
      "3391\n",
      "3407\n",
      "3413\n",
      "3433\n",
      "3449\n",
      "3457\n",
      "3461\n",
      "3463\n",
      "3467\n",
      "3469\n",
      "3491\n",
      "3499\n",
      "3511\n",
      "3517\n",
      "3527\n",
      "3529\n",
      "3533\n",
      "3539\n",
      "3541\n",
      "3547\n",
      "3557\n",
      "3559\n",
      "3571\n",
      "3581\n",
      "3583\n",
      "3593\n",
      "3607\n",
      "3613\n",
      "3617\n",
      "3623\n",
      "3631\n",
      "3637\n",
      "3643\n",
      "3659\n",
      "3671\n",
      "3673\n",
      "3677\n",
      "3691\n",
      "3697\n",
      "3701\n",
      "3709\n",
      "3719\n",
      "3727\n",
      "3733\n",
      "3739\n",
      "3761\n",
      "3767\n",
      "3769\n",
      "3779\n",
      "3793\n",
      "3797\n",
      "3803\n",
      "3821\n",
      "3823\n",
      "3833\n",
      "3847\n",
      "3851\n",
      "3853\n",
      "3863\n",
      "3877\n",
      "3881\n",
      "3889\n",
      "3907\n",
      "3911\n",
      "3917\n",
      "3919\n",
      "3923\n",
      "3929\n",
      "3931\n",
      "3943\n",
      "3947\n",
      "3967\n",
      "3989\n",
      "4001\n",
      "4003\n",
      "4007\n",
      "4013\n",
      "4019\n",
      "4021\n",
      "4027\n",
      "4049\n",
      "4051\n",
      "4057\n",
      "4073\n",
      "4079\n",
      "4091\n",
      "4093\n",
      "4099\n",
      "4111\n",
      "4127\n",
      "4129\n",
      "4133\n",
      "4139\n",
      "4153\n",
      "4157\n",
      "4159\n",
      "4177\n",
      "4201\n",
      "4211\n",
      "4217\n",
      "4219\n",
      "4229\n",
      "4231\n",
      "4241\n",
      "4243\n",
      "4253\n",
      "4259\n",
      "4261\n",
      "4271\n",
      "4273\n",
      "4283\n",
      "4289\n",
      "4297\n",
      "4327\n",
      "4337\n",
      "4339\n",
      "4349\n",
      "4357\n",
      "4363\n",
      "4373\n",
      "4391\n",
      "4397\n",
      "4409\n",
      "4421\n",
      "4423\n",
      "4441\n",
      "4447\n",
      "4451\n",
      "4457\n",
      "4463\n",
      "4481\n",
      "4483\n",
      "4493\n",
      "4507\n",
      "4513\n",
      "4517\n",
      "4519\n",
      "4523\n",
      "4547\n",
      "4549\n",
      "4561\n",
      "4567\n",
      "4583\n",
      "4591\n",
      "4597\n",
      "4603\n",
      "4621\n",
      "4637\n",
      "4639\n",
      "4643\n",
      "4649\n",
      "4651\n",
      "4657\n",
      "4663\n",
      "4673\n",
      "4679\n",
      "4691\n",
      "4703\n",
      "4721\n",
      "4723\n",
      "4729\n",
      "4733\n",
      "4751\n",
      "4759\n",
      "4783\n",
      "4787\n",
      "4789\n",
      "4793\n",
      "4799\n",
      "4801\n",
      "4813\n",
      "4817\n",
      "4831\n",
      "4861\n",
      "4871\n",
      "4877\n",
      "4889\n",
      "4903\n",
      "4909\n",
      "4919\n",
      "4931\n",
      "4933\n",
      "4937\n",
      "4943\n",
      "4951\n",
      "4957\n",
      "4967\n",
      "4969\n",
      "4973\n",
      "4987\n",
      "4993\n",
      "4999\n",
      "5003\n",
      "5009\n",
      "5011\n",
      "5021\n",
      "5023\n",
      "5039\n",
      "5051\n",
      "5059\n",
      "5077\n",
      "5081\n",
      "5087\n",
      "5099\n",
      "5101\n",
      "5107\n",
      "5113\n",
      "5119\n",
      "5147\n",
      "5153\n",
      "5167\n",
      "5171\n",
      "5179\n",
      "5189\n",
      "5197\n",
      "5209\n",
      "5227\n",
      "5231\n",
      "5233\n",
      "5237\n",
      "5261\n",
      "5273\n",
      "5279\n",
      "5281\n",
      "5297\n",
      "5303\n",
      "5309\n",
      "5323\n",
      "5333\n",
      "5347\n",
      "5351\n",
      "5381\n",
      "5387\n",
      "5393\n",
      "5399\n",
      "5407\n",
      "5413\n",
      "5417\n",
      "5419\n",
      "5431\n",
      "5437\n",
      "5441\n",
      "5443\n",
      "5449\n",
      "5471\n",
      "5477\n",
      "5479\n",
      "5483\n",
      "5501\n",
      "5503\n",
      "5507\n",
      "5519\n",
      "5521\n",
      "5527\n",
      "5531\n",
      "5557\n",
      "5563\n",
      "5569\n",
      "5573\n",
      "5581\n",
      "5591\n",
      "5623\n",
      "5639\n",
      "5641\n",
      "5647\n",
      "5651\n",
      "5653\n",
      "5657\n",
      "5659\n",
      "5669\n",
      "5683\n",
      "5689\n",
      "5693\n",
      "5701\n",
      "5711\n",
      "5717\n",
      "5737\n",
      "5741\n",
      "5743\n",
      "5749\n",
      "5779\n",
      "5783\n",
      "5791\n",
      "5801\n",
      "5807\n",
      "5813\n",
      "5821\n",
      "5827\n",
      "5839\n",
      "5843\n",
      "5849\n",
      "5851\n",
      "5857\n",
      "5861\n",
      "5867\n",
      "5869\n",
      "5879\n",
      "5881\n",
      "5897\n",
      "5903\n",
      "5923\n",
      "5927\n",
      "5939\n",
      "5953\n",
      "5981\n",
      "5987\n",
      "6007\n",
      "6011\n",
      "6029\n",
      "6037\n",
      "6043\n",
      "6047\n",
      "6053\n",
      "6067\n",
      "6073\n",
      "6079\n",
      "6089\n",
      "6091\n",
      "6101\n",
      "6113\n",
      "6121\n",
      "6131\n",
      "6133\n",
      "6143\n",
      "6151\n",
      "6163\n",
      "6173\n",
      "6197\n",
      "6199\n",
      "6203\n",
      "6211\n",
      "6217\n",
      "6221\n",
      "6229\n",
      "6247\n",
      "6257\n",
      "6263\n",
      "6269\n",
      "6271\n",
      "6277\n",
      "6287\n",
      "6299\n",
      "6301\n",
      "6311\n",
      "6317\n",
      "6323\n",
      "6329\n",
      "6337\n",
      "6343\n",
      "6353\n",
      "6359\n",
      "6361\n",
      "6367\n",
      "6373\n",
      "6379\n",
      "6389\n",
      "6397\n",
      "6421\n",
      "6427\n",
      "6449\n",
      "6451\n",
      "6469\n",
      "6473\n",
      "6481\n",
      "6491\n",
      "6521\n",
      "6529\n",
      "6547\n",
      "6551\n",
      "6553\n",
      "6563\n",
      "6569\n",
      "6571\n",
      "6577\n",
      "6581\n",
      "6599\n",
      "6607\n",
      "6619\n",
      "6637\n",
      "6653\n",
      "6659\n",
      "6661\n",
      "6673\n",
      "6679\n",
      "6689\n",
      "6691\n",
      "6701\n",
      "6703\n",
      "6709\n",
      "6719\n",
      "6733\n",
      "6737\n",
      "6761\n",
      "6763\n",
      "6779\n",
      "6781\n",
      "6791\n",
      "6793\n",
      "6803\n",
      "6823\n",
      "6827\n",
      "6829\n",
      "6833\n",
      "6841\n",
      "6857\n",
      "6863\n",
      "6869\n",
      "6871\n",
      "6883\n",
      "6899\n",
      "6907\n",
      "6911\n",
      "6917\n",
      "6947\n",
      "6949\n",
      "6959\n",
      "6961\n",
      "6967\n",
      "6971\n",
      "6977\n",
      "6983\n",
      "6991\n",
      "6997\n",
      "7001\n",
      "7013\n",
      "7019\n",
      "7027\n",
      "7039\n",
      "7043\n",
      "7057\n",
      "7069\n",
      "7079\n",
      "7103\n",
      "7109\n",
      "7121\n",
      "7127\n",
      "7129\n",
      "7151\n",
      "7159\n",
      "7177\n",
      "7187\n",
      "7193\n",
      "7207\n",
      "7211\n",
      "7213\n",
      "7219\n",
      "7229\n",
      "7237\n",
      "7243\n",
      "7247\n",
      "7253\n",
      "7283\n",
      "7297\n",
      "7307\n",
      "7309\n",
      "7321\n",
      "7331\n",
      "7333\n",
      "7349\n",
      "7351\n",
      "7369\n",
      "7393\n",
      "7411\n",
      "7417\n",
      "7433\n",
      "7451\n",
      "7457\n",
      "7459\n",
      "7477\n",
      "7481\n",
      "7487\n",
      "7489\n",
      "7499\n",
      "7507\n",
      "7517\n",
      "7523\n",
      "7529\n",
      "7537\n",
      "7541\n",
      "7547\n",
      "7549\n",
      "7559\n",
      "7561\n",
      "7573\n",
      "7577\n",
      "7583\n",
      "7589\n",
      "7591\n",
      "7603\n",
      "7607\n",
      "7621\n",
      "7639\n",
      "7643\n",
      "7649\n",
      "7669\n",
      "7673\n",
      "7681\n",
      "7687\n",
      "7691\n",
      "7699\n",
      "7703\n",
      "7717\n",
      "7723\n",
      "7727\n",
      "7741\n",
      "7753\n",
      "7757\n",
      "7759\n",
      "7789\n",
      "7793\n",
      "7817\n",
      "7823\n",
      "7829\n",
      "7841\n",
      "7853\n",
      "7867\n",
      "7873\n",
      "7877\n",
      "7879\n",
      "7883\n",
      "7901\n",
      "7907\n",
      "7919\n",
      "7927\n",
      "7933\n",
      "7937\n",
      "7949\n",
      "7951\n",
      "7963\n",
      "7993\n",
      "8009\n",
      "8011\n",
      "8017\n",
      "8039\n",
      "8053\n",
      "8059\n",
      "8069\n",
      "8081\n",
      "8087\n",
      "8089\n",
      "8093\n",
      "8101\n",
      "8111\n",
      "8117\n",
      "8123\n",
      "8147\n",
      "8161\n",
      "8167\n",
      "8171\n",
      "8179\n",
      "8191\n",
      "8209\n",
      "8219\n",
      "8221\n",
      "8231\n",
      "8233\n",
      "8237\n",
      "8243\n",
      "8263\n",
      "8269\n",
      "8273\n",
      "8287\n",
      "8291\n",
      "8293\n",
      "8297\n",
      "8311\n",
      "8317\n",
      "8329\n",
      "8353\n",
      "8363\n",
      "8369\n",
      "8377\n",
      "8387\n",
      "8389\n",
      "8419\n",
      "8423\n",
      "8429\n",
      "8431\n",
      "8443\n",
      "8447\n",
      "8461\n",
      "8467\n",
      "8501\n",
      "8513\n",
      "8521\n",
      "8527\n",
      "8537\n",
      "8539\n",
      "8543\n",
      "8563\n",
      "8573\n",
      "8581\n",
      "8597\n",
      "8599\n",
      "8609\n",
      "8623\n",
      "8627\n",
      "8629\n",
      "8641\n",
      "8647\n",
      "8663\n",
      "8669\n",
      "8677\n",
      "8681\n",
      "8689\n",
      "8693\n",
      "8699\n",
      "8707\n",
      "8713\n",
      "8719\n",
      "8731\n",
      "8737\n",
      "8741\n",
      "8747\n",
      "8753\n",
      "8761\n",
      "8779\n",
      "8783\n",
      "8803\n",
      "8807\n",
      "8819\n",
      "8821\n",
      "8831\n",
      "8837\n",
      "8839\n",
      "8849\n",
      "8861\n",
      "8863\n",
      "8867\n",
      "8887\n",
      "8893\n",
      "8923\n",
      "8929\n",
      "8933\n",
      "8941\n",
      "8951\n",
      "8963\n",
      "8969\n",
      "8971\n",
      "8999\n",
      "9001\n",
      "9007\n",
      "9011\n",
      "9013\n",
      "9029\n",
      "9041\n",
      "9043\n",
      "9049\n",
      "9059\n",
      "9067\n",
      "9091\n",
      "9103\n",
      "9109\n",
      "9127\n",
      "9133\n",
      "9137\n",
      "9151\n",
      "9157\n",
      "9161\n",
      "9173\n",
      "9181\n",
      "9187\n",
      "9199\n",
      "9203\n",
      "9209\n",
      "9221\n",
      "9227\n",
      "9239\n",
      "9241\n",
      "9257\n",
      "9277\n",
      "9281\n",
      "9283\n",
      "9293\n",
      "9311\n",
      "9319\n",
      "9323\n",
      "9337\n",
      "9341\n",
      "9343\n",
      "9349\n",
      "9371\n",
      "9377\n",
      "9391\n",
      "9397\n",
      "9403\n",
      "9413\n",
      "9419\n",
      "9421\n",
      "9431\n",
      "9433\n",
      "9437\n",
      "9439\n",
      "9461\n",
      "9463\n",
      "9467\n",
      "9473\n",
      "9479\n",
      "9491\n",
      "9497\n",
      "9511\n",
      "9521\n",
      "9533\n",
      "9539\n",
      "9547\n",
      "9551\n",
      "9587\n",
      "9601\n",
      "9613\n",
      "9619\n",
      "9623\n",
      "9629\n",
      "9631\n",
      "9643\n",
      "9649\n",
      "9661\n",
      "9677\n",
      "9679\n",
      "9689\n",
      "9697\n",
      "9719\n",
      "9721\n",
      "9733\n",
      "9739\n",
      "9743\n",
      "9749\n",
      "9767\n",
      "9769\n",
      "9781\n",
      "9787\n",
      "9791\n",
      "9803\n",
      "9811\n",
      "9817\n",
      "9829\n",
      "9833\n",
      "9839\n",
      "9851\n",
      "9857\n",
      "9859\n",
      "9871\n",
      "9883\n",
      "9887\n",
      "9901\n",
      "9907\n",
      "9923\n",
      "9929\n",
      "9931\n",
      "9941\n",
      "9949\n",
      "9967\n",
      "9973\n"
     ]
    }
   ],
   "source": [
    " def SieveOfEratosthenes(num):\n",
    "    prime = [True for i in range(num+1)]\n",
    "\n",
    "    p = 2\n",
    "    while (p * p <= num):\n",
    " \n",
    "        if (prime[p] == True):\n",
    "\n",
    "            for i in range(p * p, num+1, p):\n",
    "                prime[i] = False\n",
    "        p += 1\n",
    " \n",
    "    for p in range(2, num+1):\n",
    "        if prime[p]:\n",
    "            print(p)\n",
    " \n",
    " \n",
    "if __name__ == '__main__':\n",
    "    num = 10000\n",
    "    print(\"Following are the prime numbers smaller\"),\n",
    "    print(\"than or equal to\", num)\n",
    "    SieveOfEratosthenes(num)"
   ]
  },
  {
   "cell_type": "code",
   "execution_count": null,
   "id": "cb0fd4a4-4ac8-4d9d-a1cd-c64ab67b0355",
   "metadata": {},
   "outputs": [],
   "source": []
  }
 ],
 "metadata": {
  "kernelspec": {
   "display_name": "Python 3 (ipykernel)",
   "language": "python",
   "name": "python3"
  },
  "language_info": {
   "codemirror_mode": {
    "name": "ipython",
    "version": 3
   },
   "file_extension": ".py",
   "mimetype": "text/x-python",
   "name": "python",
   "nbconvert_exporter": "python",
   "pygments_lexer": "ipython3",
   "version": "3.9.16"
  }
 },
 "nbformat": 4,
 "nbformat_minor": 5
}
